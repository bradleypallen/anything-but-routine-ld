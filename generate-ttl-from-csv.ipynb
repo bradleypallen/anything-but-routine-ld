{
 "cells": [
  {
   "cell_type": "markdown",
   "metadata": {},
   "source": [
    "## Load packages, initialize sentence tokenization resource"
   ]
  },
  {
   "cell_type": "code",
   "execution_count": 1,
   "metadata": {
    "collapsed": false
   },
   "outputs": [
    {
     "name": "stdout",
     "output_type": "stream",
     "text": [
      "[nltk_data] Downloading package punkt to\n",
      "[nltk_data]     /Users/bradleyallen/nltk_data...\n",
      "[nltk_data]   Package punkt is already up-to-date!\n"
     ]
    },
    {
     "data": {
      "text/plain": [
       "True"
      ]
     },
     "execution_count": 1,
     "metadata": {},
     "output_type": "execute_result"
    }
   ],
   "source": [
    "import numpy as np, pandas as pd, rdflib, re, nltk, collections\n",
    "from rdflib.namespace import RDF, RDFS\n",
    "from rdflib import URIRef, BNode, Literal\n",
    "from slugify import slugify\n",
    "nltk.download('punkt')"
   ]
  },
  {
   "cell_type": "markdown",
   "metadata": {},
   "source": [
    "## Load CSV file for ABR A list"
   ]
  },
  {
   "cell_type": "code",
   "execution_count": 2,
   "metadata": {
    "collapsed": true
   },
   "outputs": [],
   "source": [
    "df = pd.read_csv('Schottlaender v4.0 - A.csv')"
   ]
  },
  {
   "cell_type": "markdown",
   "metadata": {},
   "source": [
    "## Extract entity names and features"
   ]
  },
  {
   "cell_type": "markdown",
   "metadata": {},
   "source": [
    "### Normalize all whitespace to spaces in notes"
   ]
  },
  {
   "cell_type": "code",
   "execution_count": 3,
   "metadata": {
    "collapsed": false
   },
   "outputs": [],
   "source": [
    "df['notes'] = df['notes'].str.replace('\\s', ' ')"
   ]
  },
  {
   "cell_type": "markdown",
   "metadata": {},
   "source": [
    "### Places"
   ]
  },
  {
   "cell_type": "code",
   "execution_count": 4,
   "metadata": {
    "collapsed": true
   },
   "outputs": [],
   "source": [
    "df['place'] = df['publication'].str.extract('(.+)\\:', expand=False)"
   ]
  },
  {
   "cell_type": "markdown",
   "metadata": {},
   "source": [
    "### Publishers"
   ]
  },
  {
   "cell_type": "code",
   "execution_count": 5,
   "metadata": {
    "collapsed": true
   },
   "outputs": [],
   "source": [
    "df['publisher'] = df['publication'].str.extract('\\: (.+)', expand=False)"
   ]
  },
  {
   "cell_type": "markdown",
   "metadata": {},
   "source": [
    "### Bindings"
   ]
  },
  {
   "cell_type": "code",
   "execution_count": 6,
   "metadata": {
    "collapsed": true
   },
   "outputs": [],
   "source": [
    "df['binding'] = df['notes'].str.extract('(\\S+bound[^.]*)\\.', expand=False)\n",
    "df['binding'] = df['binding'].str.strip()"
   ]
  },
  {
   "cell_type": "code",
   "execution_count": 7,
   "metadata": {
    "collapsed": false
   },
   "outputs": [
    {
     "data": {
      "text/plain": [
       "Hardbound                                                                                                1\n",
       "Hardbound (issued without dustjacket)                                                                    2\n",
       "Hardbound (issued without dustjacket), and softbound                                                     4\n",
       "Hardbound in dustjacket                                                                                 17\n",
       "Hardbound in dustjacket (no softbound issued)                                                            7\n",
       "Hardbound in dustjacket, and softbound                                                                  19\n",
       "Hardbound in dustjacket, issued with compact disc bound in rear                                          1\n",
       "Hardbound in tissue dustjacket, and softbound                                                            1\n",
       "Hardbound with hand-made orange tissue guards inserted                                                   1\n",
       "Hardbound, and softbound                                                                                 3\n",
       "Hardbound, issued without dust jacket                                                                    1\n",
       "Hardbound, issued without dustjacket                                                                     2\n",
       "Hardbound, issued without dustjacket in Side A, white; Side B, black;  matrix number: UB LP 1 A S/S]     1\n",
       "Hardbound; handbound (issued without dustjacket in slipcase)                                             1\n",
       "Softbound                                                                                               53\n",
       "Softbound (no hardbound issued)                                                                         54\n",
       "Softbound in dustjacket (no hardbound issued)                                                            4\n",
       "Softbound with dustjacket (no hardbound issued)                                                          1\n",
       "Softbound; handbound (no hardbound issued)                                                               1\n",
       "Staplebound                                                                                              5\n",
       "Staplebound (no hardbound issued)                                                                       12\n",
       "Staplebound mimeograph  (no hardbound issued)                                                            1\n",
       "Staplebound pamphlet                                                                                     2\n",
       "paperbound ed                                                                                            1\n",
       "Name: binding, dtype: int64"
      ]
     },
     "execution_count": 7,
     "metadata": {},
     "output_type": "execute_result"
    }
   ],
   "source": [
    "df['binding'].value_counts().sort_index()"
   ]
  },
  {
   "cell_type": "markdown",
   "metadata": {},
   "source": [
    "### Copyright dates"
   ]
  },
  {
   "cell_type": "code",
   "execution_count": 8,
   "metadata": {
    "collapsed": true
   },
   "outputs": [],
   "source": [
    "df['copyrightDate'] = df['notes'].str.extract('©(\\w+)', expand=False)"
   ]
  },
  {
   "cell_type": "markdown",
   "metadata": {},
   "source": [
    "### M&M instance classification"
   ]
  },
  {
   "cell_type": "code",
   "execution_count": 9,
   "metadata": {
    "collapsed": true
   },
   "outputs": [],
   "source": [
    "df['M&M'] = df['notes'].str.extract('\\{M\\&M(.*)\\}', expand=False)"
   ]
  },
  {
   "cell_type": "markdown",
   "metadata": {},
   "source": [
    "### Promotional materials"
   ]
  },
  {
   "cell_type": "code",
   "execution_count": 10,
   "metadata": {
    "collapsed": false
   },
   "outputs": [],
   "source": [
    "promotionalMaterials = pd.DataFrame(df[df['notes'].str.contains(' 1. \\[', na = False)])"
   ]
  },
  {
   "cell_type": "code",
   "execution_count": 11,
   "metadata": {
    "collapsed": false
   },
   "outputs": [
    {
     "data": {
      "text/html": [
       "<div>\n",
       "<style>\n",
       "    .dataframe thead tr:only-child th {\n",
       "        text-align: right;\n",
       "    }\n",
       "\n",
       "    .dataframe thead th {\n",
       "        text-align: left;\n",
       "    }\n",
       "\n",
       "    .dataframe tbody tr th {\n",
       "        vertical-align: top;\n",
       "    }\n",
       "</style>\n",
       "<table border=\"1\" class=\"dataframe\">\n",
       "  <thead>\n",
       "    <tr style=\"text-align: right;\">\n",
       "      <th></th>\n",
       "      <th>work</th>\n",
       "      <th>workTitle</th>\n",
       "      <th>instance</th>\n",
       "      <th>instanceTitle</th>\n",
       "      <th>date</th>\n",
       "      <th>publication</th>\n",
       "      <th>notes</th>\n",
       "      <th>place</th>\n",
       "      <th>publisher</th>\n",
       "      <th>binding</th>\n",
       "      <th>copyrightDate</th>\n",
       "      <th>M&amp;M</th>\n",
       "    </tr>\n",
       "  </thead>\n",
       "  <tbody>\n",
       "    <tr>\n",
       "      <th>12</th>\n",
       "      <td>A2</td>\n",
       "      <td>Naked Lunch</td>\n",
       "      <td>B</td>\n",
       "      <td>Naked Lunch</td>\n",
       "      <td>[1962]</td>\n",
       "      <td>New York: Grove Press</td>\n",
       "      <td>©1959. Hardbound in dustjacket. {M&amp;M A2b}  “Th...</td>\n",
       "      <td>New York</td>\n",
       "      <td>Grove Press</td>\n",
       "      <td>Hardbound in dustjacket</td>\n",
       "      <td>1959</td>\n",
       "      <td>A2b}  “The text in this edition differs quite...</td>\n",
       "    </tr>\n",
       "    <tr>\n",
       "      <th>95</th>\n",
       "      <td>A24</td>\n",
       "      <td>Electronic Revolution 1970-71</td>\n",
       "      <td>A</td>\n",
       "      <td>Electronic Revolution 1970-71</td>\n",
       "      <td>1971</td>\n",
       "      <td>Cambridge: Blackmoor Head Press</td>\n",
       "      <td>In English and French; French translation by J...</td>\n",
       "      <td>Cambridge</td>\n",
       "      <td>Blackmoor Head Press</td>\n",
       "      <td>Softbound (no hardbound issued)</td>\n",
       "      <td>NaN</td>\n",
       "      <td>A21a</td>\n",
       "    </tr>\n",
       "    <tr>\n",
       "      <th>96</th>\n",
       "      <td>A24</td>\n",
       "      <td>Electronic Revolution 1970-71</td>\n",
       "      <td>B</td>\n",
       "      <td>Die elektronische Revolution = Electronic Revo...</td>\n",
       "      <td>1972</td>\n",
       "      <td>Göttingen: Expanded Media Editions</td>\n",
       "      <td>In German and English. German translation by C...</td>\n",
       "      <td>Göttingen</td>\n",
       "      <td>Expanded Media Editions</td>\n",
       "      <td>Softbound in dustjacket (no hardbound issued)</td>\n",
       "      <td>NaN</td>\n",
       "      <td>NaN</td>\n",
       "    </tr>\n",
       "    <tr>\n",
       "      <th>140</th>\n",
       "      <td>A42</td>\n",
       "      <td>Doctor Benway: A [Variant] Passage from The Na...</td>\n",
       "      <td>A</td>\n",
       "      <td>Doctor Benway: A [Variant] Passage from The Na...</td>\n",
       "      <td>1979</td>\n",
       "      <td>Santa Barbara, Calif.: Bradford Morrow</td>\n",
       "      <td>With a new introduction by Burroughs. Hardboun...</td>\n",
       "      <td>Santa Barbara, Calif.</td>\n",
       "      <td>Bradford Morrow</td>\n",
       "      <td>Hardbound in dustjacket, and softbound</td>\n",
       "      <td>NaN</td>\n",
       "      <td>NaN</td>\n",
       "    </tr>\n",
       "    <tr>\n",
       "      <th>160</th>\n",
       "      <td>A54</td>\n",
       "      <td>The Burroughs File</td>\n",
       "      <td>A</td>\n",
       "      <td>The Burroughs File</td>\n",
       "      <td>1984</td>\n",
       "      <td>San Francisco: City Lights Books</td>\n",
       "      <td>Hardbound, and softbound. “Including complete ...</td>\n",
       "      <td>San Francisco</td>\n",
       "      <td>City Lights Books</td>\n",
       "      <td>Hardbound, and softbound</td>\n",
       "      <td>NaN</td>\n",
       "      <td>NaN</td>\n",
       "    </tr>\n",
       "    <tr>\n",
       "      <th>162</th>\n",
       "      <td>A56</td>\n",
       "      <td>The Place of Dead Roads</td>\n",
       "      <td>A</td>\n",
       "      <td>The Place of Dead Roads</td>\n",
       "      <td>1984</td>\n",
       "      <td>New York: Holt, Rinehart, and Winston</td>\n",
       "      <td>©1983. Hardbound in dustjacket. “The original ...</td>\n",
       "      <td>New York</td>\n",
       "      <td>Holt, Rinehart, and Winston</td>\n",
       "      <td>Hardbound in dustjacket</td>\n",
       "      <td>1983</td>\n",
       "      <td>NaN</td>\n",
       "    </tr>\n",
       "    <tr>\n",
       "      <th>174</th>\n",
       "      <td>A59</td>\n",
       "      <td>Queer</td>\n",
       "      <td>A</td>\n",
       "      <td>Queer</td>\n",
       "      <td>1985</td>\n",
       "      <td>New York: Viking/Penguin</td>\n",
       "      <td>Written in 1953. Hardbound in dustjacket. “Wit...</td>\n",
       "      <td>New York</td>\n",
       "      <td>Viking/Penguin</td>\n",
       "      <td>Hardbound in dustjacket</td>\n",
       "      <td>NaN</td>\n",
       "      <td>NaN</td>\n",
       "    </tr>\n",
       "    <tr>\n",
       "      <th>190</th>\n",
       "      <td>A65</td>\n",
       "      <td>Tornado Alley</td>\n",
       "      <td>A</td>\n",
       "      <td>Tornado Alley</td>\n",
       "      <td>1989</td>\n",
       "      <td>Cherry Valley, N.Y.: Cherry Valley Editions</td>\n",
       "      <td>Tornado Alley. Illustrations by S. Clay Wilson...</td>\n",
       "      <td>Cherry Valley, N.Y.</td>\n",
       "      <td>Cherry Valley Editions</td>\n",
       "      <td>Hardbound (issued without dustjacket), and sof...</td>\n",
       "      <td>NaN</td>\n",
       "      <td>NaN</td>\n",
       "    </tr>\n",
       "    <tr>\n",
       "      <th>191</th>\n",
       "      <td>A66</td>\n",
       "      <td>Ghost of Chance</td>\n",
       "      <td>A</td>\n",
       "      <td>Ghost of Chance</td>\n",
       "      <td>1991</td>\n",
       "      <td>New York: Library Fellows of the Whitney Museu...</td>\n",
       "      <td>[Edited by James Grauerholz.] Illustrated by G...</td>\n",
       "      <td>New York</td>\n",
       "      <td>Library Fellows of the Whitney Museum of Ameri...</td>\n",
       "      <td>Hardbound; handbound (issued without dustjacke...</td>\n",
       "      <td>NaN</td>\n",
       "      <td>NaN</td>\n",
       "    </tr>\n",
       "    <tr>\n",
       "      <th>192</th>\n",
       "      <td>A66</td>\n",
       "      <td>Ghost of Chance</td>\n",
       "      <td>B</td>\n",
       "      <td>Ghost of Chance</td>\n",
       "      <td>1995</td>\n",
       "      <td>New York: Serpent’s Tail/High Risk Books</td>\n",
       "      <td>Hardbound, issued without dustjacket. “First p...</td>\n",
       "      <td>New York</td>\n",
       "      <td>Serpent’s Tail/High Risk Books</td>\n",
       "      <td>Hardbound, issued without dustjacket</td>\n",
       "      <td>NaN</td>\n",
       "      <td>NaN</td>\n",
       "    </tr>\n",
       "    <tr>\n",
       "      <th>213</th>\n",
       "      <td>A82</td>\n",
       "      <td>The Travel Agency Is on Fire</td>\n",
       "      <td>A</td>\n",
       "      <td>The Travel Agency Is on Fire</td>\n",
       "      <td>2015</td>\n",
       "      <td>New York: The Center for the Humanities, The G...</td>\n",
       "      <td>Alex Wermer-Colan, ed. (Lost and Found: The CU...</td>\n",
       "      <td>New York</td>\n",
       "      <td>The Center for the Humanities, The Graduate Ce...</td>\n",
       "      <td>Staplebound</td>\n",
       "      <td>NaN</td>\n",
       "      <td>NaN</td>\n",
       "    </tr>\n",
       "  </tbody>\n",
       "</table>\n",
       "</div>"
      ],
      "text/plain": [
       "    work                                          workTitle instance  \\\n",
       "12    A2                                        Naked Lunch        B   \n",
       "95   A24                      Electronic Revolution 1970-71        A   \n",
       "96   A24                      Electronic Revolution 1970-71        B   \n",
       "140  A42  Doctor Benway: A [Variant] Passage from The Na...        A   \n",
       "160  A54                                 The Burroughs File        A   \n",
       "162  A56                            The Place of Dead Roads        A   \n",
       "174  A59                                              Queer        A   \n",
       "190  A65                                      Tornado Alley        A   \n",
       "191  A66                                    Ghost of Chance        A   \n",
       "192  A66                                    Ghost of Chance        B   \n",
       "213  A82                       The Travel Agency Is on Fire        A   \n",
       "\n",
       "                                         instanceTitle    date  \\\n",
       "12                                         Naked Lunch  [1962]   \n",
       "95                       Electronic Revolution 1970-71    1971   \n",
       "96   Die elektronische Revolution = Electronic Revo...    1972   \n",
       "140  Doctor Benway: A [Variant] Passage from The Na...    1979   \n",
       "160                                 The Burroughs File    1984   \n",
       "162                            The Place of Dead Roads    1984   \n",
       "174                                              Queer    1985   \n",
       "190                                      Tornado Alley    1989   \n",
       "191                                    Ghost of Chance    1991   \n",
       "192                                    Ghost of Chance    1995   \n",
       "213                       The Travel Agency Is on Fire    2015   \n",
       "\n",
       "                                           publication  \\\n",
       "12                               New York: Grove Press   \n",
       "95                     Cambridge: Blackmoor Head Press   \n",
       "96                  Göttingen: Expanded Media Editions   \n",
       "140             Santa Barbara, Calif.: Bradford Morrow   \n",
       "160                   San Francisco: City Lights Books   \n",
       "162              New York: Holt, Rinehart, and Winston   \n",
       "174                           New York: Viking/Penguin   \n",
       "190        Cherry Valley, N.Y.: Cherry Valley Editions   \n",
       "191  New York: Library Fellows of the Whitney Museu...   \n",
       "192           New York: Serpent’s Tail/High Risk Books   \n",
       "213  New York: The Center for the Humanities, The G...   \n",
       "\n",
       "                                                 notes                  place  \\\n",
       "12   ©1959. Hardbound in dustjacket. {M&M A2b}  “Th...               New York   \n",
       "95   In English and French; French translation by J...              Cambridge   \n",
       "96   In German and English. German translation by C...              Göttingen   \n",
       "140  With a new introduction by Burroughs. Hardboun...  Santa Barbara, Calif.   \n",
       "160  Hardbound, and softbound. “Including complete ...          San Francisco   \n",
       "162  ©1983. Hardbound in dustjacket. “The original ...               New York   \n",
       "174  Written in 1953. Hardbound in dustjacket. “Wit...               New York   \n",
       "190  Tornado Alley. Illustrations by S. Clay Wilson...    Cherry Valley, N.Y.   \n",
       "191  [Edited by James Grauerholz.] Illustrated by G...               New York   \n",
       "192  Hardbound, issued without dustjacket. “First p...               New York   \n",
       "213  Alex Wermer-Colan, ed. (Lost and Found: The CU...               New York   \n",
       "\n",
       "                                             publisher  \\\n",
       "12                                         Grove Press   \n",
       "95                                Blackmoor Head Press   \n",
       "96                             Expanded Media Editions   \n",
       "140                                    Bradford Morrow   \n",
       "160                                  City Lights Books   \n",
       "162                        Holt, Rinehart, and Winston   \n",
       "174                                     Viking/Penguin   \n",
       "190                             Cherry Valley Editions   \n",
       "191  Library Fellows of the Whitney Museum of Ameri...   \n",
       "192                     Serpent’s Tail/High Risk Books   \n",
       "213  The Center for the Humanities, The Graduate Ce...   \n",
       "\n",
       "                                               binding copyrightDate  \\\n",
       "12                             Hardbound in dustjacket          1959   \n",
       "95                     Softbound (no hardbound issued)           NaN   \n",
       "96       Softbound in dustjacket (no hardbound issued)           NaN   \n",
       "140             Hardbound in dustjacket, and softbound           NaN   \n",
       "160                           Hardbound, and softbound           NaN   \n",
       "162                            Hardbound in dustjacket          1983   \n",
       "174                            Hardbound in dustjacket           NaN   \n",
       "190  Hardbound (issued without dustjacket), and sof...           NaN   \n",
       "191  Hardbound; handbound (issued without dustjacke...           NaN   \n",
       "192               Hardbound, issued without dustjacket           NaN   \n",
       "213                                        Staplebound           NaN   \n",
       "\n",
       "                                                   M&M  \n",
       "12    A2b}  “The text in this edition differs quite...  \n",
       "95                                                A21a  \n",
       "96                                                 NaN  \n",
       "140                                                NaN  \n",
       "160                                                NaN  \n",
       "162                                                NaN  \n",
       "174                                                NaN  \n",
       "190                                                NaN  \n",
       "191                                                NaN  \n",
       "192                                                NaN  \n",
       "213                                                NaN  "
      ]
     },
     "execution_count": 11,
     "metadata": {},
     "output_type": "execute_result"
    }
   ],
   "source": [
    "promotionalMaterials"
   ]
  },
  {
   "cell_type": "code",
   "execution_count": 12,
   "metadata": {
    "collapsed": false
   },
   "outputs": [
    {
     "data": {
      "text/html": [
       "<div>\n",
       "<style>\n",
       "    .dataframe thead tr:only-child th {\n",
       "        text-align: right;\n",
       "    }\n",
       "\n",
       "    .dataframe thead th {\n",
       "        text-align: left;\n",
       "    }\n",
       "\n",
       "    .dataframe tbody tr th {\n",
       "        vertical-align: top;\n",
       "    }\n",
       "</style>\n",
       "<table border=\"1\" class=\"dataframe\">\n",
       "  <thead>\n",
       "    <tr style=\"text-align: right;\">\n",
       "      <th></th>\n",
       "      <th>work</th>\n",
       "      <th>workTitle</th>\n",
       "      <th>instance</th>\n",
       "      <th>instanceTitle</th>\n",
       "      <th>date</th>\n",
       "      <th>publication</th>\n",
       "      <th>notes</th>\n",
       "      <th>place</th>\n",
       "      <th>publisher</th>\n",
       "      <th>binding</th>\n",
       "      <th>copyrightDate</th>\n",
       "      <th>M&amp;M</th>\n",
       "    </tr>\n",
       "  </thead>\n",
       "  <tbody>\n",
       "    <tr>\n",
       "      <th>12</th>\n",
       "      <td>A2</td>\n",
       "      <td>Naked Lunch</td>\n",
       "      <td>B</td>\n",
       "      <td>Naked Lunch</td>\n",
       "      <td>[1962]</td>\n",
       "      <td>New York: Grove Press</td>\n",
       "      <td>©1959. Hardbound in dustjacket. {M&amp;M A2b}  “Th...</td>\n",
       "      <td>New York</td>\n",
       "      <td>Grove Press</td>\n",
       "      <td>Hardbound in dustjacket</td>\n",
       "      <td>1959</td>\n",
       "      <td>A2b}  “The text in this edition differs quite...</td>\n",
       "    </tr>\n",
       "    <tr>\n",
       "      <th>78</th>\n",
       "      <td>A16</td>\n",
       "      <td>Valentines Day Reading</td>\n",
       "      <td>A</td>\n",
       "      <td>Valentines Day Reading</td>\n",
       "      <td>1965</td>\n",
       "      <td>New York: American Theatre for Poets</td>\n",
       "      <td>Staplebound. {M&amp;M F12} A mimeographed pamphlet...</td>\n",
       "      <td>New York</td>\n",
       "      <td>American Theatre for Poets</td>\n",
       "      <td>Staplebound</td>\n",
       "      <td>NaN</td>\n",
       "      <td>F12</td>\n",
       "    </tr>\n",
       "    <tr>\n",
       "      <th>79</th>\n",
       "      <td>A17</td>\n",
       "      <td>So Who Owns Death TV?</td>\n",
       "      <td>A</td>\n",
       "      <td>So Who Owns Death TV?</td>\n",
       "      <td>1967</td>\n",
       "      <td>San Francisco: Beach Books, Texts, &amp; Documents</td>\n",
       "      <td>With Claude Pélieu and Carl Weissner. (A Black...</td>\n",
       "      <td>San Francisco</td>\n",
       "      <td>Beach Books, Texts, &amp; Documents</td>\n",
       "      <td>Staplebound (no hardbound issued)</td>\n",
       "      <td>NaN</td>\n",
       "      <td>A13a</td>\n",
       "    </tr>\n",
       "    <tr>\n",
       "      <th>80</th>\n",
       "      <td>A17</td>\n",
       "      <td>So Who Owns Death TV?</td>\n",
       "      <td>B</td>\n",
       "      <td>So Who Owns Death TV?</td>\n",
       "      <td>1967</td>\n",
       "      <td>San Francisco: Beach Books, Texts, &amp; Documents</td>\n",
       "      <td>[2nd expanded ed.] (A Black Bag Pamphlet) Stap...</td>\n",
       "      <td>San Francisco</td>\n",
       "      <td>Beach Books, Texts, &amp; Documents</td>\n",
       "      <td>Staplebound (no hardbound issued)</td>\n",
       "      <td>NaN</td>\n",
       "      <td>A13b</td>\n",
       "    </tr>\n",
       "    <tr>\n",
       "      <th>84</th>\n",
       "      <td>A19</td>\n",
       "      <td>Scientology Revisited</td>\n",
       "      <td>A</td>\n",
       "      <td>Scientology Revisited</td>\n",
       "      <td>1968?</td>\n",
       "      <td>[n.p.]</td>\n",
       "      <td>Staplebound pamphlet.  Four-color glossy wraps...</td>\n",
       "      <td>NaN</td>\n",
       "      <td>NaN</td>\n",
       "      <td>Staplebound pamphlet</td>\n",
       "      <td>NaN</td>\n",
       "      <td>NaN</td>\n",
       "    </tr>\n",
       "    <tr>\n",
       "      <th>85</th>\n",
       "      <td>A19</td>\n",
       "      <td>Scientology Revisited</td>\n",
       "      <td>B</td>\n",
       "      <td>Scientology Revisited</td>\n",
       "      <td>1969?</td>\n",
       "      <td>[n.p.]</td>\n",
       "      <td>Staplebound pamphlet. B&amp;W matte wraps; 1 stapl...</td>\n",
       "      <td>NaN</td>\n",
       "      <td>NaN</td>\n",
       "      <td>Staplebound pamphlet</td>\n",
       "      <td>NaN</td>\n",
       "      <td>NaN</td>\n",
       "    </tr>\n",
       "    <tr>\n",
       "      <th>87</th>\n",
       "      <td>A21</td>\n",
       "      <td>The Dead Star</td>\n",
       "      <td>A</td>\n",
       "      <td>The Dead Star</td>\n",
       "      <td>1969</td>\n",
       "      <td>San Francisco: Nova Broadcast Press</td>\n",
       "      <td>(Nova Broadcast, No. 5) Distributed by City Li...</td>\n",
       "      <td>San Francisco</td>\n",
       "      <td>Nova Broadcast Press</td>\n",
       "      <td>Staplebound (no hardbound issued)</td>\n",
       "      <td>1969</td>\n",
       "      <td>A14a</td>\n",
       "    </tr>\n",
       "    <tr>\n",
       "      <th>96</th>\n",
       "      <td>A24</td>\n",
       "      <td>Electronic Revolution 1970-71</td>\n",
       "      <td>B</td>\n",
       "      <td>Die elektronische Revolution = Electronic Revo...</td>\n",
       "      <td>1972</td>\n",
       "      <td>Göttingen: Expanded Media Editions</td>\n",
       "      <td>In German and English. German translation by C...</td>\n",
       "      <td>Göttingen</td>\n",
       "      <td>Expanded Media Editions</td>\n",
       "      <td>Softbound in dustjacket (no hardbound issued)</td>\n",
       "      <td>NaN</td>\n",
       "      <td>NaN</td>\n",
       "    </tr>\n",
       "    <tr>\n",
       "      <th>186</th>\n",
       "      <td>A63</td>\n",
       "      <td>Clause 27 Is Proposition 6 Is the Whole Tamale</td>\n",
       "      <td>A</td>\n",
       "      <td>Clause 27 Is Proposition 6 Is the Whole Tamale</td>\n",
       "      <td>[1989?]</td>\n",
       "      <td>[n.p.]: The Horse Press</td>\n",
       "      <td>Pamphlet. Issued with two different cover colo...</td>\n",
       "      <td>[n.p.]</td>\n",
       "      <td>The Horse Press</td>\n",
       "      <td>NaN</td>\n",
       "      <td>NaN</td>\n",
       "      <td>NaN</td>\n",
       "    </tr>\n",
       "    <tr>\n",
       "      <th>191</th>\n",
       "      <td>A66</td>\n",
       "      <td>Ghost of Chance</td>\n",
       "      <td>A</td>\n",
       "      <td>Ghost of Chance</td>\n",
       "      <td>1991</td>\n",
       "      <td>New York: Library Fellows of the Whitney Museu...</td>\n",
       "      <td>[Edited by James Grauerholz.] Illustrated by G...</td>\n",
       "      <td>New York</td>\n",
       "      <td>Library Fellows of the Whitney Museum of Ameri...</td>\n",
       "      <td>Hardbound; handbound (issued without dustjacke...</td>\n",
       "      <td>NaN</td>\n",
       "      <td>NaN</td>\n",
       "    </tr>\n",
       "  </tbody>\n",
       "</table>\n",
       "</div>"
      ],
      "text/plain": [
       "    work                                       workTitle instance  \\\n",
       "12    A2                                     Naked Lunch        B   \n",
       "78   A16                          Valentines Day Reading        A   \n",
       "79   A17                           So Who Owns Death TV?        A   \n",
       "80   A17                           So Who Owns Death TV?        B   \n",
       "84   A19                           Scientology Revisited        A   \n",
       "85   A19                           Scientology Revisited        B   \n",
       "87   A21                                   The Dead Star        A   \n",
       "96   A24                   Electronic Revolution 1970-71        B   \n",
       "186  A63  Clause 27 Is Proposition 6 Is the Whole Tamale        A   \n",
       "191  A66                                 Ghost of Chance        A   \n",
       "\n",
       "                                         instanceTitle     date  \\\n",
       "12                                         Naked Lunch   [1962]   \n",
       "78                              Valentines Day Reading     1965   \n",
       "79                               So Who Owns Death TV?     1967   \n",
       "80                               So Who Owns Death TV?     1967   \n",
       "84                               Scientology Revisited    1968?   \n",
       "85                               Scientology Revisited    1969?   \n",
       "87                                       The Dead Star     1969   \n",
       "96   Die elektronische Revolution = Electronic Revo...     1972   \n",
       "186     Clause 27 Is Proposition 6 Is the Whole Tamale  [1989?]   \n",
       "191                                    Ghost of Chance     1991   \n",
       "\n",
       "                                           publication  \\\n",
       "12                               New York: Grove Press   \n",
       "78                New York: American Theatre for Poets   \n",
       "79      San Francisco: Beach Books, Texts, & Documents   \n",
       "80      San Francisco: Beach Books, Texts, & Documents   \n",
       "84                                              [n.p.]   \n",
       "85                                              [n.p.]   \n",
       "87                 San Francisco: Nova Broadcast Press   \n",
       "96                  Göttingen: Expanded Media Editions   \n",
       "186                            [n.p.]: The Horse Press   \n",
       "191  New York: Library Fellows of the Whitney Museu...   \n",
       "\n",
       "                                                 notes          place  \\\n",
       "12   ©1959. Hardbound in dustjacket. {M&M A2b}  “Th...       New York   \n",
       "78   Staplebound. {M&M F12} A mimeographed pamphlet...       New York   \n",
       "79   With Claude Pélieu and Carl Weissner. (A Black...  San Francisco   \n",
       "80   [2nd expanded ed.] (A Black Bag Pamphlet) Stap...  San Francisco   \n",
       "84   Staplebound pamphlet.  Four-color glossy wraps...            NaN   \n",
       "85   Staplebound pamphlet. B&W matte wraps; 1 stapl...            NaN   \n",
       "87   (Nova Broadcast, No. 5) Distributed by City Li...  San Francisco   \n",
       "96   In German and English. German translation by C...      Göttingen   \n",
       "186  Pamphlet. Issued with two different cover colo...         [n.p.]   \n",
       "191  [Edited by James Grauerholz.] Illustrated by G...       New York   \n",
       "\n",
       "                                             publisher  \\\n",
       "12                                         Grove Press   \n",
       "78                          American Theatre for Poets   \n",
       "79                     Beach Books, Texts, & Documents   \n",
       "80                     Beach Books, Texts, & Documents   \n",
       "84                                                 NaN   \n",
       "85                                                 NaN   \n",
       "87                                Nova Broadcast Press   \n",
       "96                             Expanded Media Editions   \n",
       "186                                    The Horse Press   \n",
       "191  Library Fellows of the Whitney Museum of Ameri...   \n",
       "\n",
       "                                               binding copyrightDate  \\\n",
       "12                             Hardbound in dustjacket          1959   \n",
       "78                                         Staplebound           NaN   \n",
       "79                   Staplebound (no hardbound issued)           NaN   \n",
       "80                   Staplebound (no hardbound issued)           NaN   \n",
       "84                                Staplebound pamphlet           NaN   \n",
       "85                                Staplebound pamphlet           NaN   \n",
       "87                   Staplebound (no hardbound issued)          1969   \n",
       "96       Softbound in dustjacket (no hardbound issued)           NaN   \n",
       "186                                                NaN           NaN   \n",
       "191  Hardbound; handbound (issued without dustjacke...           NaN   \n",
       "\n",
       "                                                   M&M  \n",
       "12    A2b}  “The text in this edition differs quite...  \n",
       "78                                                 F12  \n",
       "79                                                A13a  \n",
       "80                                                A13b  \n",
       "84                                                 NaN  \n",
       "85                                                 NaN  \n",
       "87                                                A14a  \n",
       "96                                                 NaN  \n",
       "186                                                NaN  \n",
       "191                                                NaN  "
      ]
     },
     "execution_count": 12,
     "metadata": {},
     "output_type": "execute_result"
    }
   ],
   "source": [
    "df[df['notes'].str.contains(\"[Pp]amphlet\", na = False)]"
   ]
  },
  {
   "cell_type": "code",
   "execution_count": 13,
   "metadata": {
    "collapsed": false
   },
   "outputs": [
    {
     "data": {
      "text/html": [
       "<div>\n",
       "<style>\n",
       "    .dataframe thead tr:only-child th {\n",
       "        text-align: right;\n",
       "    }\n",
       "\n",
       "    .dataframe thead th {\n",
       "        text-align: left;\n",
       "    }\n",
       "\n",
       "    .dataframe tbody tr th {\n",
       "        vertical-align: top;\n",
       "    }\n",
       "</style>\n",
       "<table border=\"1\" class=\"dataframe\">\n",
       "  <thead>\n",
       "    <tr style=\"text-align: right;\">\n",
       "      <th></th>\n",
       "      <th>work</th>\n",
       "      <th>workTitle</th>\n",
       "      <th>instance</th>\n",
       "      <th>instanceTitle</th>\n",
       "      <th>date</th>\n",
       "      <th>publication</th>\n",
       "      <th>notes</th>\n",
       "      <th>place</th>\n",
       "      <th>publisher</th>\n",
       "      <th>binding</th>\n",
       "      <th>copyrightDate</th>\n",
       "      <th>M&amp;M</th>\n",
       "    </tr>\n",
       "  </thead>\n",
       "  <tbody>\n",
       "    <tr>\n",
       "      <th>90</th>\n",
       "      <td>A22</td>\n",
       "      <td>The Last Words of Dutch Schultz</td>\n",
       "      <td>C</td>\n",
       "      <td>The Last Words of Dutch Schultz: A Fiction in ...</td>\n",
       "      <td>1981</td>\n",
       "      <td>New York: Seaver Books</td>\n",
       "      <td>1st paperbound ed. ©1975; distributed by Grove...</td>\n",
       "      <td>New York</td>\n",
       "      <td>Seaver Books</td>\n",
       "      <td>paperbound ed</td>\n",
       "      <td>1975</td>\n",
       "      <td>NaN</td>\n",
       "    </tr>\n",
       "  </tbody>\n",
       "</table>\n",
       "</div>"
      ],
      "text/plain": [
       "   work                        workTitle instance  \\\n",
       "90  A22  The Last Words of Dutch Schultz        C   \n",
       "\n",
       "                                        instanceTitle  date  \\\n",
       "90  The Last Words of Dutch Schultz: A Fiction in ...  1981   \n",
       "\n",
       "               publication                                              notes  \\\n",
       "90  New York: Seaver Books  1st paperbound ed. ©1975; distributed by Grove...   \n",
       "\n",
       "       place     publisher        binding copyrightDate  M&M  \n",
       "90  New York  Seaver Books  paperbound ed          1975  NaN  "
      ]
     },
     "execution_count": 13,
     "metadata": {},
     "output_type": "execute_result"
    }
   ],
   "source": [
    "df[df['notes'].str.contains(\"paperbound ed\", na = False)]"
   ]
  },
  {
   "cell_type": "markdown",
   "metadata": {},
   "source": [
    "## Generate BIBFRAME Turtle files"
   ]
  },
  {
   "cell_type": "markdown",
   "metadata": {},
   "source": [
    "### Initialize namespaces"
   ]
  },
  {
   "cell_type": "code",
   "execution_count": 14,
   "metadata": {
    "collapsed": true
   },
   "outputs": [],
   "source": [
    "abri = rdflib.Namespace(\"https://w3id.org/schottlaender/4.0/instance/\")\n",
    "abrw = rdflib.Namespace(\"https://w3id.org/schottlaender/4.0/work/\")\n",
    "abra = rdflib.Namespace(\"https://w3id.org/schottlaender/4.0/agent/\")\n",
    "abrp = rdflib.Namespace(\"https://w3id.org/schottlaender/4.0/place/\")\n",
    "bf = rdflib.Namespace(\"http://id.loc.gov/ontologies/bibframe/\")\n",
    "arm = rdflib.Namespace(\"https://w3id.org/arm/\")"
   ]
  },
  {
   "cell_type": "markdown",
   "metadata": {},
   "source": [
    "### Define function to initialize graphs"
   ]
  },
  {
   "cell_type": "code",
   "execution_count": 15,
   "metadata": {
    "collapsed": true
   },
   "outputs": [],
   "source": [
    "def initialize_abr_graph():\n",
    "    g = rdflib.Graph()\n",
    "    g.bind(\"abri\", \"https://w3id.org/schottlaender/4.0/instance/\")\n",
    "    g.bind(\"abrw\", \"https://w3id.org/schottlaender/4.0/work/\")\n",
    "    g.bind(\"abra\", \"https://w3id.org/schottlaender/4.0/agent/\")\n",
    "    g.bind(\"abrp\", \"https://w3id.org/schottlaender/4.0/place/\")\n",
    "    g.bind(\"bf\", \"http://id.loc.gov/ontologies/bibframe/\")\n",
    "    g.bind(\"arm\", \"https://w3id.org/arm/\")\n",
    "    return g"
   ]
  },
  {
   "cell_type": "markdown",
   "metadata": {},
   "source": [
    "### Define dict to map strings to relative URIs"
   ]
  },
  {
   "cell_type": "code",
   "execution_count": 16,
   "metadata": {
    "collapsed": true
   },
   "outputs": [],
   "source": [
    "label_to_relative_uri_map = {}"
   ]
  },
  {
   "cell_type": "markdown",
   "metadata": {},
   "source": [
    "### Generate publishers"
   ]
  },
  {
   "cell_type": "code",
   "execution_count": 17,
   "metadata": {
    "collapsed": true
   },
   "outputs": [],
   "source": [
    "publishers = df['publisher'].fillna(value=' [n.p.]').unique().tolist()\n",
    "\n",
    "for name in publishers:\n",
    "    g = initialize_abr_graph()\n",
    "    slug = slugify(name)\n",
    "    label_to_relative_uri_map[name] = slug\n",
    "    id = abra[slug]\n",
    "    g.add((id, RDF.type, bf.Agent))\n",
    "    g.add((id, RDF.type, bf.Organization))\n",
    "    g.add((id, RDFS.label, Literal(name)))\n",
    "    g.serialize(f\"ttl/agent/{slug}.ttl\", format='turtle')"
   ]
  },
  {
   "cell_type": "markdown",
   "metadata": {},
   "source": [
    "### Generate places"
   ]
  },
  {
   "cell_type": "code",
   "execution_count": 18,
   "metadata": {
    "collapsed": true
   },
   "outputs": [],
   "source": [
    "places = df['place'].fillna(value=' [n.p.]').unique().tolist()\n",
    "\n",
    "for name in places:\n",
    "    g = initialize_abr_graph()\n",
    "    slug = slugify(name)\n",
    "    label_to_relative_uri_map[name] = slug\n",
    "    id = abrp[slug]\n",
    "    g.add((id, RDF.type, bf.Place))\n",
    "    g.add((id, RDFS.label, Literal(name)))\n",
    "    g.serialize(f\"ttl/place/{slug}.ttl\", format='turtle')"
   ]
  },
  {
   "cell_type": "markdown",
   "metadata": {},
   "source": [
    "### Generate instances"
   ]
  },
  {
   "cell_type": "code",
   "execution_count": 19,
   "metadata": {
    "collapsed": false
   },
   "outputs": [],
   "source": [
    "instances = df.where((pd.notnull(df)), None).to_dict('records')\n",
    "work_to_instance_map = collections.defaultdict(list)\n",
    "\n",
    "for i in instances:\n",
    "    g = initialize_abr_graph()\n",
    "    name = i['work'] + i['instance'].lower()\n",
    "    work_to_instance_map[i['work']].append(name)\n",
    "    id = abri[name]\n",
    "    g.add((id, RDF.type, bf.Instance))\n",
    "    g.add((id, RDFS.label, Literal(i['workTitle'])))\n",
    "    g.add((id, bf.instanceOf, abrw[i['work']]))\n",
    "    g.add((id, bf.contributor, abra['burroughs-william-s']))\n",
    "    # bf:title\n",
    "    title = BNode()\n",
    "    g.add((id, bf.title, title))\n",
    "    g.add((title, RDF.type, bf.Title))\n",
    "    g.add((title, RDFS.label, Literal(i['instanceTitle'])))\n",
    "    # bf:note\n",
    "    notes = i['notes']\n",
    "    if notes:\n",
    "        notes_text = nltk.sent_tokenize(notes)\n",
    "        for sentence in notes_text:\n",
    "            note = BNode()\n",
    "            g.add((id, bf.note, note))\n",
    "            g.add((note, RDF.type, bf.Note))\n",
    "            g.add((note, RDF.value, Literal(sentence)))\n",
    "    # bf:provisionActivity\n",
    "    publisher = i['publisher']\n",
    "    date = i['date']\n",
    "    place = i['place']\n",
    "    if publisher and date and place:\n",
    "        pa_lit = BNode()\n",
    "        g.add((id, bf.provisionActivity, pa_lit))\n",
    "        g.add((pa_lit, RDF.type, bf.ProvisionActivity))\n",
    "        g.add((pa_lit, RDF.type, bf.Publication))\n",
    "        g.add((pa_lit, bf.agent, Literal(publisher)))\n",
    "        g.add((pa_lit, bf.date, Literal(date)))\n",
    "        g.add((pa_lit, bf.place, Literal(place)))\n",
    "        pa_uri = BNode()\n",
    "        g.add((id, bf.provisionActivity, pa_uri))\n",
    "        g.add((pa_uri, RDF.type, bf.ProvisionActivity))\n",
    "        g.add((pa_uri, RDF.type, bf.Publication))\n",
    "        g.add((pa_uri, bf.agent, abra[label_to_relative_uri_map[publisher]]))\n",
    "        g.add((pa_uri, bf.date, Literal(date)))\n",
    "        g.add((pa_uri, bf.place, abrp[label_to_relative_uri_map[place]]))\n",
    "    g.serialize(f\"ttl/instance/{name}.ttl\", format='turtle')"
   ]
  },
  {
   "cell_type": "markdown",
   "metadata": {},
   "source": [
    "### Generate works"
   ]
  },
  {
   "cell_type": "code",
   "execution_count": 20,
   "metadata": {
    "collapsed": false
   },
   "outputs": [],
   "source": [
    "works = pd.DataFrame(df[['workTitle', 'work']]).drop_duplicates().to_dict('records')\n",
    "\n",
    "for work in works:\n",
    "    g = initialize_abr_graph()\n",
    "    name = work['work']\n",
    "    id = abrw[name]\n",
    "    g.add((id, RDF.type, bf.Work))\n",
    "    g.add((id, RDF.type, bf.Text))\n",
    "    g.add((id, RDFS.label, Literal(work['workTitle'])))\n",
    "    g.add((id, bf.contributor, abra['burroughs-william-s']))\n",
    "    for inst in work_to_instance_map[name]:\n",
    "        g.add((id, bf.hasInstance, abri[inst]))\n",
    "    g.serialize(f\"ttl/work/{name}.ttl\", format='turtle')"
   ]
  }
 ],
 "metadata": {
  "kernelspec": {
   "display_name": "Python [conda env:wsbhack]",
   "language": "python",
   "name": "conda-env-wsbhack-py"
  },
  "language_info": {
   "codemirror_mode": {
    "name": "ipython",
    "version": 3
   },
   "file_extension": ".py",
   "mimetype": "text/x-python",
   "name": "python",
   "nbconvert_exporter": "python",
   "pygments_lexer": "ipython3",
   "version": "3.6.2"
  }
 },
 "nbformat": 4,
 "nbformat_minor": 2
}
