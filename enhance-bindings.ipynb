{
 "cells": [
  {
   "cell_type": "markdown",
   "metadata": {},
   "source": [
    "## Load packages"
   ]
  },
  {
   "cell_type": "code",
   "execution_count": 243,
   "metadata": {},
   "outputs": [],
   "source": [
    "%matplotlib inline \n",
    "import rdflib, glob, re, pandas as pd\n",
    "from rdflib import URIRef, BNode, Literal\n",
    "from rdflib.namespace import RDF, RDFS, DCTERMS"
   ]
  },
  {
   "cell_type": "markdown",
   "metadata": {},
   "source": [
    "## Define namespaces"
   ]
  },
  {
   "cell_type": "code",
   "execution_count": 2,
   "metadata": {},
   "outputs": [],
   "source": [
    "abri = rdflib.Namespace(\"https://w3id.org/anything-but-routine/4.0/instance/\")\n",
    "abrw = rdflib.Namespace(\"https://w3id.org/anything-but-routine/4.0/work/\")\n",
    "bf = rdflib.Namespace(\"http://id.loc.gov/ontologies/bibframe/\")\n",
    "arm = rdflib.Namespace(\"https://w3id.org/arm/core/ontology/0.1/\")"
   ]
  },
  {
   "cell_type": "markdown",
   "metadata": {},
   "source": [
    "## Parse all edited .ttl files into a graph"
   ]
  },
  {
   "cell_type": "code",
   "execution_count": 112,
   "metadata": {
    "collapsed": true
   },
   "outputs": [],
   "source": [
    "def initialize_abr_graph():\n",
    "    g = rdflib.Graph()\n",
    "    g.bind(\"abri\", \"https://w3id.org/anything-but-routine/4.0/instance/\")\n",
    "    g.bind(\"abrw\", \"https://w3id.org/anything-but-routine/4.0/work/\")\n",
    "    g.bind(\"bf\", \"http://id.loc.gov/ontologies/bibframe/\")\n",
    "    g.bind(\"arm\", \"https://w3id.org/arm/core/ontology/0.1/\")\n",
    "    return g"
   ]
  },
  {
   "cell_type": "code",
   "execution_count": 234,
   "metadata": {},
   "outputs": [
    {
     "name": "stdout",
     "output_type": "stream",
     "text": [
      "ABR graph has 8691 triples.\n"
     ]
    }
   ],
   "source": [
    "g = initialize_abr_graph()\n",
    "for infile in glob.glob(\"edited-ttl/*/*.ttl\"):\n",
    "    g.parse(infile, format='n3')\n",
    "n = len(g)\n",
    "print(f\"ABR graph has {n} triples.\")"
   ]
  },
  {
   "cell_type": "markdown",
   "metadata": {},
   "source": [
    "## Build dataframe with instance binding descriptions from notes"
   ]
  },
  {
   "cell_type": "code",
   "execution_count": 235,
   "metadata": {},
   "outputs": [],
   "source": [
    "bindings = []\n",
    "\n",
    "for instance in g.subjects(RDF.type, bf.Instance):\n",
    "    binding_desc = 'None.'\n",
    "    inst_uri = instance.toPython()\n",
    "    inst_id = inst_uri[inst_uri.rfind('/')+1:]\n",
    "    for note in g.objects(instance, bf.note):\n",
    "        text = g.value(note, RDF.value).toPython()\n",
    "        if re.search('^\\w+bound|^Pamphlet|^Broadside|^Folio', text):\n",
    "            binding_desc = text\n",
    "    bindings.append([inst_uri, inst_id, binding_desc])\n",
    "                \n",
    "df = pd.DataFrame(bindings, columns=['instance', 'id', 'binding'])"
   ]
  },
  {
   "cell_type": "markdown",
   "metadata": {},
   "source": [
    "## Clean out noise binding values and show value counts"
   ]
  },
  {
   "cell_type": "code",
   "execution_count": 236,
   "metadata": {},
   "outputs": [
    {
     "data": {
      "text/html": [
       "<div>\n",
       "<style>\n",
       "    .dataframe thead tr:only-child th {\n",
       "        text-align: right;\n",
       "    }\n",
       "\n",
       "    .dataframe thead th {\n",
       "        text-align: left;\n",
       "    }\n",
       "\n",
       "    .dataframe tbody tr th {\n",
       "        vertical-align: top;\n",
       "    }\n",
       "</style>\n",
       "<table border=\"1\" class=\"dataframe\">\n",
       "  <thead>\n",
       "    <tr style=\"text-align: right;\">\n",
       "      <th></th>\n",
       "      <th>binding</th>\n",
       "    </tr>\n",
       "  </thead>\n",
       "  <tbody>\n",
       "    <tr>\n",
       "      <th>Softbound.</th>\n",
       "      <td>55</td>\n",
       "    </tr>\n",
       "    <tr>\n",
       "      <th>Softbound (no hardbound issued).</th>\n",
       "      <td>55</td>\n",
       "    </tr>\n",
       "    <tr>\n",
       "      <th>Hardbound in dustjacket, and softbound.</th>\n",
       "      <td>18</td>\n",
       "    </tr>\n",
       "    <tr>\n",
       "      <th>Hardbound in dustjacket.</th>\n",
       "      <td>17</td>\n",
       "    </tr>\n",
       "    <tr>\n",
       "      <th>Staplebound (no hardbound issued).</th>\n",
       "      <td>12</td>\n",
       "    </tr>\n",
       "    <tr>\n",
       "      <th>Hardbound in dustjacket (no softbound issued).</th>\n",
       "      <td>7</td>\n",
       "    </tr>\n",
       "    <tr>\n",
       "      <th>Broadside.</th>\n",
       "      <td>7</td>\n",
       "    </tr>\n",
       "    <tr>\n",
       "      <th>Hardbound, issued without dustjacket.</th>\n",
       "      <td>5</td>\n",
       "    </tr>\n",
       "    <tr>\n",
       "      <th>Staplebound.</th>\n",
       "      <td>5</td>\n",
       "    </tr>\n",
       "    <tr>\n",
       "      <th>Softbound in dustjacket (no hardbound issued).</th>\n",
       "      <td>4</td>\n",
       "    </tr>\n",
       "    <tr>\n",
       "      <th>Hardbound, and softbound.</th>\n",
       "      <td>3</td>\n",
       "    </tr>\n",
       "    <tr>\n",
       "      <th>Hardbound.</th>\n",
       "      <td>2</td>\n",
       "    </tr>\n",
       "    <tr>\n",
       "      <th>Staplebound pamphlet.</th>\n",
       "      <td>2</td>\n",
       "    </tr>\n",
       "    <tr>\n",
       "      <th>Hardbound with hand-made orange tissue guards inserted.</th>\n",
       "      <td>1</td>\n",
       "    </tr>\n",
       "    <tr>\n",
       "      <th>Softbound with dustjacket (no hardbound issued).</th>\n",
       "      <td>1</td>\n",
       "    </tr>\n",
       "    <tr>\n",
       "      <th>Hardbound in dustjacket, issued with compact disc bound in rear.</th>\n",
       "      <td>1</td>\n",
       "    </tr>\n",
       "    <tr>\n",
       "      <th>Hardbound in tissue dustjacket, and softbound.</th>\n",
       "      <td>1</td>\n",
       "    </tr>\n",
       "    <tr>\n",
       "      <th>Softbound; handbound (no hardbound issued).</th>\n",
       "      <td>1</td>\n",
       "    </tr>\n",
       "    <tr>\n",
       "      <th>Hardbound; handbound (issued without dustjacket in slipcase).</th>\n",
       "      <td>1</td>\n",
       "    </tr>\n",
       "    <tr>\n",
       "      <th>Softbound (no hardbound issued)</th>\n",
       "      <td>1</td>\n",
       "    </tr>\n",
       "    <tr>\n",
       "      <th>Folio broadside.</th>\n",
       "      <td>1</td>\n",
       "    </tr>\n",
       "    <tr>\n",
       "      <th>Staplebound mimeograph (no hardbound issued).</th>\n",
       "      <td>1</td>\n",
       "    </tr>\n",
       "    <tr>\n",
       "      <th>Hardbound (issued without dustjacket), and softbound.</th>\n",
       "      <td>1</td>\n",
       "    </tr>\n",
       "    <tr>\n",
       "      <th>Hardbound, issued without dustjacket in cardboard carton with 12” LP record [blank labels— Side A, white; Side B, black; matrix number: UB LP 1 A S/S].</th>\n",
       "      <td>1</td>\n",
       "    </tr>\n",
       "    <tr>\n",
       "      <th>Pamphlet.</th>\n",
       "      <td>1</td>\n",
       "    </tr>\n",
       "    <tr>\n",
       "      <th>Pamphlet with long folding broadside tipped in.</th>\n",
       "      <td>1</td>\n",
       "    </tr>\n",
       "  </tbody>\n",
       "</table>\n",
       "</div>"
      ],
      "text/plain": [
       "                                                    binding\n",
       "Softbound.                                               55\n",
       "Softbound (no hardbound issued).                         55\n",
       "Hardbound in dustjacket, and softbound.                  18\n",
       "Hardbound in dustjacket.                                 17\n",
       "Staplebound (no hardbound issued).                       12\n",
       "Hardbound in dustjacket (no softbound issued).            7\n",
       "Broadside.                                                7\n",
       "Hardbound, issued without dustjacket.                     5\n",
       "Staplebound.                                              5\n",
       "Softbound in dustjacket (no hardbound issued).            4\n",
       "Hardbound, and softbound.                                 3\n",
       "Hardbound.                                                2\n",
       "Staplebound pamphlet.                                     2\n",
       "Hardbound with hand-made orange tissue guards i...        1\n",
       "Softbound with dustjacket (no hardbound issued).          1\n",
       "Hardbound in dustjacket, issued with compact di...        1\n",
       "Hardbound in tissue dustjacket, and softbound.            1\n",
       "Softbound; handbound (no hardbound issued).               1\n",
       "Hardbound; handbound (issued without dustjacket...        1\n",
       "Softbound (no hardbound issued)                           1\n",
       "Folio broadside.                                          1\n",
       "Staplebound mimeograph (no hardbound issued).             1\n",
       "Hardbound (issued without dustjacket), and soft...        1\n",
       "Hardbound, issued without dustjacket in cardboa...        1\n",
       "Pamphlet.                                                 1\n",
       "Pamphlet with long folding broadside tipped in.           1"
      ]
     },
     "execution_count": 236,
     "metadata": {},
     "output_type": "execute_result"
    }
   ],
   "source": [
    "df = df[(df['binding'].str.contains('Hardbound.+copies') == False)]\n",
    "df = df[(df['binding'].str.contains('None.') == False)]\n",
    "pd.DataFrame(df['binding'].value_counts())"
   ]
  },
  {
   "cell_type": "markdown",
   "metadata": {},
   "source": [
    "## Prepare dict to iterate over"
   ]
  },
  {
   "cell_type": "markdown",
   "metadata": {},
   "source": [
    "instances = df.where((pd.notnull(df)), None).to_dict('records')"
   ]
  },
  {
   "cell_type": "markdown",
   "metadata": {},
   "source": [
    "## Add arm:Binding triples"
   ]
  },
  {
   "cell_type": "code",
   "execution_count": 266,
   "metadata": {},
   "outputs": [],
   "source": [
    "for inst in instances:\n",
    "    name = inst['id']\n",
    "    file = f\"edited-ttl/instance/{name}.ttl\"\n",
    "    h = initialize_abr_graph()\n",
    "    h.parse(file, format='n3')\n",
    "    binding = BNode()\n",
    "    uri = URIRef(inst['instance'])\n",
    "    h.add((uri, DCTERMS.hasPart, binding))\n",
    "    h.add((binding, RDF.type, arm.Binding))\n",
    "    note = BNode()\n",
    "    h.add((binding, bf.note, note))\n",
    "    h.add((note, RDF.type, bf.Note))\n",
    "    h.add((note, RDF.type, arm.DescriptiveNote))\n",
    "    h.add((note, RDF.value, Literal(inst['binding'])))\n",
    "    h.serialize(file, format='turtle')"
   ]
  },
  {
   "cell_type": "markdown",
   "metadata": {},
   "source": [
    "## Remove old note triples"
   ]
  },
  {
   "cell_type": "code",
   "execution_count": 272,
   "metadata": {},
   "outputs": [],
   "source": [
    "for inst in instances:\n",
    "    name = inst['id']\n",
    "    file = f\"edited-ttl/instance/{name}.ttl\"\n",
    "    h = initialize_abr_graph()\n",
    "    h.parse(file, format='n3')\n",
    "    uri = URIRef(inst['instance'])\n",
    "    for note in h.objects(uri, bf.note):\n",
    "        text = h.value(note, RDF.value)\n",
    "        if text.toPython() == inst['binding']:\n",
    "            h.remove((uri, bf.note, note))\n",
    "            h.remove((note, None, None))\n",
    "    h.serialize(file, format='turtle')"
   ]
  }
 ],
 "metadata": {
  "kernelspec": {
   "display_name": "Python [conda env:wsbhack]",
   "language": "python",
   "name": "conda-env-wsbhack-py"
  },
  "language_info": {
   "codemirror_mode": {
    "name": "ipython",
    "version": 3
   },
   "file_extension": ".py",
   "mimetype": "text/x-python",
   "name": "python",
   "nbconvert_exporter": "python",
   "pygments_lexer": "ipython3",
   "version": "3.6.2"
  }
 },
 "nbformat": 4,
 "nbformat_minor": 2
}
