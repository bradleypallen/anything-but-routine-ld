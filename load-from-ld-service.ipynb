{
 "cells": [
  {
   "cell_type": "code",
   "execution_count": 1,
   "metadata": {
    "collapsed": true
   },
   "outputs": [],
   "source": [
    "import rdflib, glob, mimeparse, requests\n",
    "from rdflib import URIRef, Literal\n",
    "from rdflib.namespace import RDF, RDFS, DCTERMS, SKOS, VOID"
   ]
  },
  {
   "cell_type": "code",
   "execution_count": 2,
   "metadata": {
    "collapsed": true
   },
   "outputs": [],
   "source": [
    "abr = rdflib.Namespace(\"https://wsburroughs.link/anything-but-routine/\")\n",
    "abrc = rdflib.Namespace(\"https://wsburroughs.link/anything-but-routine/4.0/classification/\")\n",
    "abri = rdflib.Namespace(\"https://wsburroughs.link/anything-but-routine/4.0/instance/\")\n",
    "abrw = rdflib.Namespace(\"https://wsburroughs.link/anything-but-routine/4.0/work/\")\n",
    "bf = rdflib.Namespace(\"http://id.loc.gov/ontologies/bibframe/\")\n",
    "arm = rdflib.Namespace(\"https://w3id.org/arm/core/ontology/0.1/\")"
   ]
  },
  {
   "cell_type": "code",
   "execution_count": 3,
   "metadata": {
    "collapsed": true
   },
   "outputs": [],
   "source": [
    "def initialize_abr_graph():\n",
    "    g = rdflib.Graph()\n",
    "    g.bind(\"abr\", \"https://wsburroughs.link/anything-but-routine/\")\n",
    "    g.bind(\"abrc\", \"https://wsburroughs.link/anything-but-routine/4.0/classification/\")\n",
    "    g.bind(\"abri\", \"https://wsburroughs.link/anything-but-routine/4.0/instance/\")\n",
    "    g.bind(\"abrw\", \"https://wsburroughs.link/anything-but-routine/4.0/work/\")\n",
    "    g.bind(\"bf\", \"http://id.loc.gov/ontologies/bibframe/\")\n",
    "    g.bind(\"arm\", \"https://w3id.org/arm/core/ontology/0.1/\")\n",
    "    return g"
   ]
  },
  {
   "cell_type": "code",
   "execution_count": 4,
   "metadata": {},
   "outputs": [],
   "source": [
    "headers = { 'Accept': 'text/turtle, application/rdf+xml' }"
   ]
  },
  {
   "cell_type": "code",
   "execution_count": 5,
   "metadata": {
    "collapsed": true
   },
   "outputs": [],
   "source": [
    "def parse_response(graph, res):\n",
    "    (media_type, media_subtype, params) = mimeparse.parse_mime_type(res.headers.get('content-type'))\n",
    "    graph.parse(data=res.text, format=f'{media_type}/{media_subtype}')"
   ]
  },
  {
   "cell_type": "code",
   "execution_count": 6,
   "metadata": {
    "collapsed": true
   },
   "outputs": [],
   "source": [
    "def load_void_resources(graph, uri):\n",
    "    res = requests.get(uri, headers=headers)\n",
    "    if res.status_code  == requests.codes.ok:\n",
    "        parse_response(graph, res)\n",
    "        for o in graph.objects(URIRef(uri), VOID.rootResource):\n",
    "            find_and_follow(graph, o)"
   ]
  },
  {
   "cell_type": "code",
   "execution_count": 7,
   "metadata": {
    "collapsed": true
   },
   "outputs": [],
   "source": [
    "def find_and_follow(graph, uri, level=3):\n",
    "    if not uri in graph.subjects():\n",
    "        res = requests.get(uri, headers=headers)\n",
    "        if res.status_code  == requests.codes.ok:\n",
    "            parse_response(graph, res)\n",
    "            if level > 0:\n",
    "                for o in graph.objects(uri, None):\n",
    "                    if type(o) == rdflib.term.URIRef:\n",
    "                        find_and_follow(graph, o, level=level-1)"
   ]
  },
  {
   "cell_type": "code",
   "execution_count": 8,
   "metadata": {},
   "outputs": [
    {
     "name": "stdout",
     "output_type": "stream",
     "text": [
      "CPU times: user 1min 7s, sys: 1.19 s, total: 1min 8s\n",
      "Wall time: 5min 26s\n"
     ]
    }
   ],
   "source": [
    "%%time\n",
    "graph = initialize_abr_graph()\n",
    "load_void_resources(graph, 'https://wsburroughs.link/anything-but-routine/')"
   ]
  }
 ],
 "metadata": {
  "kernelspec": {
   "display_name": "Python [conda env:wsbhack]",
   "language": "python",
   "name": "conda-env-wsbhack-py"
  },
  "language_info": {
   "codemirror_mode": {
    "name": "ipython",
    "version": 3
   },
   "file_extension": ".py",
   "mimetype": "text/x-python",
   "name": "python",
   "nbconvert_exporter": "python",
   "pygments_lexer": "ipython3",
   "version": "3.6.2"
  }
 },
 "nbformat": 4,
 "nbformat_minor": 2
}
