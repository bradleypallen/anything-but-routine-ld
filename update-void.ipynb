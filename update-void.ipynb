{
 "cells": [
  {
   "cell_type": "markdown",
   "metadata": {},
   "source": [
    "## Load packages"
   ]
  },
  {
   "cell_type": "code",
   "execution_count": 1,
   "metadata": {
    "collapsed": true
   },
   "outputs": [],
   "source": [
    "import rdflib, glob, datetime, time\n",
    "from rdflib import URIRef, Literal\n",
    "from rdflib.namespace import RDF, RDFS, DCTERMS, SKOS, FOAF, VOID, XSD"
   ]
  },
  {
   "cell_type": "markdown",
   "metadata": {},
   "source": [
    "## Define namespaces and utility functions"
   ]
  },
  {
   "cell_type": "code",
   "execution_count": 2,
   "metadata": {
    "collapsed": true
   },
   "outputs": [],
   "source": [
    "abr = rdflib.Namespace(\"https://wsburroughs.link/anything-but-routine/\")\n",
    "abrc = rdflib.Namespace(\"https://wsburroughs.link/anything-but-routine/4.0/classification/\")\n",
    "abri = rdflib.Namespace(\"https://wsburroughs.link/anything-but-routine/4.0/instance/\")\n",
    "abrw = rdflib.Namespace(\"https://wsburroughs.link/anything-but-routine/4.0/work/\")\n",
    "bf = rdflib.Namespace(\"http://id.loc.gov/ontologies/bibframe/\")\n",
    "arm = rdflib.Namespace(\"https://w3id.org/arm/core/ontology/0.1/\")"
   ]
  },
  {
   "cell_type": "code",
   "execution_count": 3,
   "metadata": {
    "collapsed": true
   },
   "outputs": [],
   "source": [
    "def initialize_abr_graph():\n",
    "    g = rdflib.Graph()\n",
    "    g.bind(\"abr\", \"https://wsburroughs.link/anything-but-routine/\")\n",
    "    g.bind(\"abrc\", \"https://wsburroughs.link/anything-but-routine/4.0/classification/\")\n",
    "    g.bind(\"abri\", \"https://wsburroughs.link/anything-but-routine/4.0/instance/\")\n",
    "    g.bind(\"abrw\", \"https://wsburroughs.link/anything-but-routine/4.0/work/\")\n",
    "    g.bind(\"bf\", \"http://id.loc.gov/ontologies/bibframe/\")\n",
    "    g.bind(\"arm\", \"https://w3id.org/arm/core/ontology/0.1/\")\n",
    "    return g"
   ]
  },
  {
   "cell_type": "code",
   "execution_count": 4,
   "metadata": {
    "collapsed": true
   },
   "outputs": [],
   "source": [
    "def isonow():\n",
    "    utc_offset_sec = time.altzone if time.localtime().tm_isdst else time.timezone\n",
    "    utc_offset = datetime.timedelta(seconds=-utc_offset_sec)\n",
    "    return datetime.datetime.now().replace(tzinfo=datetime.timezone(offset=utc_offset)).isoformat()"
   ]
  },
  {
   "cell_type": "markdown",
   "metadata": {},
   "source": [
    "## Get graph for ABR v4.0"
   ]
  },
  {
   "cell_type": "code",
   "execution_count": 5,
   "metadata": {
    "collapsed": true
   },
   "outputs": [],
   "source": [
    "g = initialize_abr_graph()\n",
    "\n",
    "for infile in glob.glob(\"docs/4.0/*/*.ttl\"):\n",
    "    g.parse(infile, format='n3')"
   ]
  },
  {
   "cell_type": "markdown",
   "metadata": {},
   "source": [
    "## Update dcterms:modified,  void:triples,  void:entities,  void:rootResource for abr:"
   ]
  },
  {
   "cell_type": "code",
   "execution_count": 6,
   "metadata": {},
   "outputs": [],
   "source": [
    "void_file = 'docs/void.ttl'\n",
    "\n",
    "h = initialize_abr_graph()\n",
    "h.parse(void_file, format='n3')\n",
    "\n",
    "h.remove( (abr[''], DCTERMS.modified, None) )\n",
    "h.add( (abr[''], DCTERMS.modified, Literal(isonow(), datatype=XSD.dateTime)) )\n",
    "\n",
    "h.remove( (abr[''], VOID.triples, None) )\n",
    "h.add( (abr[''], VOID.triples, Literal(len(g), datatype=XSD.integer)) )\n",
    "\n",
    "n_entities = len([ cl for cl in g.subjects(RDF.type, bf.Classification) ])\n",
    "n_entities += len([ w for w in g.subjects(RDF.type, bf.Work) ])\n",
    "n_entities += len([ i for i in g.subjects(RDF.type, bf.Instance) ])\n",
    "h.remove( (abr[''], VOID.entities, None) )\n",
    "h.add( (abr[''], VOID.entities, Literal(n_entities, datatype=XSD.integer)) )\n",
    "\n",
    "h.remove( (abr[''], VOID.rootResource, None) )\n",
    "for work in g.subjects(RDF.type, bf.Work):\n",
    "    h.add( (abr[''], VOID.rootResource, work) )\n",
    "\n",
    "h.serialize(void_file, format='turtle')"
   ]
  }
 ],
 "metadata": {
  "kernelspec": {
   "display_name": "Python [conda env:wsbhack]",
   "language": "python",
   "name": "conda-env-wsbhack-py"
  },
  "language_info": {
   "codemirror_mode": {
    "name": "ipython",
    "version": 3
   },
   "file_extension": ".py",
   "mimetype": "text/x-python",
   "name": "python",
   "nbconvert_exporter": "python",
   "pygments_lexer": "ipython3",
   "version": "3.6.2"
  }
 },
 "nbformat": 4,
 "nbformat_minor": 2
}
