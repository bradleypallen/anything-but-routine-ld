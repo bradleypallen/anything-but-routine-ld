{
 "cells": [
  {
   "cell_type": "code",
   "execution_count": 1,
   "metadata": {
    "collapsed": true
   },
   "outputs": [],
   "source": [
    "import PyPDF2, re, pandas as pd, numpy as np"
   ]
  },
  {
   "cell_type": "markdown",
   "metadata": {},
   "source": [
    "## Transform the Schottlaender v4.0 PDF to a Pandas dataframe"
   ]
  },
  {
   "cell_type": "code",
   "execution_count": 2,
   "metadata": {
    "collapsed": true
   },
   "outputs": [],
   "source": [
    "filename = 'eScholarship UC item 0xj4d6bm.pdf'\n",
    "pdfFileObj = open(filename,'rb')\n",
    "pdfReader = PyPDF2.PdfFileReader(pdfFileObj)\n",
    "num_pages = pdfReader.numPages\n",
    "count = 0\n",
    "text = \"\"\n",
    "while count < num_pages:\n",
    "    pageObj = pdfReader.getPage(count)\n",
    "    count +=1\n",
    "    text += pageObj.extractText()"
   ]
  },
  {
   "cell_type": "code",
   "execution_count": 3,
   "metadata": {},
   "outputs": [],
   "source": [
    "text2 = re.split('\\s*([A|B|C|D|E|F|G|H|I]\\d+)\\.\\s+', text)"
   ]
  },
  {
   "cell_type": "code",
   "execution_count": 4,
   "metadata": {},
   "outputs": [],
   "source": [
    "text3 = [ re.sub('\\n', '', x).strip() for x in text2[1:] ]"
   ]
  },
  {
   "cell_type": "code",
   "execution_count": 5,
   "metadata": {
    "collapsed": true
   },
   "outputs": [],
   "source": [
    "d = {}\n",
    "for i in range(0, len(text3)-1, 2):\n",
    "    d[text3[i]] = text3[i+1].strip()"
   ]
  },
  {
   "cell_type": "code",
   "execution_count": 6,
   "metadata": {},
   "outputs": [],
   "source": [
    "df = pd.DataFrame({ 'work': list(d.keys()), 'description': list(d.values()) })"
   ]
  },
  {
   "cell_type": "markdown",
   "metadata": {},
   "source": [
    "## Extract and enhance data by FRBR expression type (A through I)"
   ]
  },
  {
   "cell_type": "markdown",
   "metadata": {},
   "source": [
    "### A. Publications in book, broadside, and pamphlet form"
   ]
  },
  {
   "cell_type": "code",
   "execution_count": 8,
   "metadata": {},
   "outputs": [],
   "source": [
    "a_list = pd.DataFrame(df[df['work'].str.startswith('A')])"
   ]
  },
  {
   "cell_type": "code",
   "execution_count": 9,
   "metadata": {
    "collapsed": true
   },
   "outputs": [],
   "source": [
    "year_ptrn = '(?P<year>\\d\\d\\d\\d)'"
   ]
  },
  {
   "cell_type": "code",
   "execution_count": 10,
   "metadata": {
    "collapsed": true
   },
   "outputs": [],
   "source": [
    "publisher_ptrn = '(?P<publisher>\\w[\\s\\w\\,\\]\\[+: [\\s\\w]+), '"
   ]
  },
  {
   "cell_type": "code",
   "execution_count": 11,
   "metadata": {
    "collapsed": true
   },
   "outputs": [],
   "source": [
    "title_ptrn = '(?P<title>^[A-Za-z0-9 \\:\\-\\?]+)'"
   ]
  },
  {
   "cell_type": "code",
   "execution_count": 12,
   "metadata": {},
   "outputs": [],
   "source": [
    "a_list['title'] = a_list['description'].str.extract(title_ptrn, expand=False)\n",
    "a_list['year'] = a_list['description'].str.extract(year_ptrn, expand=False)\n",
    "a_list['publisher'] = a_list['description'].str.extract(publisher_ptrn, expand=False)"
   ]
  },
  {
   "cell_type": "code",
   "execution_count": 13,
   "metadata": {},
   "outputs": [
    {
     "data": {
      "text/html": [
       "<div>\n",
       "<style>\n",
       "    .dataframe thead tr:only-child th {\n",
       "        text-align: right;\n",
       "    }\n",
       "\n",
       "    .dataframe thead th {\n",
       "        text-align: left;\n",
       "    }\n",
       "\n",
       "    .dataframe tbody tr th {\n",
       "        vertical-align: top;\n",
       "    }\n",
       "</style>\n",
       "<table border=\"1\" class=\"dataframe\">\n",
       "  <thead>\n",
       "    <tr style=\"text-align: right;\">\n",
       "      <th></th>\n",
       "      <th>work</th>\n",
       "      <th>year</th>\n",
       "      <th>title</th>\n",
       "      <th>publisher</th>\n",
       "      <th>description</th>\n",
       "    </tr>\n",
       "  </thead>\n",
       "  <tbody>\n",
       "    <tr>\n",
       "      <th>77</th>\n",
       "      <td>A78</td>\n",
       "      <td>2001</td>\n",
       "      <td>Parler pour Joe</td>\n",
       "      <td>Rouen, France: Derrière la Salle de Bains</td>\n",
       "      <td>Parler pour Joe. Rouen, France: Derrière la Sa...</td>\n",
       "    </tr>\n",
       "    <tr>\n",
       "      <th>78</th>\n",
       "      <td>A79</td>\n",
       "      <td>2001</td>\n",
       "      <td>Words of Advice for Young People</td>\n",
       "      <td>FreeThought Flyer</td>\n",
       "      <td>Words of Advice for Young People. (FreeThought...</td>\n",
       "    </tr>\n",
       "    <tr>\n",
       "      <th>79</th>\n",
       "      <td>A80</td>\n",
       "      <td>2008</td>\n",
       "      <td>Everything Lost: The Latin American Notebook o...</td>\n",
       "      <td>General editors</td>\n",
       "      <td>Everything Lost: The Latin American Notebook o...</td>\n",
       "    </tr>\n",
       "    <tr>\n",
       "      <th>80</th>\n",
       "      <td>A81</td>\n",
       "      <td>2008</td>\n",
       "      <td>And the Hippos Were Boiled in Their Tanks</td>\n",
       "      <td>New York: Grove Press</td>\n",
       "      <td>And the Hippos Were Boiled in Their Tanks. Wit...</td>\n",
       "    </tr>\n",
       "    <tr>\n",
       "      <th>81</th>\n",
       "      <td>A82</td>\n",
       "      <td>2015</td>\n",
       "      <td>The Travel Agency Is on Fire</td>\n",
       "      <td>Colan</td>\n",
       "      <td>The Travel Agency Is on Fire. Alex Wermer-Cola...</td>\n",
       "    </tr>\n",
       "  </tbody>\n",
       "</table>\n",
       "</div>"
      ],
      "text/plain": [
       "   work  year                                              title  \\\n",
       "77  A78  2001                                    Parler pour Joe   \n",
       "78  A79  2001                   Words of Advice for Young People   \n",
       "79  A80  2008  Everything Lost: The Latin American Notebook o...   \n",
       "80  A81  2008          And the Hippos Were Boiled in Their Tanks   \n",
       "81  A82  2015                       The Travel Agency Is on Fire   \n",
       "\n",
       "                                    publisher  \\\n",
       "77  Rouen, France: Derrière la Salle de Bains   \n",
       "78                          FreeThought Flyer   \n",
       "79                            General editors   \n",
       "80                      New York: Grove Press   \n",
       "81                                      Colan   \n",
       "\n",
       "                                          description  \n",
       "77  Parler pour Joe. Rouen, France: Derrière la Sa...  \n",
       "78  Words of Advice for Young People. (FreeThought...  \n",
       "79  Everything Lost: The Latin American Notebook o...  \n",
       "80  And the Hippos Were Boiled in Their Tanks. Wit...  \n",
       "81  The Travel Agency Is on Fire. Alex Wermer-Cola...  "
      ]
     },
     "execution_count": 13,
     "metadata": {},
     "output_type": "execute_result"
    }
   ],
   "source": [
    "a_list[['work', 'year', 'title', 'publisher', 'description']].tail()"
   ]
  },
  {
   "cell_type": "code",
   "execution_count": 14,
   "metadata": {
    "collapsed": true
   },
   "outputs": [],
   "source": [
    "a_list[['work', 'year', 'title', 'publisher', 'description']].to_csv('A.csv')"
   ]
  },
  {
   "cell_type": "markdown",
   "metadata": {},
   "source": [
    "### B. Art books and catalogs of exhibitions"
   ]
  },
  {
   "cell_type": "code",
   "execution_count": 15,
   "metadata": {
    "collapsed": true
   },
   "outputs": [],
   "source": [
    "b_list = pd.DataFrame(df[df['work'].str.startswith('B')])"
   ]
  },
  {
   "cell_type": "code",
   "execution_count": 16,
   "metadata": {
    "collapsed": true
   },
   "outputs": [],
   "source": [
    "b_title_ptrn = '(.+)[\\.]\\ [a-zA-Z0-9\\ ]+\\:'"
   ]
  },
  {
   "cell_type": "code",
   "execution_count": 17,
   "metadata": {
    "collapsed": true
   },
   "outputs": [],
   "source": [
    "b_list['title'] = b_list['description'].str.extract(b_title_ptrn, expand=False)"
   ]
  },
  {
   "cell_type": "code",
   "execution_count": 18,
   "metadata": {},
   "outputs": [],
   "source": [
    "b_list['publisher'] = b_list['description'].str.extract(publisher_ptrn, expand=False)"
   ]
  },
  {
   "cell_type": "code",
   "execution_count": 19,
   "metadata": {},
   "outputs": [],
   "source": [
    "b_list['year'] = b_list['description'].str.extract(year_ptrn, expand=False)"
   ]
  },
  {
   "cell_type": "code",
   "execution_count": 20,
   "metadata": {},
   "outputs": [
    {
     "data": {
      "text/html": [
       "<div>\n",
       "<style>\n",
       "    .dataframe thead tr:only-child th {\n",
       "        text-align: right;\n",
       "    }\n",
       "\n",
       "    .dataframe thead th {\n",
       "        text-align: left;\n",
       "    }\n",
       "\n",
       "    .dataframe tbody tr th {\n",
       "        vertical-align: top;\n",
       "    }\n",
       "</style>\n",
       "<table border=\"1\" class=\"dataframe\">\n",
       "  <thead>\n",
       "    <tr style=\"text-align: right;\">\n",
       "      <th></th>\n",
       "      <th>work</th>\n",
       "      <th>year</th>\n",
       "      <th>title</th>\n",
       "      <th>publisher</th>\n",
       "      <th>description</th>\n",
       "    </tr>\n",
       "  </thead>\n",
       "  <tbody>\n",
       "    <tr>\n",
       "      <th>82</th>\n",
       "      <td>B1</td>\n",
       "      <td>1964</td>\n",
       "      <td>Peinture, Poésie, Musique: David Budd Recontre...</td>\n",
       "      <td>Peinture, Poésie</td>\n",
       "      <td>Peinture, Poésie, Musique: David Budd Recontre...</td>\n",
       "    </tr>\n",
       "    <tr>\n",
       "      <th>83</th>\n",
       "      <td>B2</td>\n",
       "      <td>1974</td>\n",
       "      <td>Ruby Editions Portfolio, One. With Cozette de ...</td>\n",
       "      <td>Ruby Editions Portfolio</td>\n",
       "      <td>Ruby Editions Portfolio, One. With Cozette de ...</td>\n",
       "    </tr>\n",
       "    <tr>\n",
       "      <th>84</th>\n",
       "      <td>B3</td>\n",
       "      <td>1988</td>\n",
       "      <td>William Burroughs: Painting</td>\n",
       "      <td>London: October Gallery</td>\n",
       "      <td>William Burroughs: Painting. Amsterdam: Suzann...</td>\n",
       "    </tr>\n",
       "    <tr>\n",
       "      <th>85</th>\n",
       "      <td>B4</td>\n",
       "      <td>1988</td>\n",
       "      <td>NaN</td>\n",
       "      <td>Santa Fe</td>\n",
       "      <td>William S. Burroughs. Santa Fe, N.M.: Gallery ...</td>\n",
       "    </tr>\n",
       "    <tr>\n",
       "      <th>86</th>\n",
       "      <td>B5</td>\n",
       "      <td>1988</td>\n",
       "      <td>William S. Burroughs. London: The October Gall...</td>\n",
       "      <td>London: The October Gallery</td>\n",
       "      <td>William S. Burroughs. London: The October Gall...</td>\n",
       "    </tr>\n",
       "    <tr>\n",
       "      <th>87</th>\n",
       "      <td>B6</td>\n",
       "      <td>1988</td>\n",
       "      <td>William S. Burroughs. New York: Tony Shafrazi ...</td>\n",
       "      <td>New York: Tony Shafrazi Gallery</td>\n",
       "      <td>William S. Burroughs. New York: Tony Shafrazi ...</td>\n",
       "    </tr>\n",
       "    <tr>\n",
       "      <th>88</th>\n",
       "      <td>B7</td>\n",
       "      <td>1988</td>\n",
       "      <td>William S. Burroughs, October 21November 26, 1988</td>\n",
       "      <td>Burroughs, October 21November 26</td>\n",
       "      <td>William S. Burroughs, October 21November 26, 1...</td>\n",
       "    </tr>\n",
       "    <tr>\n",
       "      <th>89</th>\n",
       "      <td>B8</td>\n",
       "      <td>1988</td>\n",
       "      <td>William S. Burroughs: Recent Paintings</td>\n",
       "      <td>Vancouver: Front Gallery</td>\n",
       "      <td>William S. Burroughs: Recent Paintings. Vancou...</td>\n",
       "    </tr>\n",
       "    <tr>\n",
       "      <th>90</th>\n",
       "      <td>B9</td>\n",
       "      <td>1989</td>\n",
       "      <td>Clignett/Burroughs</td>\n",
       "      <td>Basel: Carzaniga + Ueker</td>\n",
       "      <td>Clignett/Burroughs. Basel: Carzaniga + Ueker, ...</td>\n",
       "    </tr>\n",
       "    <tr>\n",
       "      <th>91</th>\n",
       "      <td>B10</td>\n",
       "      <td>1989</td>\n",
       "      <td>William S. Burroughs. Introduction by Achille ...</td>\n",
       "      <td>Rome: Cleto Polcina Artemoderna</td>\n",
       "      <td>William S. Burroughs. Introduction by Achille ...</td>\n",
       "    </tr>\n",
       "    <tr>\n",
       "      <th>92</th>\n",
       "      <td>B11</td>\n",
       "      <td>1989</td>\n",
       "      <td>William S. Burroughs: Paintings</td>\n",
       "      <td>Basel: Galerie Carzaniga + Ueker</td>\n",
       "      <td>William S. Burroughs: Paintings. Basel: Galeri...</td>\n",
       "    </tr>\n",
       "    <tr>\n",
       "      <th>93</th>\n",
       "      <td>B12</td>\n",
       "      <td>1989</td>\n",
       "      <td>NaN</td>\n",
       "      <td>William Burroughs, Paintings, Sept 30Nov 11</td>\n",
       "      <td>William Burroughs, Paintings, Sept 30Nov 11, 1...</td>\n",
       "    </tr>\n",
       "    <tr>\n",
       "      <th>94</th>\n",
       "      <td>B13</td>\n",
       "      <td>1990</td>\n",
       "      <td>NaN</td>\n",
       "      <td>Basel</td>\n",
       "      <td>B.U.D. With Udo Breger. [Basel, 1990]. Color p...</td>\n",
       "    </tr>\n",
       "    <tr>\n",
       "      <th>95</th>\n",
       "      <td>B14</td>\n",
       "      <td>1990</td>\n",
       "      <td>Shotgun Paintings, Works on Wood &amp; Paper: Will...</td>\n",
       "      <td>Shotgun Paintings</td>\n",
       "      <td>Shotgun Paintings, Works on Wood &amp; Paper: Will...</td>\n",
       "    </tr>\n",
       "    <tr>\n",
       "      <th>96</th>\n",
       "      <td>B15</td>\n",
       "      <td>1990</td>\n",
       "      <td>William S. Burroughs: Exposition, 23 Mars/21 A...</td>\n",
       "      <td>Burroughs: Exposition</td>\n",
       "      <td>William S. Burroughs: Exposition, 23 Mars/21 A...</td>\n",
       "    </tr>\n",
       "    <tr>\n",
       "      <th>97</th>\n",
       "      <td>B16</td>\n",
       "      <td>1990</td>\n",
       "      <td>William S. Burroughs: Pinturas</td>\n",
       "      <td>Madrid: Galeria Sephira</td>\n",
       "      <td>William S. Burroughs: Pinturas. Madrid: Galeri...</td>\n",
       "    </tr>\n",
       "    <tr>\n",
       "      <th>98</th>\n",
       "      <td>B17</td>\n",
       "      <td>1991</td>\n",
       "      <td>NaN</td>\n",
       "      <td>West Holl  Postcard for exhibition at Murray F...</td>\n",
       "      <td>Prints and Prose: A Collaboration of Art and T...</td>\n",
       "    </tr>\n",
       "    <tr>\n",
       "      <th>99</th>\n",
       "      <td>B18</td>\n",
       "      <td>1991</td>\n",
       "      <td>The Seven Deadly Sins.  A. New York: Lococo/Mu...</td>\n",
       "      <td>Mulder</td>\n",
       "      <td>The Seven Deadly Sins.  A. New York: Lococo/Mu...</td>\n",
       "    </tr>\n",
       "    <tr>\n",
       "      <th>100</th>\n",
       "      <td>B19</td>\n",
       "      <td>1991</td>\n",
       "      <td>William S. Burroughs: Neue Bilder</td>\n",
       "      <td>Basel: Galerie Carzaniga + Ueker</td>\n",
       "      <td>William S. Burroughs: Neue Bilder. Basel: Gale...</td>\n",
       "    </tr>\n",
       "    <tr>\n",
       "      <th>101</th>\n",
       "      <td>B20</td>\n",
       "      <td>1992</td>\n",
       "      <td>NaN</td>\n",
       "      <td>Paper Cloud</td>\n",
       "      <td>Paper Cloud, Thick Pages. (ArT Random, No. 102...</td>\n",
       "    </tr>\n",
       "    <tr>\n",
       "      <th>102</th>\n",
       "      <td>B21</td>\n",
       "      <td>1993</td>\n",
       "      <td>NaN</td>\n",
       "      <td>With David Bradshaw [Tampa</td>\n",
       "      <td>Propagation Hazard. With David Bradshaw [Tampa...</td>\n",
       "    </tr>\n",
       "    <tr>\n",
       "      <th>103</th>\n",
       "      <td>B22</td>\n",
       "      <td>1987</td>\n",
       "      <td>NaN</td>\n",
       "      <td>Burroughs</td>\n",
       "      <td>Concrete and Buckshot: William S. Burroughs, P...</td>\n",
       "    </tr>\n",
       "    <tr>\n",
       "      <th>104</th>\n",
       "      <td>B23</td>\n",
       "      <td>1996</td>\n",
       "      <td>Ports of Entry: William S. Burroughs and the A...</td>\n",
       "      <td>Sobieszek</td>\n",
       "      <td>Ports of Entry: William S. Burroughs and the A...</td>\n",
       "    </tr>\n",
       "    <tr>\n",
       "      <th>105</th>\n",
       "      <td>B24</td>\n",
       "      <td>1988</td>\n",
       "      <td>NaN</td>\n",
       "      <td>William Burroughs and George Condo: Collaborat...</td>\n",
       "      <td>William Burroughs and George Condo: Collaborat...</td>\n",
       "    </tr>\n",
       "    <tr>\n",
       "      <th>106</th>\n",
       "      <td>B25</td>\n",
       "      <td>2005</td>\n",
       "      <td>Dead Aim: The Unseen Art of William S. Burroughs</td>\n",
       "      <td>London: Riflemaker</td>\n",
       "      <td>Dead Aim: The Unseen Art of William S. Burroug...</td>\n",
       "    </tr>\n",
       "    <tr>\n",
       "      <th>107</th>\n",
       "      <td>B26</td>\n",
       "      <td>2008</td>\n",
       "      <td>Cut-Outs and Cut-Ups: Hans Christian Andersen ...</td>\n",
       "      <td>Dublin: Irish Museum of Modern Art</td>\n",
       "      <td>Cut-Outs and Cut-Ups: Hans Christian Andersen ...</td>\n",
       "    </tr>\n",
       "    <tr>\n",
       "      <th>108</th>\n",
       "      <td>B27</td>\n",
       "      <td>2008</td>\n",
       "      <td>Life-File: The Private File-Folders of William...</td>\n",
       "      <td>London: Riflemaker</td>\n",
       "      <td>Life-File: The Private File-Folders of William...</td>\n",
       "    </tr>\n",
       "    <tr>\n",
       "      <th>109</th>\n",
       "      <td>B28</td>\n",
       "      <td>2012</td>\n",
       "      <td>All Out of Time and Into Space. London: Octobe...</td>\n",
       "      <td>London: October Gallery</td>\n",
       "      <td>All Out of Time and Into Space. London: Octobe...</td>\n",
       "    </tr>\n",
       "    <tr>\n",
       "      <th>110</th>\n",
       "      <td>B29</td>\n",
       "      <td>2012</td>\n",
       "      <td>NaN</td>\n",
       "      <td>Ups</td>\n",
       "      <td>Cut-Ups, Cut-Ins, Cut-Outs: The Art of William...</td>\n",
       "    </tr>\n",
       "    <tr>\n",
       "      <th>111</th>\n",
       "      <td>B30</td>\n",
       "      <td>2014</td>\n",
       "      <td>Taking Shots: The Photography of William S. Bu...</td>\n",
       "      <td>Munich: Prestel</td>\n",
       "      <td>Taking Shots: The Photography of William S. Bu...</td>\n",
       "    </tr>\n",
       "    <tr>\n",
       "      <th>112</th>\n",
       "      <td>B31</td>\n",
       "      <td>2014</td>\n",
       "      <td>William S</td>\n",
       "      <td>Burroughs: Creative Observer, January 17March 2</td>\n",
       "      <td>William S. Burroughs: Creative Observer, Janua...</td>\n",
       "    </tr>\n",
       "  </tbody>\n",
       "</table>\n",
       "</div>"
      ],
      "text/plain": [
       "    work  year                                              title  \\\n",
       "82    B1  1964  Peinture, Poésie, Musique: David Budd Recontre...   \n",
       "83    B2  1974  Ruby Editions Portfolio, One. With Cozette de ...   \n",
       "84    B3  1988                        William Burroughs: Painting   \n",
       "85    B4  1988                                                NaN   \n",
       "86    B5  1988  William S. Burroughs. London: The October Gall...   \n",
       "87    B6  1988  William S. Burroughs. New York: Tony Shafrazi ...   \n",
       "88    B7  1988  William S. Burroughs, October 21November 26, 1988   \n",
       "89    B8  1988             William S. Burroughs: Recent Paintings   \n",
       "90    B9  1989                                 Clignett/Burroughs   \n",
       "91   B10  1989  William S. Burroughs. Introduction by Achille ...   \n",
       "92   B11  1989                    William S. Burroughs: Paintings   \n",
       "93   B12  1989                                                NaN   \n",
       "94   B13  1990                                                NaN   \n",
       "95   B14  1990  Shotgun Paintings, Works on Wood & Paper: Will...   \n",
       "96   B15  1990  William S. Burroughs: Exposition, 23 Mars/21 A...   \n",
       "97   B16  1990                     William S. Burroughs: Pinturas   \n",
       "98   B17  1991                                                NaN   \n",
       "99   B18  1991  The Seven Deadly Sins.  A. New York: Lococo/Mu...   \n",
       "100  B19  1991                  William S. Burroughs: Neue Bilder   \n",
       "101  B20  1992                                                NaN   \n",
       "102  B21  1993                                                NaN   \n",
       "103  B22  1987                                                NaN   \n",
       "104  B23  1996  Ports of Entry: William S. Burroughs and the A...   \n",
       "105  B24  1988                                                NaN   \n",
       "106  B25  2005   Dead Aim: The Unseen Art of William S. Burroughs   \n",
       "107  B26  2008  Cut-Outs and Cut-Ups: Hans Christian Andersen ...   \n",
       "108  B27  2008  Life-File: The Private File-Folders of William...   \n",
       "109  B28  2012  All Out of Time and Into Space. London: Octobe...   \n",
       "110  B29  2012                                                NaN   \n",
       "111  B30  2014  Taking Shots: The Photography of William S. Bu...   \n",
       "112  B31  2014                                          William S   \n",
       "\n",
       "                                             publisher  \\\n",
       "82                                    Peinture, Poésie   \n",
       "83                             Ruby Editions Portfolio   \n",
       "84                             London: October Gallery   \n",
       "85                                            Santa Fe   \n",
       "86                         London: The October Gallery   \n",
       "87                     New York: Tony Shafrazi Gallery   \n",
       "88                    Burroughs, October 21November 26   \n",
       "89                            Vancouver: Front Gallery   \n",
       "90                            Basel: Carzaniga + Ueker   \n",
       "91                     Rome: Cleto Polcina Artemoderna   \n",
       "92                    Basel: Galerie Carzaniga + Ueker   \n",
       "93         William Burroughs, Paintings, Sept 30Nov 11   \n",
       "94                                               Basel   \n",
       "95                                   Shotgun Paintings   \n",
       "96                               Burroughs: Exposition   \n",
       "97                             Madrid: Galeria Sephira   \n",
       "98   West Holl  Postcard for exhibition at Murray F...   \n",
       "99                                              Mulder   \n",
       "100                   Basel: Galerie Carzaniga + Ueker   \n",
       "101                                        Paper Cloud   \n",
       "102                         With David Bradshaw [Tampa   \n",
       "103                                          Burroughs   \n",
       "104                                          Sobieszek   \n",
       "105  William Burroughs and George Condo: Collaborat...   \n",
       "106                                 London: Riflemaker   \n",
       "107                 Dublin: Irish Museum of Modern Art   \n",
       "108                                 London: Riflemaker   \n",
       "109                            London: October Gallery   \n",
       "110                                                Ups   \n",
       "111                                    Munich: Prestel   \n",
       "112    Burroughs: Creative Observer, January 17March 2   \n",
       "\n",
       "                                           description  \n",
       "82   Peinture, Poésie, Musique: David Budd Recontre...  \n",
       "83   Ruby Editions Portfolio, One. With Cozette de ...  \n",
       "84   William Burroughs: Painting. Amsterdam: Suzann...  \n",
       "85   William S. Burroughs. Santa Fe, N.M.: Gallery ...  \n",
       "86   William S. Burroughs. London: The October Gall...  \n",
       "87   William S. Burroughs. New York: Tony Shafrazi ...  \n",
       "88   William S. Burroughs, October 21November 26, 1...  \n",
       "89   William S. Burroughs: Recent Paintings. Vancou...  \n",
       "90   Clignett/Burroughs. Basel: Carzaniga + Ueker, ...  \n",
       "91   William S. Burroughs. Introduction by Achille ...  \n",
       "92   William S. Burroughs: Paintings. Basel: Galeri...  \n",
       "93   William Burroughs, Paintings, Sept 30Nov 11, 1...  \n",
       "94   B.U.D. With Udo Breger. [Basel, 1990]. Color p...  \n",
       "95   Shotgun Paintings, Works on Wood & Paper: Will...  \n",
       "96   William S. Burroughs: Exposition, 23 Mars/21 A...  \n",
       "97   William S. Burroughs: Pinturas. Madrid: Galeri...  \n",
       "98   Prints and Prose: A Collaboration of Art and T...  \n",
       "99   The Seven Deadly Sins.  A. New York: Lococo/Mu...  \n",
       "100  William S. Burroughs: Neue Bilder. Basel: Gale...  \n",
       "101  Paper Cloud, Thick Pages. (ArT Random, No. 102...  \n",
       "102  Propagation Hazard. With David Bradshaw [Tampa...  \n",
       "103  Concrete and Buckshot: William S. Burroughs, P...  \n",
       "104  Ports of Entry: William S. Burroughs and the A...  \n",
       "105  William Burroughs and George Condo: Collaborat...  \n",
       "106  Dead Aim: The Unseen Art of William S. Burroug...  \n",
       "107  Cut-Outs and Cut-Ups: Hans Christian Andersen ...  \n",
       "108  Life-File: The Private File-Folders of William...  \n",
       "109  All Out of Time and Into Space. London: Octobe...  \n",
       "110  Cut-Ups, Cut-Ins, Cut-Outs: The Art of William...  \n",
       "111  Taking Shots: The Photography of William S. Bu...  \n",
       "112  William S. Burroughs: Creative Observer, Janua...  "
      ]
     },
     "execution_count": 20,
     "metadata": {},
     "output_type": "execute_result"
    }
   ],
   "source": [
    "b_list[['work', 'year', 'title', 'publisher', 'description']]"
   ]
  },
  {
   "cell_type": "code",
   "execution_count": 21,
   "metadata": {
    "collapsed": true
   },
   "outputs": [],
   "source": [
    "b_list[['work', 'year', 'title', 'publisher', 'description']].to_csv('B.csv')"
   ]
  },
  {
   "cell_type": "markdown",
   "metadata": {},
   "source": [
    "### C. Contributions to periodicals"
   ]
  },
  {
   "cell_type": "code",
   "execution_count": 22,
   "metadata": {
    "collapsed": true
   },
   "outputs": [],
   "source": [
    "c_list = pd.DataFrame(df[df['work'].str.startswith('C')])"
   ]
  },
  {
   "cell_type": "code",
   "execution_count": 23,
   "metadata": {},
   "outputs": [],
   "source": [
    "c_title_ptrn = '(.+[\\)\\]])\\.\\s*'"
   ]
  },
  {
   "cell_type": "code",
   "execution_count": 24,
   "metadata": {},
   "outputs": [],
   "source": [
    "c_list['title'] = c_list['description'].str.extract(c_title_ptrn, expand=False)"
   ]
  },
  {
   "cell_type": "code",
   "execution_count": 25,
   "metadata": {
    "collapsed": true
   },
   "outputs": [],
   "source": [
    "c_list['year'] = c_list['description'].str.extract(year_ptrn, expand=False)"
   ]
  },
  {
   "cell_type": "code",
   "execution_count": 26,
   "metadata": {},
   "outputs": [
    {
     "data": {
      "text/html": [
       "<div>\n",
       "<style>\n",
       "    .dataframe thead tr:only-child th {\n",
       "        text-align: right;\n",
       "    }\n",
       "\n",
       "    .dataframe thead th {\n",
       "        text-align: left;\n",
       "    }\n",
       "\n",
       "    .dataframe tbody tr th {\n",
       "        vertical-align: top;\n",
       "    }\n",
       "</style>\n",
       "<table border=\"1\" class=\"dataframe\">\n",
       "  <thead>\n",
       "    <tr style=\"text-align: right;\">\n",
       "      <th></th>\n",
       "      <th>work</th>\n",
       "      <th>year</th>\n",
       "      <th>title</th>\n",
       "      <th>description</th>\n",
       "    </tr>\n",
       "  </thead>\n",
       "  <tbody>\n",
       "    <tr>\n",
       "      <th>775</th>\n",
       "      <td>C663</td>\n",
       "      <td>2004</td>\n",
       "      <td>Weirdly Supernatural, No. 2 (2004)</td>\n",
       "      <td>Weirdly Supernatural, No. 2 (2004).    2 0 0 5</td>\n",
       "    </tr>\n",
       "    <tr>\n",
       "      <th>776</th>\n",
       "      <td>C664</td>\n",
       "      <td>2005</td>\n",
       "      <td>Purple Fashion, No. 4 (2005)</td>\n",
       "      <td>Purple Fashion, No. 4 (2005).  Interzone   91 ...</td>\n",
       "    </tr>\n",
       "    <tr>\n",
       "      <th>777</th>\n",
       "      <td>C665</td>\n",
       "      <td>2007</td>\n",
       "      <td>Inkblot, [No.] 11 (2007).  Includes a facsimil...</td>\n",
       "      <td>Inkblot, [No.] 11 (2007).  Includes a facsimil...</td>\n",
       "    </tr>\n",
       "    <tr>\n",
       "      <th>778</th>\n",
       "      <td>C666</td>\n",
       "      <td>2012</td>\n",
       "      <td>Sensitive Skin, No. 8 (2012)</td>\n",
       "      <td>Sensitive Skin, No. 8 (2012).    the many hour...</td>\n",
       "    </tr>\n",
       "    <tr>\n",
       "      <th>779</th>\n",
       "      <td>C667</td>\n",
       "      <td>2014</td>\n",
       "      <td>Beat Scene, No. 71a (Winter 2014).     (by Gre...</td>\n",
       "      <td>Beat Scene, No. 71a (Winter 2014).     (by Gre...</td>\n",
       "    </tr>\n",
       "  </tbody>\n",
       "</table>\n",
       "</div>"
      ],
      "text/plain": [
       "     work  year                                              title  \\\n",
       "775  C663  2004                 Weirdly Supernatural, No. 2 (2004)   \n",
       "776  C664  2005                       Purple Fashion, No. 4 (2005)   \n",
       "777  C665  2007  Inkblot, [No.] 11 (2007).  Includes a facsimil...   \n",
       "778  C666  2012                       Sensitive Skin, No. 8 (2012)   \n",
       "779  C667  2014  Beat Scene, No. 71a (Winter 2014).     (by Gre...   \n",
       "\n",
       "                                           description  \n",
       "775     Weirdly Supernatural, No. 2 (2004).    2 0 0 5  \n",
       "776  Purple Fashion, No. 4 (2005).  Interzone   91 ...  \n",
       "777  Inkblot, [No.] 11 (2007).  Includes a facsimil...  \n",
       "778  Sensitive Skin, No. 8 (2012).    the many hour...  \n",
       "779  Beat Scene, No. 71a (Winter 2014).     (by Gre...  "
      ]
     },
     "execution_count": 26,
     "metadata": {},
     "output_type": "execute_result"
    }
   ],
   "source": [
    "c_list[['work', 'year', 'title', 'description']].tail()"
   ]
  },
  {
   "cell_type": "code",
   "execution_count": 27,
   "metadata": {
    "collapsed": true
   },
   "outputs": [],
   "source": [
    "c_list.to_csv('C.csv')"
   ]
  },
  {
   "cell_type": "markdown",
   "metadata": {},
   "source": [
    "### D. Foreign translations"
   ]
  },
  {
   "cell_type": "code",
   "execution_count": 28,
   "metadata": {
    "collapsed": true
   },
   "outputs": [],
   "source": [
    "d_list = pd.DataFrame(df[df['work'].str.startswith('D')])"
   ]
  },
  {
   "cell_type": "code",
   "execution_count": 29,
   "metadata": {
    "collapsed": true
   },
   "outputs": [],
   "source": [
    "d_list.to_csv('D.csv')"
   ]
  },
  {
   "cell_type": "markdown",
   "metadata": {},
   "source": [
    "### E. Sound recordings"
   ]
  },
  {
   "cell_type": "code",
   "execution_count": 30,
   "metadata": {
    "collapsed": true
   },
   "outputs": [],
   "source": [
    "e_list = pd.DataFrame(df[df['work'].str.startswith('E')])"
   ]
  },
  {
   "cell_type": "code",
   "execution_count": 31,
   "metadata": {
    "collapsed": true
   },
   "outputs": [],
   "source": [
    "e_list.to_csv('E.csv')"
   ]
  },
  {
   "cell_type": "markdown",
   "metadata": {},
   "source": [
    "### F. Film and video recordings"
   ]
  },
  {
   "cell_type": "code",
   "execution_count": 32,
   "metadata": {
    "collapsed": true
   },
   "outputs": [],
   "source": [
    "f_list = pd.DataFrame(df[df['work'].str.startswith('F')])"
   ]
  },
  {
   "cell_type": "code",
   "execution_count": 33,
   "metadata": {
    "collapsed": true
   },
   "outputs": [],
   "source": [
    "f_list.to_csv('F.csv')"
   ]
  },
  {
   "cell_type": "markdown",
   "metadata": {},
   "source": [
    "### G. Miscellaneous items"
   ]
  },
  {
   "cell_type": "code",
   "execution_count": 34,
   "metadata": {
    "collapsed": true
   },
   "outputs": [],
   "source": [
    "g_list = pd.DataFrame(df[df['work'].str.startswith('G')])"
   ]
  },
  {
   "cell_type": "code",
   "execution_count": 35,
   "metadata": {
    "collapsed": true
   },
   "outputs": [],
   "source": [
    "g_list.to_csv('G.csv')"
   ]
  },
  {
   "cell_type": "markdown",
   "metadata": {},
   "source": [
    "### H. Biographies of, interviews with, and letters by Burroughs"
   ]
  },
  {
   "cell_type": "code",
   "execution_count": 36,
   "metadata": {
    "collapsed": true
   },
   "outputs": [],
   "source": [
    "h_list = pd.DataFrame(df[df['work'].str.startswith('H')])"
   ]
  },
  {
   "cell_type": "code",
   "execution_count": 37,
   "metadata": {
    "collapsed": true
   },
   "outputs": [],
   "source": [
    "h_list.to_csv('H.csv')"
   ]
  },
  {
   "cell_type": "markdown",
   "metadata": {},
   "source": [
    "### I. Bibliographies and criticism"
   ]
  },
  {
   "cell_type": "code",
   "execution_count": 38,
   "metadata": {
    "collapsed": true
   },
   "outputs": [],
   "source": [
    "i_list = pd.DataFrame(df[df['work'].str.startswith('I')])"
   ]
  },
  {
   "cell_type": "code",
   "execution_count": 39,
   "metadata": {
    "collapsed": true
   },
   "outputs": [],
   "source": [
    "i_list.to_csv('I.csv')"
   ]
  }
 ],
 "metadata": {
  "kernelspec": {
   "display_name": "Python [conda env:wsbhack]",
   "language": "python",
   "name": "conda-env-wsbhack-py"
  },
  "language_info": {
   "codemirror_mode": {
    "name": "ipython",
    "version": 3
   },
   "file_extension": ".py",
   "mimetype": "text/x-python",
   "name": "python",
   "nbconvert_exporter": "python",
   "pygments_lexer": "ipython3",
   "version": "3.6.2"
  }
 },
 "nbformat": 4,
 "nbformat_minor": 2
}
