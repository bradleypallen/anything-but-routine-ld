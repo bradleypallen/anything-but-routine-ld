{
 "cells": [
  {
   "cell_type": "markdown",
   "metadata": {},
   "source": [
    "## Load packages and set pandas option"
   ]
  },
  {
   "cell_type": "code",
   "execution_count": 1,
   "metadata": {},
   "outputs": [],
   "source": [
    "import numpy as np, pandas as pd, rdflib, re\n",
    "from rdflib.namespace import RDF, RDFS\n",
    "from rdflib import URIRef, BNode, Literal"
   ]
  },
  {
   "cell_type": "markdown",
   "metadata": {},
   "source": [
    "## Initialize namespaces"
   ]
  },
  {
   "cell_type": "code",
   "execution_count": 2,
   "metadata": {},
   "outputs": [],
   "source": [
    "abrc = rdflib.Namespace(\"https://wsburroughs.link/anything-but-routine/4.0/classification/\")\n",
    "abri = rdflib.Namespace(\"https://wsburroughs.link/anything-but-routine/4.0/instance/\")\n",
    "abrw = rdflib.Namespace(\"https://wsburroughs.link/anything-but-routine/4.0/work/\")\n",
    "bf = rdflib.Namespace(\"http://id.loc.gov/ontologies/bibframe/\")\n",
    "arm = rdflib.Namespace(\"https://w3id.org/arm/core/ontology/0.1/\")"
   ]
  },
  {
   "cell_type": "markdown",
   "metadata": {},
   "source": [
    "## Define function to initialize graphs"
   ]
  },
  {
   "cell_type": "code",
   "execution_count": 3,
   "metadata": {},
   "outputs": [],
   "source": [
    "def initialize_abr_graph():\n",
    "    g = rdflib.Graph()\n",
    "    g.bind(\"abrc\", \"https://wsburroughs.link/anything-but-routine/4.0/classification/\")\n",
    "    g.bind(\"abri\", \"https://wsburroughs.link/anything-but-routine/4.0/instance/\")\n",
    "    g.bind(\"abrw\", \"https://wsburroughs.link/anything-but-routine/4.0/work/\")\n",
    "    g.bind(\"bf\", \"http://id.loc.gov/ontologies/bibframe/\")\n",
    "    g.bind(\"arm\", \"https://w3id.org/arm/core/ontology/0.1/\")\n",
    "    return g"
   ]
  },
  {
   "cell_type": "markdown",
   "metadata": {},
   "source": [
    "## Define function to extract instance text into dictionary"
   ]
  },
  {
   "cell_type": "code",
   "execution_count": 95,
   "metadata": {},
   "outputs": [],
   "source": [
    "def process_text(filename):\n",
    "    file = open(filename,'r')\n",
    "    text = file.read()\n",
    "    ids = [ match.group(1) for match in re.finditer('\\n(B\\d+)\\..*\\n', text) ]\n",
    "    text2 = re.sub(r'\\d\\s\\d\\s\\d\\s\\d', '', text)\n",
    "    text3 = re.sub(r'\\s(\\d{2,3})\\n\\n', '', text2)\n",
    "    descriptions = re.split(r'\\s*B\\d+\\.\\s+', text3)[1:]\n",
    "    records = []\n",
    "    for id, desc in zip(ids, descriptions):\n",
    "        txt = re.sub('\\n+', '\\n', desc)\n",
    "        txt = re.sub(r' +', ' ', txt)\n",
    "        txt = re.sub('\\uf02d', '-', txt)\n",
    "        records.append({ 'id': id, 'text': txt })\n",
    "    return records"
   ]
  },
  {
   "cell_type": "markdown",
   "metadata": {},
   "source": [
    "## Define function to generate Turtle files from instance records"
   ]
  },
  {
   "cell_type": "code",
   "execution_count": 142,
   "metadata": {},
   "outputs": [],
   "source": [
    "def process_record(i):\n",
    "    g = initialize_abr_graph()\n",
    "    name = i['id']\n",
    "    id = abri[name]\n",
    "    s0 = re.search(r'[\\uf0d8\\uf0b7\\uf0a7]', i['text'])\n",
    "    if s0:\n",
    "        break_idx = s0.start()\n",
    "        label = re.sub('\\n', ' ', i['text'][:break_idx]).strip()\n",
    "        desc = re.sub('\\n', ' ', i['text'][break_idx:]).strip()\n",
    "        desc = re.sub(' \\uf0d8', '\\n\\uf0d8', desc)\n",
    "        desc = re.sub(' \\uf0b7', '\\n\\uf0b7', desc)\n",
    "        desc = re.sub(' \\uf0a7', '\\n\\uf0b7', desc)\n",
    "    else:\n",
    "        label = re.sub('\\n', ' ', i['text']).strip()\n",
    "        desc = \"\"\n",
    "    title_str = None\n",
    "    pub_str = None\n",
    "    binding_str = None\n",
    "    m1 = re.match('(.+)\\. (.+)\\. (.+)\\.', label) or re.match('(.+)\\. (.+; .*)\\. (.+)\\.', label) \n",
    "    if m1:\n",
    "        title_str = m1.group(1)\n",
    "        pub_str = m1.group(2)\n",
    "        binding_str = m1.group(3)\n",
    "    g.add((id, RDF.type, bf.Instance))\n",
    "    g.add((id, RDFS.label, Literal(title_str)))\n",
    "    # bf:classification\n",
    "    g.add((id, bf.classification, abrc['B']))\n",
    "    # bf.contributor\n",
    "    wsb = BNode()\n",
    "    g.add((id, bf.contributor, wsb))\n",
    "    g.add((wsb, RDF.type, bf.Agent))\n",
    "    g.add((wsb, RDF.type, bf.Person))\n",
    "    g.add((wsb, bf.role, Literal(\"author\")))\n",
    "    g.add((wsb, RDFS.label, Literal(\"William S. Burroughs\")))\n",
    "    # bf:title\n",
    "    title = BNode()\n",
    "    g.add((id, bf.title, title))\n",
    "    g.add((title, RDF.type, bf.Title))\n",
    "    g.add((title, RDFS.label, Literal(title_str)))\n",
    "    # bf:identifiedBy\n",
    "    schottlaender_id = BNode()\n",
    "    g.add((id, bf.identifiedBy, schottlaender_id))\n",
    "    g.add((schottlaender_id, RDF.type, bf.Identifier))\n",
    "    g.add((schottlaender_id, bf.source, Literal(\"Schottlaender v4.0\")))\n",
    "    g.add((schottlaender_id, RDF.value, Literal(name)))\n",
    "    m_n_m = re.match('.*\\{M\\&M (.+)\\}', label)\n",
    "    if m_n_m:\n",
    "        m_n_m_id = BNode()\n",
    "        g.add((id, bf.identifiedBy, m_n_m_id))\n",
    "        g.add((m_n_m_id, RDF.type, bf.Identifier))\n",
    "        g.add((m_n_m_id, bf.source, Literal(\"Maynard & Miles\")))\n",
    "        g.add((m_n_m_id, RDF.value, Literal(m_n_m.group(1))))\n",
    "    # bf:provisionActivity\n",
    "    if pub_str:\n",
    "        m2 = re.match('(.+): (.+), (.+)', pub_str)\n",
    "        if m2:\n",
    "            place_str = m2.group(1)\n",
    "            agent_str = m2.group(2)\n",
    "            date_str = m2.group(3)\n",
    "            pa_lit = BNode()\n",
    "            g.add((id, bf.provisionActivity, pa_lit))\n",
    "            g.add((pa_lit, RDF.type, bf.ProvisionActivity))\n",
    "            g.add((pa_lit, RDF.type, bf.Publication))\n",
    "            g.add((pa_lit, bf.agent, Literal(agent_str)))\n",
    "            g.add((pa_lit, bf.date, Literal(date_str)))\n",
    "            g.add((pa_lit, bf.place, Literal(place_str)))\n",
    "    # bf:note\n",
    "    state = 0\n",
    "    for bullet in desc.split('\\n'):\n",
    "        if bullet.startswith('\\uf0d8'):\n",
    "            n = BNode()\n",
    "            g.add((n, RDF.type, bf.Note))\n",
    "            g.add((n, RDF.value, Literal(bullet[1:].strip())))\n",
    "            if state == 0:\n",
    "                # Periodical issue note\n",
    "                g.add((id, bf.note, n))\n",
    "            else:\n",
    "                # Article note\n",
    "                g.add((a, bf.note, n))\n",
    "        elif bullet.startswith('\\uf0b7'):\n",
    "            a = BNode()\n",
    "            g.add((id, RDF.type, bf.Instance))\n",
    "            g.add((a, RDF.type, bf.Text))\n",
    "            g.add((a, RDFS.label, Literal(bullet[1:].strip())))\n",
    "            g.add((id, bf.hasPart, a))\n",
    "            state = 1\n",
    "        else:\n",
    "            pass\n",
    "    # bf:hasPart :binding\n",
    "    if binding_str:\n",
    "        binding_lit = BNode()\n",
    "        binding_note = BNode()\n",
    "        g.add((id, bf.hasPart, binding_lit))\n",
    "        g.add((binding_lit, RDF.type, arm.Binding))\n",
    "        g.add((binding_lit, bf.note, binding_note))\n",
    "        g.add((binding_note, RDF.type, bf.Note))\n",
    "        g.add((binding_note, RDF.type, bf.DescriptiveNote))\n",
    "        g.add((binding_note, RDF.value, Literal(binding_str)))\n",
    "    g.serialize(f\"ttl/instance/{name}.ttl\", format='turtle')\n",
    "    return id"
   ]
  },
  {
   "cell_type": "markdown",
   "metadata": {},
   "source": [
    "## Process text file into Turtle files"
   ]
  },
  {
   "cell_type": "code",
   "execution_count": 143,
   "metadata": {},
   "outputs": [
    {
     "name": "stdout",
     "output_type": "stream",
     "text": [
      "B1\n",
      "B2\n",
      "B3\n",
      "B4\n",
      "B5\n",
      "B6\n",
      "B7\n",
      "B8\n",
      "B9\n",
      "B10\n",
      "B11\n",
      "B12\n",
      "B13\n",
      "B14\n",
      "B15\n",
      "B16\n",
      "B17\n",
      "B18\n",
      "B19\n",
      "B20\n",
      "B21\n",
      "B22\n",
      "B23\n",
      "B24\n",
      "B25\n",
      "B26\n",
      "B27\n",
      "B28\n",
      "B29\n",
      "B30\n",
      "B31\n"
     ]
    }
   ],
   "source": [
    "filename = 'pdf/B.txt'\n",
    "for record in process_text(filename):\n",
    "    print(record['id'])\n",
    "    s = process_record(record)"
   ]
  },
  {
   "cell_type": "code",
   "execution_count": 8,
   "metadata": {},
   "outputs": [],
   "source": [
    "for i in process_text(filename):\n",
    "    m = re.findall('[\\uf0d8\\uf0b7\\uf0a7]\\s+[\\uf0d8\\uf0b7\\uf0a7]', i['text'])\n",
    "    if m:\n",
    "        print(i['id'])"
   ]
  },
  {
   "cell_type": "code",
   "execution_count": 60,
   "metadata": {},
   "outputs": [],
   "source": [
    "for i in records:\n",
    "    m = re.findall('rdf\\:value \\\"\\\"', i['text'])\n",
    "    if m:\n",
    "        print(i['id'])"
   ]
  },
  {
   "cell_type": "code",
   "execution_count": 90,
   "metadata": {},
   "outputs": [],
   "source": [
    "records = process_text(filename)"
   ]
  },
  {
   "cell_type": "code",
   "execution_count": 105,
   "metadata": {},
   "outputs": [
    {
     "data": {
      "text/plain": [
       "{'id': 'B5',\n",
       " 'text': 'William S. Burroughs. London: The October Gallery, 1988. \\nA. Single sheet of cardstock, folded to make 8 panels (4 on each side). \\n\\uf0d8 Brochure accompanying one-man exhibition at October Gallery in London, [“Paintings and Drawings, \\n\\uf0d8 \\n\\uf0d8 \\n1 June–2nd July 1988”]. \\nIncludes “Excerpts from the essay ‘On Burroughs’ Art’ by James Grauerholz, April 28, 1988.” \\nIncludes reproductions of three paintings by Burroughs: Through a Fish Eye, Burn Unit, and Fear Death by \\nWater. \\nB. [Press Release for and list of works from exhibition] \\n\\uf0d8 \\nIncludes untitled offprint of “On Burroughs’ Art” by James Grauerholz and photocopy of 1988 British \\nnewspaper article about Burroughs. \\nC. [Promotional Postcard]. London: The October Gallery, 1988. 6 x 4⅛ in. postcard. \\n\\uf0d8 B&W photograph of Burroughs by John Minihan on recto. \\n \\n \\n \\n\\x0c25'}"
      ]
     },
     "execution_count": 105,
     "metadata": {},
     "output_type": "execute_result"
    }
   ],
   "source": [
    "record = records[4]\n",
    "record"
   ]
  },
  {
   "cell_type": "code",
   "execution_count": 106,
   "metadata": {},
   "outputs": [],
   "source": [
    "break_idx = re.search(r'[\\uf0d8\\uf0b7\\uf0a7]', record['text']).start()\n",
    "label = re.sub('\\n', ' ', record['text'][:break_idx]).strip()\n",
    "desc = re.sub('\\n', ' ', record['text'][break_idx:]).strip()\n",
    "desc = re.sub(' \\uf0d8', '\\n\\uf0d8', desc)\n",
    "desc = re.sub(' \\uf0b7', '\\n\\uf0b7', desc)\n",
    "desc = re.sub(' \\uf0a7', '\\n\\uf0b7', desc)"
   ]
  },
  {
   "cell_type": "code",
   "execution_count": 107,
   "metadata": {},
   "outputs": [
    {
     "data": {
      "text/plain": [
       "'William S. Burroughs. London: The October Gallery, 1988. \\nA. Single sheet of cardstock, folded to make 8 panels (4 on each side). \\n'"
      ]
     },
     "execution_count": 107,
     "metadata": {},
     "output_type": "execute_result"
    }
   ],
   "source": [
    "record['text'][:break_idx]"
   ]
  },
  {
   "cell_type": "code",
   "execution_count": 108,
   "metadata": {},
   "outputs": [
    {
     "data": {
      "text/plain": [
       "'William S. Burroughs. London: The October Gallery, 1988.  A. Single sheet of cardstock, folded to make 8 panels (4 on each side).'"
      ]
     },
     "execution_count": 108,
     "metadata": {},
     "output_type": "execute_result"
    }
   ],
   "source": [
    "label"
   ]
  },
  {
   "cell_type": "code",
   "execution_count": 109,
   "metadata": {},
   "outputs": [],
   "source": [
    "m = re.match('(.+)\\. (.+)\\. (.+)\\.', label)"
   ]
  },
  {
   "cell_type": "code",
   "execution_count": 110,
   "metadata": {},
   "outputs": [],
   "source": [
    "desc = m.group(0)"
   ]
  },
  {
   "cell_type": "code",
   "execution_count": 111,
   "metadata": {},
   "outputs": [
    {
     "data": {
      "text/plain": [
       "'William S. Burroughs. London: The October Gallery, 1988.  A. Single sheet of cardstock, folded to make 8 panels (4 on each side).'"
      ]
     },
     "execution_count": 111,
     "metadata": {},
     "output_type": "execute_result"
    }
   ],
   "source": [
    "desc"
   ]
  },
  {
   "cell_type": "code",
   "execution_count": 112,
   "metadata": {},
   "outputs": [
    {
     "data": {
      "text/plain": [
       "'William S. Burroughs. London: The October Gallery, 1988. A. Single sheet of cardstock, folded to make 8 panels (4 on each side).'"
      ]
     },
     "execution_count": 112,
     "metadata": {},
     "output_type": "execute_result"
    }
   ],
   "source": [
    "re.sub(' +', ' ', desc)"
   ]
  },
  {
   "cell_type": "code",
   "execution_count": 113,
   "metadata": {},
   "outputs": [],
   "source": [
    "title = m.group(1)"
   ]
  },
  {
   "cell_type": "code",
   "execution_count": 114,
   "metadata": {},
   "outputs": [],
   "source": [
    "publication = m.group(2).strip()"
   ]
  },
  {
   "cell_type": "code",
   "execution_count": 115,
   "metadata": {},
   "outputs": [],
   "source": [
    "binding = m.group(3)"
   ]
  },
  {
   "cell_type": "code",
   "execution_count": 116,
   "metadata": {},
   "outputs": [
    {
     "data": {
      "text/plain": [
       "'William S. Burroughs. London: The October Gallery, 1988'"
      ]
     },
     "execution_count": 116,
     "metadata": {},
     "output_type": "execute_result"
    }
   ],
   "source": [
    "title"
   ]
  },
  {
   "cell_type": "code",
   "execution_count": 117,
   "metadata": {},
   "outputs": [
    {
     "data": {
      "text/plain": [
       "'A'"
      ]
     },
     "execution_count": 117,
     "metadata": {},
     "output_type": "execute_result"
    }
   ],
   "source": [
    "publication"
   ]
  },
  {
   "cell_type": "code",
   "execution_count": 118,
   "metadata": {},
   "outputs": [
    {
     "data": {
      "text/plain": [
       "'Single sheet of cardstock, folded to make 8 panels (4 on each side)'"
      ]
     },
     "execution_count": 118,
     "metadata": {},
     "output_type": "execute_result"
    }
   ],
   "source": [
    "binding"
   ]
  },
  {
   "cell_type": "code",
   "execution_count": 119,
   "metadata": {},
   "outputs": [],
   "source": [
    "m2 = re.match('(.+): (.+), (.+)', publication)"
   ]
  },
  {
   "cell_type": "code",
   "execution_count": 120,
   "metadata": {},
   "outputs": [
    {
     "ename": "AttributeError",
     "evalue": "'NoneType' object has no attribute 'group'",
     "output_type": "error",
     "traceback": [
      "\u001b[0;31m---------------------------------------------------------------------------\u001b[0m",
      "\u001b[0;31mAttributeError\u001b[0m                            Traceback (most recent call last)",
      "\u001b[0;32m<ipython-input-120-744ce31b6edb>\u001b[0m in \u001b[0;36m<module>\u001b[0;34m\u001b[0m\n\u001b[0;32m----> 1\u001b[0;31m \u001b[0mpub_place\u001b[0m \u001b[0;34m=\u001b[0m \u001b[0mm2\u001b[0m\u001b[0;34m.\u001b[0m\u001b[0mgroup\u001b[0m\u001b[0;34m(\u001b[0m\u001b[0;36m1\u001b[0m\u001b[0;34m)\u001b[0m\u001b[0;34m\u001b[0m\u001b[0;34m\u001b[0m\u001b[0m\n\u001b[0m",
      "\u001b[0;31mAttributeError\u001b[0m: 'NoneType' object has no attribute 'group'"
     ]
    }
   ],
   "source": [
    "pub_place = m2.group(1)"
   ]
  },
  {
   "cell_type": "code",
   "execution_count": 77,
   "metadata": {},
   "outputs": [],
   "source": [
    "pub_agent = m2.group(2)"
   ]
  },
  {
   "cell_type": "code",
   "execution_count": 78,
   "metadata": {},
   "outputs": [],
   "source": [
    "pub_date = m2.group(3)"
   ]
  },
  {
   "cell_type": "code",
   "execution_count": 79,
   "metadata": {},
   "outputs": [
    {
     "data": {
      "text/plain": [
       "'Paris'"
      ]
     },
     "execution_count": 79,
     "metadata": {},
     "output_type": "execute_result"
    }
   ],
   "source": [
    "pub_place"
   ]
  },
  {
   "cell_type": "code",
   "execution_count": 80,
   "metadata": {},
   "outputs": [
    {
     "data": {
      "text/plain": [
       "'Galerie Stadler'"
      ]
     },
     "execution_count": 80,
     "metadata": {},
     "output_type": "execute_result"
    }
   ],
   "source": [
    "pub_agent"
   ]
  },
  {
   "cell_type": "code",
   "execution_count": 81,
   "metadata": {},
   "outputs": [
    {
     "data": {
      "text/plain": [
       "'1964'"
      ]
     },
     "execution_count": 81,
     "metadata": {},
     "output_type": "execute_result"
    }
   ],
   "source": [
    "pub_date"
   ]
  },
  {
   "cell_type": "code",
   "execution_count": 87,
   "metadata": {},
   "outputs": [],
   "source": [
    "m_n_m = re.match('.*\\{M\\&M (.+)\\}', label)"
   ]
  },
  {
   "cell_type": "code",
   "execution_count": 88,
   "metadata": {},
   "outputs": [
    {
     "data": {
      "text/plain": [
       "'F11'"
      ]
     },
     "execution_count": 88,
     "metadata": {},
     "output_type": "execute_result"
    }
   ],
   "source": [
    "m_n_m.group(1)"
   ]
  },
  {
   "cell_type": "code",
   "execution_count": 152,
   "metadata": {},
   "outputs": [],
   "source": [
    "def work(record):\n",
    "    s0 = re.search(r'[\\uf0d8\\uf0b7\\uf0a7]', record['text'])\n",
    "    if s0:\n",
    "        break_idx = s0.start()\n",
    "        w = re.sub('\\n', ' ', record['text'][:break_idx]).strip()\n",
    "        instances = re.sub('\\n', ' ', record['text'][break_idx:]).strip()\n",
    "        instances = re.sub(' \\uf0d8', '\\n\\uf0d8', instances)\n",
    "        instances = re.sub(' \\uf0b7', '\\n\\uf0b7', instances)\n",
    "        instances = re.sub(' \\uf0a7', '\\n\\uf0b7', instances)\n",
    "    else:\n",
    "        w = re.sub('\\n', ' ', i['text']).strip()\n",
    "        instances = \"\"\n",
    "    return w, instances\n"
   ]
  },
  {
   "cell_type": "code",
   "execution_count": 153,
   "metadata": {},
   "outputs": [
    {
     "name": "stdout",
     "output_type": "stream",
     "text": [
      "B1: \"Peinture, Poésie, Musique: David Budd Recontree William Burroughs et Earl Brown Chez Rodolphe Stadler.  Paris: Galerie Stadler, 1964. Single sheet, folded to make 12 panels (6 on each side).  {M&M F11}\", \" “A two-column piece by Burroughs printed alternately in red and orange ink occupies half of the catalogue,  both in English and in a French translation.” [BeatBooks 39]\"\n",
      "B2: \"Ruby Editions Portfolio, One. With Cozette de Charmoy and Henri Chopin. Designed by Henri  Chopin. London: Wallrich Books, 1974. 3 sheets and vellum title page in printed cardstock  folder.\", \" cover title: Ruby Editions Portfolio 1. \n",
      " Portfolio containing three prints, one each by Burroughs, de Charmoy, and Chopin. \n",
      " “This edition consists of One Hundred numbered copies, and Thirty [numbered] copies Hors Commerce; each  print signed by the [respective] artist.”\"\n",
      "B3: \"William Burroughs: Painting. Amsterdam: Suzanne Biederberg Gallery; London: October Gallery,  [1988]. Softbound (no hardbound issued)\", \" Catalogue accompanying one-man exhibition at Suzanne Biederberg Gallery in Amsterdam and \n",
      "  October Gallery in London.  Includes “On Burroughs’ Art” by James Grauerholz.\"\n",
      "B4: \"William S. Burroughs. Santa Fe, N.M.: Gallery Casa Sin Nombre, 1988. Softbound (no hardbound  issued).\", \" Catalogue accompanying one-man exhibition at Gallery Casa Sin Nombre in Santa Fe, [April-May 1988?] \n",
      "  Includes “On Burroughs’ Art” by James Grauerholz.\"\n",
      "B5: \"William S. Burroughs. London: The October Gallery, 1988.  A. Single sheet of cardstock, folded to make 8 panels (4 on each side).\", \" Brochure accompanying one-man exhibition at October Gallery in London, [“Paintings and Drawings, \n",
      " \n",
      "  1 June–2nd July 1988”].  Includes “Excerpts from the essay ‘On Burroughs’ Art’ by James Grauerholz, April 28, 1988.”  Includes reproductions of three paintings by Burroughs: Through a Fish Eye, Burn Unit, and Fear Death by  Water.  B. [Press Release for and list of works from exhibition] \n",
      "  Includes untitled offprint of “On Burroughs’ Art” by James Grauerholz and photocopy of 1988 British  newspaper article about Burroughs.  C. [Promotional Postcard]. London: The October Gallery, 1988. 6 x 4⅛ in. postcard. \n",
      " B&W photograph of Burroughs by John Minihan on recto.        \f",
      "25\"\n",
      "B6: \"William S. Burroughs. New York: Tony Shafrazi Gallery, 1988.  A. Single sheet of cardstock, folded to make 10 panels (5 on each side).\", \" Brochure accompanying one-man exhibition at Shafrazi Gallery in New York, 19 December 1987– \n",
      " 24 January 1988, organized by Diego Cortez. \n",
      " \n",
      "  Includes “Entrance to the Museum of Lost Species” by Burroughs, edited by James Grauerholz.  Includes reproductions of four paintings by Burroughs: Sore Shoulder, The Red Skull, Mr. Bradley Mr.  Martin, and People of the Lie/The Lie Decade.  B. [Promotional Poster]. [New York: Tony Shafrazi Gallery, 1988.] 23⅜ x 17½ in. poster. \n",
      " Poster advertising one-man exhibition at Shafrazi Gallery in New York, 19 December 1987–  24 January 1988.\"\n",
      "B7: \"William S. Burroughs, October 21–November 26, 1988. Chicago: Klein Gallery, 1988.  Postcard [8½ x 5½ in.].\", \" Postcard for one-man exhibition at Klein Gallery in Chicago, 21 October–26 November 1988. \n",
      " Reproduction of Burroughs painting Fluck You! Fluck You! on recto.\"\n",
      "B8: \"William S. Burroughs: Recent Paintings. Vancouver: Front Gallery, 1988.  Postcard [6 x 3⅞ in.]\", \" Postcard for exhibition at Front Gallery in Vancouver, 5–15 July 1988. \n",
      " Reproduction of Burroughs painting Shark Spirit II on recto.\"\n",
      "B9: \"Clignett/Burroughs. Basel: Carzaniga + Ueker, 1989. Single sheet, folded to make 8 panels  (4 on each side).\", \" Brochure accompanying exhibition of works by Burroughs and Robine Clignett at Galerie Carzaniga + Ueker  in Basel, 27 April-20 May 1989.  Includes a biographical statement about Burroughs written, in German, by Udo Breger, and a reproduction of  the Burroughs painting Fuck Door. \n",
      "\"\n",
      "B10: \"William S. Burroughs. Introduction by Achille Bonito Oliva. Rome: Cleto Polcina Artemoderna,  1989. Softbound.\", \" Catalogue accompanying one-man exhibition at Cleto Polcina Artemoderna in Romew, [1989]. \n",
      " \n",
      " Limited to 1,500 copies.  Includes “Nagual Art” by Burroughs, in Italian and English.\"\n",
      "B11: \"William S. Burroughs: Paintings. Basel: Galerie Carzaniga + Ueker, 1989. Softbound.\", \" Catalogue accompanying the Burroughs portion of the exhibition at Galerie Carzaniga + Ueker in Basel, \n",
      "  27 April–20 May 1989. [See above]  Includes “On Burroughs’ Art” by James Grauerholz, along with a German translation by Udo Breger.\"\n",
      "B12: \"William Burroughs, Paintings, Sept 30–Nov 11, 1989. Lawrence, Kansas: Kellas Gallery, 1989.  Postcard [5½ x 3½ in.].\", \" Postcard for one-man exhibition at Kellas Gallery in Lawrence, Kansas, 30 September–11 November 1989. \n",
      " Reproduction of Burroughs painting Hell Is Where You Find It on recto.\"\n",
      "B13: \"B.U.D. With Udo Breger. [Basel, 1990]. Color photo-lithographic print on paper.\", \" Limited to 66 numbered copies, signed by Burroughs and Breger, “each one featuring a unique holograph text  by Burroughs.” [BeatBooks 62]    \f",
      "26\"\n",
      "B14: \"Shotgun Paintings, Works on Wood & Paper: William S. Burroughs Exhibition. Edited by Makito Hayi  and Takashi Momma. Tokyo: Sezon Museum of Art, 1990. Softbound.\", \" Catalogue accompanying one-man exhibitions at Seed Hall in Tokyo, 14 June–3 July 1990, and Akarenga Hall  in Sapporo, 12–30 July 1990. Organized by Sezon Museum of Art and Hokkaido Shimbun Press. Supervised by  Mitsuhiro Takemura.  Includes “The Picture Looks at You” by Burroughs, in Japanese and English; and, “William S. Burroughs” by  James Grauerholz, in Japanese and English. \n",
      " \n",
      " Publication advertisement laid in.\"\n",
      "B15: \"William S. Burroughs: Exposition, 23 Mars/21 Avril 1990. Paris: Galerie K, 1990. Softbound.\", \" Catalogue accompanying one-man exhibition at Galerie K in Paris, 23 March–21 April 1990. \n",
      "  Includes “Nagual Art” by Burroughs, in French.\"\n",
      "B16: \"William S. Burroughs: Pinturas. Madrid: Galeria Sephira, 1990. Single sheet, folded to make 10  panels (5 on each side).\", \" Spanish-language brochure accompanying one-man exhibition at Sephira Gallery in Madrid, 8 November– \n",
      " \n",
      "  7 December 1990.  Includes essay (in Spanish and, as a separate insert, in English) by Ignacio Gómez de Liaño,  Includes reproductions of five Burroughs paintings: Creation of Another Homunculus, Creation of the Homunculus V,  Alchemical Laboratory, Christmas Cheer, and Wagon Train.\"\n",
      "B17: \"Prints and Prose: A Collaboration of Art and Text by Keith Haring & William S. Burroughs. West  Hollywood: Murray Feldman Gallery, 1991. Postcard [6 x 4⅛ in.].\", \" Postcard for exhibition at Murray Feldman Gallery at Pacific Design Center in Los Angeles,  3–28 September 1991. \n",
      " Abstract image of Pacific Design Center on recto.\"\n",
      "B18: \"The Seven Deadly Sins.  A. New York: Lococo/Mulder, 1991. Hardbound, issued without dustjacket.\", \" Features color reproductions of Burroughs’ paintings illustrating the seven deadly sins, with text by  Burroughs. \n",
      " Frontispiece photo of Burroughs by Robert Mapplethorpe. \n",
      " Bound in black cloth, with a small plywood “shotgun” painting affixed to the front cover. \n",
      " 150 numbered copies signed by Burroughs, bound in black leather, also with a small, plywood “shotgun”  painting affixed to the front cover. “Most … were never distributed, probably because of the high  publisher’s price …” [Shoaf 1]  B. Deluxe ed. New York: Lococo/Mulder, 1991. Portfolio, in Luan Crate. \n",
      " Consists of serigraphed woodcuts (seven images and seven pages of text), each 32 x 46 inches. \n",
      " Limited to 90 signed copies, with 10 artist proofs, 4 hors commerce, 3 printer’s proofs, and one right to  print.\"\n"
     ]
    },
    {
     "ename": "NameError",
     "evalue": "name 'i' is not defined",
     "output_type": "error",
     "traceback": [
      "\u001b[0;31m---------------------------------------------------------------------------\u001b[0m",
      "\u001b[0;31mNameError\u001b[0m                                 Traceback (most recent call last)",
      "\u001b[0;32m<ipython-input-153-c6e11ebd0b2d>\u001b[0m in \u001b[0;36m<module>\u001b[0;34m\u001b[0m\n\u001b[1;32m      1\u001b[0m \u001b[0mfilename\u001b[0m \u001b[0;34m=\u001b[0m \u001b[0;34m'pdf/B.txt'\u001b[0m\u001b[0;34m\u001b[0m\u001b[0;34m\u001b[0m\u001b[0m\n\u001b[1;32m      2\u001b[0m \u001b[0;32mfor\u001b[0m \u001b[0mrecord\u001b[0m \u001b[0;32min\u001b[0m \u001b[0mprocess_text\u001b[0m\u001b[0;34m(\u001b[0m\u001b[0mfilename\u001b[0m\u001b[0;34m)\u001b[0m\u001b[0;34m:\u001b[0m\u001b[0;34m\u001b[0m\u001b[0;34m\u001b[0m\u001b[0m\n\u001b[0;32m----> 3\u001b[0;31m     \u001b[0mw\u001b[0m\u001b[0;34m,\u001b[0m \u001b[0minstances\u001b[0m \u001b[0;34m=\u001b[0m \u001b[0mwork\u001b[0m\u001b[0;34m(\u001b[0m\u001b[0mrecord\u001b[0m\u001b[0;34m)\u001b[0m\u001b[0;34m\u001b[0m\u001b[0;34m\u001b[0m\u001b[0m\n\u001b[0m\u001b[1;32m      4\u001b[0m     \u001b[0mprint\u001b[0m\u001b[0;34m(\u001b[0m\u001b[0;34mf'{record[\"id\"]}: \"{w}\", \"{instances}\"'\u001b[0m\u001b[0;34m)\u001b[0m\u001b[0;34m\u001b[0m\u001b[0;34m\u001b[0m\u001b[0m\n",
      "\u001b[0;32m<ipython-input-152-65491fa3a999>\u001b[0m in \u001b[0;36mwork\u001b[0;34m(record)\u001b[0m\n\u001b[1;32m      9\u001b[0m         \u001b[0minstances\u001b[0m \u001b[0;34m=\u001b[0m \u001b[0mre\u001b[0m\u001b[0;34m.\u001b[0m\u001b[0msub\u001b[0m\u001b[0;34m(\u001b[0m\u001b[0;34m' \\uf0a7'\u001b[0m\u001b[0;34m,\u001b[0m \u001b[0;34m'\\n\\uf0b7'\u001b[0m\u001b[0;34m,\u001b[0m \u001b[0minstances\u001b[0m\u001b[0;34m)\u001b[0m\u001b[0;34m\u001b[0m\u001b[0;34m\u001b[0m\u001b[0m\n\u001b[1;32m     10\u001b[0m     \u001b[0;32melse\u001b[0m\u001b[0;34m:\u001b[0m\u001b[0;34m\u001b[0m\u001b[0;34m\u001b[0m\u001b[0m\n\u001b[0;32m---> 11\u001b[0;31m         \u001b[0mw\u001b[0m \u001b[0;34m=\u001b[0m \u001b[0mre\u001b[0m\u001b[0;34m.\u001b[0m\u001b[0msub\u001b[0m\u001b[0;34m(\u001b[0m\u001b[0;34m'\\n'\u001b[0m\u001b[0;34m,\u001b[0m \u001b[0;34m' '\u001b[0m\u001b[0;34m,\u001b[0m \u001b[0mi\u001b[0m\u001b[0;34m[\u001b[0m\u001b[0;34m'text'\u001b[0m\u001b[0;34m]\u001b[0m\u001b[0;34m)\u001b[0m\u001b[0;34m.\u001b[0m\u001b[0mstrip\u001b[0m\u001b[0;34m(\u001b[0m\u001b[0;34m)\u001b[0m\u001b[0;34m\u001b[0m\u001b[0;34m\u001b[0m\u001b[0m\n\u001b[0m\u001b[1;32m     12\u001b[0m         \u001b[0minstances\u001b[0m \u001b[0;34m=\u001b[0m \u001b[0;34m\"\"\u001b[0m\u001b[0;34m\u001b[0m\u001b[0;34m\u001b[0m\u001b[0m\n\u001b[1;32m     13\u001b[0m     \u001b[0;32mreturn\u001b[0m \u001b[0mw\u001b[0m\u001b[0;34m,\u001b[0m \u001b[0minstances\u001b[0m\u001b[0;34m\u001b[0m\u001b[0;34m\u001b[0m\u001b[0m\n",
      "\u001b[0;31mNameError\u001b[0m: name 'i' is not defined"
     ]
    }
   ],
   "source": [
    "filename = 'pdf/B.txt'\n",
    "for record in process_text(filename):\n",
    "    w, instances = work(record)\n",
    "    print(f'{record[\"id\"]}: \"{w}\", \"{instances}\"')"
   ]
  },
  {
   "cell_type": "code",
   "execution_count": null,
   "metadata": {},
   "outputs": [],
   "source": []
  }
 ],
 "metadata": {
  "kernelspec": {
   "display_name": "Python 3",
   "language": "python",
   "name": "python3"
  },
  "language_info": {
   "codemirror_mode": {
    "name": "ipython",
    "version": 3
   },
   "file_extension": ".py",
   "mimetype": "text/x-python",
   "name": "python",
   "nbconvert_exporter": "python",
   "pygments_lexer": "ipython3",
   "version": "3.7.2"
  }
 },
 "nbformat": 4,
 "nbformat_minor": 2
}
