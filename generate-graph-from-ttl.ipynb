{
 "cells": [
  {
   "cell_type": "markdown",
   "metadata": {},
   "source": [
    "## Load packages"
   ]
  },
  {
   "cell_type": "code",
   "execution_count": 1,
   "metadata": {
    "collapsed": true
   },
   "outputs": [],
   "source": [
    "%matplotlib inline \n",
    "import rdflib, glob, pandas as pd\n",
    "from rdflib.namespace import RDF, RDFS"
   ]
  },
  {
   "cell_type": "markdown",
   "metadata": {},
   "source": [
    "## Define namespaces"
   ]
  },
  {
   "cell_type": "code",
   "execution_count": 2,
   "metadata": {
    "collapsed": false
   },
   "outputs": [],
   "source": [
    "abri = rdflib.Namespace(\"https://w3id.org/anything-but-routine/4.0/instance/\")\n",
    "abrw = rdflib.Namespace(\"https://w3id.org/anything-but-routine/4.0/work/\")\n",
    "bf = rdflib.Namespace(\"http://id.loc.gov/ontologies/bibframe/\")\n",
    "arm = rdflib.Namespace(\"https://w3id.org/arm/core/ontology/0.1/\")"
   ]
  },
  {
   "cell_type": "markdown",
   "metadata": {},
   "source": [
    "## Parse all .ttl files in subdirectories into a graph"
   ]
  },
  {
   "cell_type": "code",
   "execution_count": 3,
   "metadata": {
    "collapsed": true
   },
   "outputs": [],
   "source": [
    "def initialize_abr_graph():\n",
    "    g = rdflib.Graph()\n",
    "    g.bind(\"abri\", \"https://w3id.org/anything-but-routine/4.0/instance/\")\n",
    "    g.bind(\"abrw\", \"https://w3id.org/anything-but-routine/4.0/work/\")\n",
    "    g.bind(\"bf\", \"http://id.loc.gov/ontologies/bibframe/\")\n",
    "    g.bind(\"arm\", \"https://w3id.org/arm/core/ontology/0.1/\")\n",
    "    return g"
   ]
  },
  {
   "cell_type": "code",
   "execution_count": 46,
   "metadata": {
    "collapsed": false
   },
   "outputs": [
    {
     "name": "stdout",
     "output_type": "stream",
     "text": [
      "ABR graph has 8685 triples.\n"
     ]
    }
   ],
   "source": [
    "g = initialize_abr_graph()\n",
    "for infile in glob.glob(\"edited-ttl/*/*.ttl\"):\n",
    "    g.parse(infile, format='n3')\n",
    "n = len(g)\n",
    "print(f\"ABR graph has {n} triples.\")"
   ]
  },
  {
   "cell_type": "markdown",
   "metadata": {},
   "source": [
    "## Walk the graph to display instances"
   ]
  },
  {
   "cell_type": "code",
   "execution_count": 56,
   "metadata": {
    "collapsed": false
   },
   "outputs": [],
   "source": [
    "qres = g.query(\n",
    "    \"\"\"SELECT ?i ?abrno ?date\n",
    "       WHERE {\n",
    "          ?w rdf:type bf:Work .\n",
    "          ?i bf:instanceOf ?w .\n",
    "          ?i bf:identifiedBy ?id .\n",
    "          ?id bf:source 'Schottlaender v4.0' .\n",
    "          ?id rdf:value ?abrno .\n",
    "          ?i bf:provisionActivity ?pa .\n",
    "          ?pa bf:date ?date .\n",
    "       }\n",
    "       ORDER BY ASC(?date)\"\"\")\n",
    "\n",
    "with open('abr-A-list.md', 'w') as mdfile:\n",
    "    print(\"# A. BOOKS, BROADSIDES, AND PAMPHLETS\", file=mdfile)\n",
    "    print('', file=mdfile)\n",
    "    for row in qres:\n",
    "        instance = row[0]\n",
    "        entry = ''\n",
    "        ids = {}\n",
    "        for id in g.objects(instance, bf.identifiedBy):\n",
    "            ids['{}'.format(g.value(id, bf.source))] = '{}'.format(g.value(id, RDF.value))\n",
    "        # Schottlaender no. + bf:title\n",
    "        # titles can be more complex\n",
    "        entry += '## {}. {}. '.format(ids['Schottlaender v4.0'], g.value(g.value(instance, bf.title), RDFS.label))\n",
    "        # bf:contributor\n",
    "        for contributor in g.objects(instance, bf.contributor):\n",
    "            agent = g.value(contributor, RDFS.label)\n",
    "            # agents can have more than one role\n",
    "            role = g.value(contributor, bf.role)\n",
    "            entry += '{}, {}; '.format(agent, role)\n",
    "        entry = \"{}. \".format(entry[:-2])\n",
    "        # bf:provisionActivity\n",
    "        for publisher in g.objects(instance, bf.provisionActivity):\n",
    "            # provisionActivities can more than one place\n",
    "            place = g.value(publisher, bf.place)\n",
    "            # provisionActivities can more than one agent\n",
    "            agent = g.value(publisher, bf.agent)\n",
    "            date = g.value(publisher, bf.date)\n",
    "            entry += '{}: {}, {}; '.format(place, agent, date)\n",
    "        entry = \"{}. \".format(entry[:-2])\n",
    "        # bf:copyrightDate\n",
    "        if g.value(instance, bf.copyrightDate):\n",
    "            entry += '©{}. '.format(g.value(instance, bf.copyrightDate))\n",
    "        # M&M no. (if present)\n",
    "        if 'Maynard & Miles' in ids:\n",
    "            entry += '{' + 'M&M {}'.format(ids['Maynard & Miles']) + '}'\n",
    "        print(entry, file=mdfile)\n",
    "        print('', file=mdfile)\n",
    "        # bf.note\n",
    "        for note in g.objects(instance, bf.note):\n",
    "            print('    - {}'.format(g.value(note, RDF.value)), file=mdfile)\n",
    "        print('', file=mdfile)"
   ]
  },
  {
   "cell_type": "markdown",
   "metadata": {},
   "source": [
    "## Query the graph to plot publications over year"
   ]
  },
  {
   "cell_type": "markdown",
   "metadata": {},
   "source": [
    "### Query graph to get instance dates and express results as list of lists"
   ]
  },
  {
   "cell_type": "code",
   "execution_count": 44,
   "metadata": {
    "collapsed": false
   },
   "outputs": [],
   "source": [
    "qres = g.query(\n",
    "    \"\"\"SELECT DISTINCT ?i ?d\n",
    "       WHERE {\n",
    "          ?i rdf:type bf:Instance .\n",
    "          ?i bf:provisionActivity ?a .\n",
    "          ?a bf:date ?d .\n",
    "       }\"\"\")\n",
    "\n",
    "instance_dates = [ [row[0].toPython(), row[1].toPython() ] for row in qres ]"
   ]
  },
  {
   "cell_type": "markdown",
   "metadata": {},
   "source": [
    "### Load instance dates into a dataframe and plot publications by year"
   ]
  },
  {
   "cell_type": "code",
   "execution_count": 45,
   "metadata": {
    "collapsed": false
   },
   "outputs": [
    {
     "data": {
      "text/plain": [
       "<matplotlib.axes._subplots.AxesSubplot at 0x113021080>"
      ]
     },
     "execution_count": 45,
     "metadata": {},
     "output_type": "execute_result"
    },
    {
     "data": {
      "image/png": "[encoded data removed]",
      "text/plain": [
       "<Figure size 1080x432 with 1 Axes>"
      ]
     },
     "metadata": {},
     "output_type": "display_data"
    }
   ],
   "source": [
    "df = pd.DataFrame(instance_dates, columns=['instance', 'date'])\n",
    "df['year'] = df['date'].str.extract('(\\d\\d\\d\\d)', expand=False)\n",
    "pub_years = df['year'].value_counts().to_dict()\n",
    "for year in range(1953, 2018):\n",
    "    if '{}'.format(year) not in pub_years:\n",
    "        pub_years['{}'.format(year)] = 0\n",
    "pub_df = pd.DataFrame({'year': pub_years })\n",
    "pub_df['year'].plot(kind='bar',figsize=[15, 6], color='red')"
   ]
  },
  {
   "cell_type": "code",
   "execution_count": null,
   "metadata": {
    "collapsed": true
   },
   "outputs": [],
   "source": []
  }
 ],
 "metadata": {
  "kernelspec": {
   "display_name": "Python [conda env:wsbhack]",
   "language": "python",
   "name": "conda-env-wsbhack-py"
  },
  "language_info": {
   "codemirror_mode": {
    "name": "ipython",
    "version": 3
   },
   "file_extension": ".py",
   "mimetype": "text/x-python",
   "name": "python",
   "nbconvert_exporter": "python",
   "pygments_lexer": "ipython3",
   "version": "3.6.2"
  }
 },
 "nbformat": 4,
 "nbformat_minor": 2
}
