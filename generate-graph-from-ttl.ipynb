{
 "cells": [
  {
   "cell_type": "markdown",
   "metadata": {},
   "source": [
    "## Load packages"
   ]
  },
  {
   "cell_type": "code",
   "execution_count": 2,
   "metadata": {
    "collapsed": true
   },
   "outputs": [],
   "source": [
    "%matplotlib inline \n",
    "import rdflib, glob, pandas as pd\n",
    "from rdflib import URIRef\n",
    "from rdflib.namespace import RDF, RDFS"
   ]
  },
  {
   "cell_type": "markdown",
   "metadata": {},
   "source": [
    "## Define namespaces"
   ]
  },
  {
   "cell_type": "code",
   "execution_count": 3,
   "metadata": {
    "collapsed": false
   },
   "outputs": [],
   "source": [
    "abri = rdflib.Namespace(\"https://w3id.org/anything-but-routine/4.0/instance/\")\n",
    "abrw = rdflib.Namespace(\"https://w3id.org/anything-but-routine/4.0/work/\")\n",
    "bf = rdflib.Namespace(\"http://id.loc.gov/ontologies/bibframe/\")\n",
    "arm = rdflib.Namespace(\"https://w3id.org/arm/core/ontology/0.1/\")"
   ]
  },
  {
   "cell_type": "markdown",
   "metadata": {},
   "source": [
    "## Parse all edited .ttl files into a graph"
   ]
  },
  {
   "cell_type": "code",
   "execution_count": 4,
   "metadata": {
    "collapsed": true
   },
   "outputs": [],
   "source": [
    "def initialize_abr_graph():\n",
    "    g = rdflib.Graph()\n",
    "    g.bind(\"abri\", \"https://w3id.org/anything-but-routine/4.0/instance/\")\n",
    "    g.bind(\"abrw\", \"https://w3id.org/anything-but-routine/4.0/work/\")\n",
    "    g.bind(\"bf\", \"http://id.loc.gov/ontologies/bibframe/\")\n",
    "    g.bind(\"arm\", \"https://w3id.org/arm/core/ontology/0.1/\")\n",
    "    return g"
   ]
  },
  {
   "cell_type": "code",
   "execution_count": 5,
   "metadata": {
    "collapsed": false
   },
   "outputs": [
    {
     "name": "stdout",
     "output_type": "stream",
     "text": [
      "ABR graph has 8685 triples.\n"
     ]
    }
   ],
   "source": [
    "g = initialize_abr_graph()\n",
    "for infile in glob.glob(\"edited-ttl/*/*.ttl\"):\n",
    "    g.parse(infile, format='n3')\n",
    "n = len(g)\n",
    "print(f\"ABR graph has {n} triples.\")"
   ]
  },
  {
   "cell_type": "markdown",
   "metadata": {},
   "source": [
    "## Query the graph to create a dataframe"
   ]
  },
  {
   "cell_type": "code",
   "execution_count": 6,
   "metadata": {
    "collapsed": false
   },
   "outputs": [],
   "source": [
    "qres = g.query(\n",
    "    \"\"\"SELECT ?title ?abrno ?date ?i\n",
    "       WHERE {\n",
    "          ?w rdf:type bf:Work .\n",
    "          ?w rdfs:label ?title .\n",
    "          ?i bf:instanceOf ?w .\n",
    "          ?i bf:identifiedBy ?id .\n",
    "          ?id bf:source 'Schottlaender v4.0' .\n",
    "          ?id rdf:value ?abrno .\n",
    "          ?i bf:provisionActivity ?pa .\n",
    "          ?pa bf:date ?date .\n",
    "       }\n",
    "       ORDER BY ASC(?date)\"\"\")\n",
    "\n",
    "results = [ [row[0].toPython(), row[1].toPython(), row[2].toPython(), row[3].toPython() ] for row in qres ]\n",
    "instance_df = pd.DataFrame(results, columns=['worktitle', 'id', 'date', 'instance'])\n",
    "instance_df['workid'] = instance_df['id'].str[1:-1]\n",
    "instance_df['workid'] = instance_df['workid'].apply(pd.to_numeric)\n",
    "instance_df['instanceltr'] = instance_df['id'].str[-1]\n",
    "instance_df['instanceltr'] = instance_df['instanceltr'].str.upper()\n",
    "instance_df['year'] = instance_df['date'].str.extract('\\[?(\\d\\d\\d\\d)', expand=False)\n",
    "instance_df = instance_df.sort_values(by=['workid', 'instanceltr'])"
   ]
  },
  {
   "cell_type": "markdown",
   "metadata": {},
   "source": [
    "## Use the dataframe to generate a Markdown catalog"
   ]
  },
  {
   "cell_type": "code",
   "execution_count": 7,
   "metadata": {
    "collapsed": false
   },
   "outputs": [],
   "source": [
    "instances = instance_df[['year', 'workid', 'worktitle', 'instanceltr', 'instance']].to_dict('records')\n",
    "terminating_chars = ['!', '?', '.']\n",
    "\n",
    "with open('abr-A-list.md', 'w') as mdfile:\n",
    "    print(\"# A. BOOKS, BROADSIDES, AND PAMPHLETS\", file=mdfile)\n",
    "    print('', file=mdfile)\n",
    "    current_work = None\n",
    "    current_work_title = None\n",
    "    current_year = '0000'\n",
    "    for i in instances:\n",
    "        if i['workid'] != current_work:\n",
    "            if i['year'] > current_year:\n",
    "                current_year = i['year']\n",
    "                print(f\"## {current_year}\", file=mdfile)\n",
    "            current_work = i['workid']\n",
    "            current_work_title = i['worktitle']\n",
    "            if current_work_title[-1] in terminating_chars:\n",
    "                print(f\"### A{current_work}. _{current_work_title}_\", file=mdfile)\n",
    "            else:\n",
    "                print(f\"### A{current_work}. _{current_work_title}._\", file=mdfile)\n",
    "        instance = URIRef(i['instance'])\n",
    "        entry = ''\n",
    "        ids = {}\n",
    "        for id in g.objects(instance, bf.identifiedBy):\n",
    "            ids['{}'.format(g.value(id, bf.source))] = '{}'.format(g.value(id, RDF.value))\n",
    "        # Schottlaender no. + bf:title\n",
    "        # titles can be more complex\n",
    "        schottlaender_id = ids['Schottlaender v4.0']\n",
    "        title = g.value(g.value(instance, bf.title), RDFS.label)\n",
    "        if title[-1] in terminating_chars:\n",
    "            entry += '#### {}. _{}_ '.format(schottlaender_id[-1].upper(), title)\n",
    "        else:\n",
    "            entry += '#### {}. _{}._ '.format(schottlaender_id[-1].upper(), title)\n",
    "        # bf:contributor\n",
    "        for contributor in g.objects(instance, bf.contributor):\n",
    "            agent = g.value(contributor, RDFS.label)\n",
    "            # agents can have more than one role\n",
    "            roles = ''\n",
    "            for role in g.objects(contributor, bf.role):\n",
    "                roles += '{}, '.format(role)\n",
    "            roles = roles[:-2]\n",
    "            entry += '{}, {}; '.format(agent, roles)\n",
    "        entry = \"{}. \".format(entry[:-2])\n",
    "        # bf:provisionActivity\n",
    "        for publisher in g.objects(instance, bf.provisionActivity):\n",
    "            # provisionActivities can have more than one place\n",
    "            place = g.value(publisher, bf.place)\n",
    "            # provisionActivities can have more than one agent\n",
    "            agent = g.value(publisher, bf.agent)\n",
    "            date = g.value(publisher, bf.date)\n",
    "            entry += '{}: {}, {}; '.format(place, agent, date)\n",
    "        entry = \"{}. \".format(entry[:-2])\n",
    "        # bf:copyrightDate\n",
    "        if g.value(instance, bf.copyrightDate):\n",
    "            entry += '©{}. '.format(g.value(instance, bf.copyrightDate))\n",
    "        # M&M no. (if present)\n",
    "        if 'Maynard & Miles' in ids:\n",
    "            entry += '{' + 'M&M {}'.format(ids['Maynard & Miles']) + '}'\n",
    "        print(entry, file=mdfile)\n",
    "        print('', file=mdfile)\n",
    "        # bf.note\n",
    "        for note in g.objects(instance, bf.note):\n",
    "            print('- {}'.format(g.value(note, RDF.value)), file=mdfile)\n",
    "        print('', file=mdfile)"
   ]
  },
  {
   "cell_type": "markdown",
   "metadata": {},
   "source": [
    "## Use the dataframe to plot publications over year"
   ]
  },
  {
   "cell_type": "code",
   "execution_count": 8,
   "metadata": {
    "collapsed": false
   },
   "outputs": [
    {
     "data": {
      "text/plain": [
       "<matplotlib.axes._subplots.AxesSubplot at 0x115700358>"
      ]
     },
     "execution_count": 8,
     "metadata": {},
     "output_type": "execute_result"
    },
    {
     "data": {
      "image/png": "[encoded data removed]",
      "text/plain": [
       "<Figure size 1080x432 with 1 Axes>"
      ]
     },
     "metadata": {},
     "output_type": "display_data"
    }
   ],
   "source": [
    "pub_years = instance_df['year'].value_counts().to_dict()\n",
    "for year in range(1953, 2018):\n",
    "    if '{}'.format(year) not in pub_years:\n",
    "        pub_years['{}'.format(year)] = 0\n",
    "pub_df = pd.DataFrame({'year': pub_years })\n",
    "pub_df['year'].plot(kind='bar',figsize=[15, 6], color='red')"
   ]
  }
 ],
 "metadata": {
  "kernelspec": {
   "display_name": "Python [conda env:wsbhack]",
   "language": "python",
   "name": "conda-env-wsbhack-py"
  }
 },
 "nbformat": 4,
 "nbformat_minor": 2
}
