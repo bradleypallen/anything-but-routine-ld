{
 "cells": [
  {
   "cell_type": "markdown",
   "metadata": {},
   "source": [
    "## Load packages"
   ]
  },
  {
   "cell_type": "code",
   "execution_count": 1,
   "metadata": {
    "collapsed": true
   },
   "outputs": [],
   "source": [
    "%matplotlib inline \n",
    "import rdflib, glob, pandas as pd\n",
    "from rdflib.namespace import RDF, RDFS"
   ]
  },
  {
   "cell_type": "markdown",
   "metadata": {},
   "source": [
    "## Define namespaces"
   ]
  },
  {
   "cell_type": "code",
   "execution_count": 2,
   "metadata": {
    "collapsed": true
   },
   "outputs": [],
   "source": [
    "abri = rdflib.Namespace(\"https://w3id.org/schottlaender/4.0/instance/\")\n",
    "abrw = rdflib.Namespace(\"https://w3id.org/schottlaender/4.0/work/\")\n",
    "abra = rdflib.Namespace(\"https://w3id.org/schottlaender/4.0/agent/\")\n",
    "abrp = rdflib.Namespace(\"https://w3id.org/schottlaender/4.0/place/\")\n",
    "bf = rdflib.Namespace(\"http://id.loc.gov/ontologies/bibframe/\")\n",
    "arm = rdflib.Namespace(\"https://w3id.org/arm/\")"
   ]
  },
  {
   "cell_type": "markdown",
   "metadata": {},
   "source": [
    "## Parse all .ttl files in subdirectories into a graph"
   ]
  },
  {
   "cell_type": "code",
   "execution_count": 3,
   "metadata": {
    "collapsed": true
   },
   "outputs": [],
   "source": [
    "def initialize_abr_graph():\n",
    "    g = rdflib.Graph()\n",
    "    g.bind(\"abri\", \"https://w3id.org/schottlaender/4.0/instance/\")\n",
    "    g.bind(\"abrw\", \"https://w3id.org/schottlaender/4.0/work/\")\n",
    "    g.bind(\"abra\", \"https://w3id.org/schottlaender/4.0/agent/\")\n",
    "    g.bind(\"abrp\", \"https://w3id.org/schottlaender/4.0/place/\")\n",
    "    g.bind(\"bf\", \"http://id.loc.gov/ontologies/bibframe/\")\n",
    "    g.bind(\"arm\", \"https://w3id.org/arm/\")\n",
    "    return g"
   ]
  },
  {
   "cell_type": "code",
   "execution_count": 4,
   "metadata": {
    "collapsed": false
   },
   "outputs": [
    {
     "name": "stdout",
     "output_type": "stream",
     "text": [
      "ABR graph has 7473 triples.\n"
     ]
    }
   ],
   "source": [
    "g = initialize_abr_graph()\n",
    "for infile in glob.glob(\"ttl/*/*.ttl\"):\n",
    "    g.parse(infile, format='n3')\n",
    "n = len(g)\n",
    "print(f\"ABR graph has {n} triples.\")"
   ]
  },
  {
   "cell_type": "markdown",
   "metadata": {},
   "source": [
    "## Walk the graph to display instances for a work"
   ]
  },
  {
   "cell_type": "code",
   "execution_count": 5,
   "metadata": {
    "collapsed": true
   },
   "outputs": [],
   "source": [
    "def publication(inst):\n",
    "    for pa in g.objects(inst, bf.provisionActivity):\n",
    "        place = g.value(pa, bf.place)\n",
    "        place_name = g.value(place, RDFS.label)\n",
    "        agent = g.value(pa, bf.agent)\n",
    "        agent_name = g.value(agent, RDFS.label)\n",
    "        date = g.value(pa, bf.date)\n",
    "        if place_name and date and agent_name:\n",
    "            break\n",
    "    return f\"{place_name}: {agent_name}, {date}\""
   ]
  },
  {
   "cell_type": "code",
   "execution_count": 6,
   "metadata": {
    "collapsed": false
   },
   "outputs": [
    {
     "name": "stdout",
     "output_type": "stream",
     "text": [
      "The Yage Letters. [San Francisco]: City Lights Books, 1975.\n",
      "    - Softbound (no hardbound issued).\n",
      "    - 2nd ed.\n",
      "    - [See Section C below]\n",
      "    - 7 (Autumn 1957).\n",
      "    - Expanded to include an additional letter, dated 10 July 1953, originally published in Black Mountain Review No.\n",
      "\n",
      "The Yage Letters. [San Francisco]: City Lights Books, 1988.\n",
      "    - [See Section C below]\n",
      "    - Expanded to include “Roosevelt After Inauguration,” originally published in The Floating Bear, No.\n",
      "    - 3rd ed.\n",
      "    - 9 (1961).\n",
      "    - Softbound (no hardbound issued).\n",
      "\n",
      "The Yage Letters. [San Francisco]: City Lights Books, 1990.\n",
      "    - Softbound (no hardbound issued).\n",
      "    - This actually appears to be a new printing of the 3rd ed., above.\n",
      "    - 4th [sic] ed.\n",
      "    - ©1975.\n",
      "\n",
      "The Yage Letters Redux. [San Francisco]: City Lights Books, 2006.\n",
      "    - 4th ed.\n",
      "    - xlvii-xlviii.\n",
      "    - “Redux makes a large number of changes and corrections—around 250—most of which are small ... the  Appendix section ... include[s] previously unpublished primary materials ...”—pp.\n",
      "    - Expanded to include extensive Introduction, Appendices, and Notes.\n",
      "    - Softbound (no hardbound issued).\n",
      "    - San Francisco: City Lights Books, 2006.\n",
      "    - Edited and with an Introduction by Oliver Harris.\n",
      "\n",
      "The Yage Letters. [San Francisco]: City Lights Books, 1963.\n",
      "    - 2 (Summer 1959)] and [No.\n",
      "    - 3rd printing, 1966.\n",
      "    - Burroughs’ 1960 letter was in [The] Floating Bear No.\n",
      "    - Softbound (no hardbound issued).\n",
      "    - verso.\n",
      "    - “The 1953 letters were ... [originally] published in Big Table [No.\n",
      "    - 3 (1961)].\n",
      "    - 5 [(1961)].\n",
      "    - (See Section C below)  2nd printing, 1965.\n",
      "    - With Allen Ginsberg.\n",
      "    - {M&M A8a}  An epistolary novel.\n",
      "    - 1 [(1963)].”—T.p.\n",
      "    - ‘I am Dying, Meester?’ was in City Lights Journal No.\n",
      "\n"
     ]
    }
   ],
   "source": [
    "for s,p,o in g.triples( (abrw['A8'], bf.hasInstance, None) ):\n",
    "    print('{}. {}.'.format(g.value(g.value(o, bf.title), RDFS.label), publication(o)))\n",
    "    for note in g.objects(o, bf.note):\n",
    "        print('    - {}'.format(g.value(note, RDF.value)))\n",
    "    print('')"
   ]
  },
  {
   "cell_type": "markdown",
   "metadata": {},
   "source": [
    "## Query the graph to plot publications over year"
   ]
  },
  {
   "cell_type": "markdown",
   "metadata": {},
   "source": [
    "### Query graph to get instance dates and express results as list of lists"
   ]
  },
  {
   "cell_type": "code",
   "execution_count": 7,
   "metadata": {
    "collapsed": false
   },
   "outputs": [],
   "source": [
    "qres = g.query(\n",
    "    \"\"\"SELECT DISTINCT ?i ?d\n",
    "       WHERE {\n",
    "          ?i rdf:type bf:Instance .\n",
    "          ?i bf:provisionActivity ?a .\n",
    "          ?a bf:date ?d .\n",
    "       }\"\"\")\n",
    "\n",
    "instance_dates = [ [row[0].toPython(), row[1].toPython() ] for row in qres ]"
   ]
  },
  {
   "cell_type": "markdown",
   "metadata": {},
   "source": [
    "### Load instance dates into a datadrame and plot publications by year"
   ]
  },
  {
   "cell_type": "code",
   "execution_count": 8,
   "metadata": {
    "collapsed": false
   },
   "outputs": [
    {
     "data": {
      "text/plain": [
       "<matplotlib.axes._subplots.AxesSubplot at 0x1139b2d30>"
      ]
     },
     "execution_count": 8,
     "metadata": {},
     "output_type": "execute_result"
    },
    {
     "data": {
      "image/png": "[encoded data removed]",
      "text/plain": [
       "<Figure size 1080x432 with 1 Axes>"
      ]
     },
     "metadata": {},
     "output_type": "display_data"
    }
   ],
   "source": [
    "df = pd.DataFrame(instance_dates, columns=['instance', 'date'])\n",
    "df['year'] = df['date'].str.extract('(\\d\\d\\d\\d)', expand=False)\n",
    "pub_years = df['year'].value_counts().to_dict()\n",
    "for year in range(1953, 2018):\n",
    "    if '{}'.format(year) not in pub_years:\n",
    "        pub_years['{}'.format(year)] = 0\n",
    "pub_df = pd.DataFrame({'year': pub_years })\n",
    "pub_df['year'].plot(kind='bar',figsize=[15, 6], color='red')"
   ]
  }
 ],
 "metadata": {
  "kernelspec": {
   "display_name": "Python [conda env:wsbhack]",
   "language": "python",
   "name": "conda-env-wsbhack-py"
  },
  "language_info": {
   "codemirror_mode": {
    "name": "ipython",
    "version": 3
   },
   "file_extension": ".py",
   "mimetype": "text/x-python",
   "name": "python",
   "nbconvert_exporter": "python",
   "pygments_lexer": "ipython3",
   "version": "3.6.2"
  }
 },
 "nbformat": 4,
 "nbformat_minor": 2
}
