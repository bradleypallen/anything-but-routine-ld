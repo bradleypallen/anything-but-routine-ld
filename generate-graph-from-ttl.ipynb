{
 "cells": [
  {
   "cell_type": "markdown",
   "metadata": {},
   "source": [
    "## Load packages"
   ]
  },
  {
   "cell_type": "code",
   "execution_count": 1,
   "metadata": {
    "collapsed": true
   },
   "outputs": [],
   "source": [
    "%matplotlib inline \n",
    "import rdflib, glob, pandas as pd\n",
    "from rdflib import URIRef\n",
    "from rdflib.namespace import RDF, RDFS"
   ]
  },
  {
   "cell_type": "markdown",
   "metadata": {},
   "source": [
    "## Define namespaces"
   ]
  },
  {
   "cell_type": "code",
   "execution_count": 2,
   "metadata": {
    "collapsed": false
   },
   "outputs": [],
   "source": [
    "abri = rdflib.Namespace(\"https://bradleypallen.org/anything-but-routine-ld/4.0/instance/\")\n",
    "abrw = rdflib.Namespace(\"https://bradleypallen.org/anything-but-routine-ld/4.0/work/\")\n",
    "bf = rdflib.Namespace(\"http://id.loc.gov/ontologies/bibframe/\")\n",
    "arm = rdflib.Namespace(\"https://w3id.org/arm/core/ontology/0.1/\")"
   ]
  },
  {
   "cell_type": "markdown",
   "metadata": {},
   "source": [
    "## Parse all edited .ttl files into a graph"
   ]
  },
  {
   "cell_type": "code",
   "execution_count": 3,
   "metadata": {
    "collapsed": true
   },
   "outputs": [],
   "source": [
    "def initialize_abr_graph():\n",
    "    g = rdflib.Graph()\n",
    "    g.bind(\"abri\", \"https://bradleypallen.org/anything-but-routine-ld/4.0/instance/\")\n",
    "    g.bind(\"abrw\", \"https://bradleypallen.org/anything-but-routine-ld/4.0/work/\")\n",
    "    g.bind(\"bf\", \"http://id.loc.gov/ontologies/bibframe/\")\n",
    "    g.bind(\"arm\", \"https://w3id.org/arm/core/ontology/0.1/\")\n",
    "    return g"
   ]
  },
  {
   "cell_type": "code",
   "execution_count": 4,
   "metadata": {
    "collapsed": false
   },
   "outputs": [
    {
     "name": "stdout",
     "output_type": "stream",
     "text": [
      "ABR graph has 8675 triples.\n"
     ]
    }
   ],
   "source": [
    "g = initialize_abr_graph()\n",
    "for infile in glob.glob(\"edited-ttl/*/*.ttl\"):\n",
    "    g.parse(infile, format='n3')\n",
    "n = len(g)\n",
    "print(f\"ABR graph has {n} triples.\")"
   ]
  },
  {
   "cell_type": "markdown",
   "metadata": {},
   "source": [
    "## Query the graph to create a dataframe"
   ]
  },
  {
   "cell_type": "code",
   "execution_count": 5,
   "metadata": {
    "collapsed": false
   },
   "outputs": [],
   "source": [
    "qres = g.query(\n",
    "    \"\"\"SELECT DISTINCT ?title ?abrno ?date ?i\n",
    "       WHERE {\n",
    "          ?w rdf:type bf:Work .\n",
    "          ?w rdfs:label ?title .\n",
    "          ?i bf:instanceOf ?w .\n",
    "          ?i bf:identifiedBy ?id .\n",
    "          ?id bf:source 'Schottlaender v4.0' .\n",
    "          ?id rdf:value ?abrno .\n",
    "          ?i bf:provisionActivity ?pa .\n",
    "          ?pa bf:date ?date .\n",
    "       }\n",
    "       ORDER BY ASC(?date)\"\"\")\n",
    "\n",
    "results = [ [row[0].toPython(), row[1].toPython(), row[2].toPython(), row[3].toPython() ] for row in qres ]\n",
    "instance_df = pd.DataFrame(results, columns=['worktitle', 'id', 'date', 'instance'])\n",
    "instance_df['workid'] = instance_df['id'].str[1:-1]\n",
    "instance_df['workid'] = instance_df['workid'].apply(pd.to_numeric)\n",
    "instance_df['instanceltr'] = instance_df['id'].str[-1]\n",
    "instance_df['instanceltr'] = instance_df['instanceltr'].str.upper()\n",
    "instance_df['year'] = instance_df['date'].str.extract('\\[?(\\d\\d\\d\\d)', expand=False)\n",
    "instance_df = instance_df.sort_values(by=['workid', 'instanceltr'])"
   ]
  },
  {
   "cell_type": "markdown",
   "metadata": {},
   "source": [
    "## Use the dataframe to plot publications over year"
   ]
  },
  {
   "cell_type": "code",
   "execution_count": 6,
   "metadata": {
    "collapsed": false
   },
   "outputs": [
    {
     "data": {
      "text/plain": [
       "<matplotlib.axes._subplots.AxesSubplot at 0x112b6fb00>"
      ]
     },
     "execution_count": 6,
     "metadata": {},
     "output_type": "execute_result"
    },
    {
     "data": {
      "image/png": "[encoded data removed]",
      "text/plain": [
       "<Figure size 1080x432 with 1 Axes>"
      ]
     },
     "metadata": {},
     "output_type": "display_data"
    }
   ],
   "source": [
    "pub_years = instance_df['year'].value_counts().to_dict()\n",
    "for year in range(1953, 2018):\n",
    "    if '{}'.format(year) not in pub_years:\n",
    "        pub_years['{}'.format(year)] = 0\n",
    "pub_df = pd.DataFrame({'year': pub_years })\n",
    "pub_df['year'].plot(kind='bar',figsize=[15, 6], color='red')"
   ]
  }
 ],
 "metadata": {
  "kernelspec": {
   "display_name": "Python [conda env:wsbhack]",
   "language": "python",
   "name": "conda-env-wsbhack-py"
  },
  "language_info": {
   "codemirror_mode": {
    "name": "ipython",
    "version": 3
   },
   "file_extension": ".py",
   "mimetype": "text/x-python",
   "name": "python",
   "nbconvert_exporter": "python",
   "pygments_lexer": "ipython3",
   "version": "3.6.2"
  }
 },
 "nbformat": 4,
 "nbformat_minor": 2
}
