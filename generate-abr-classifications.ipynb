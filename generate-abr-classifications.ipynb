{
 "cells": [
  {
   "cell_type": "markdown",
   "metadata": {},
   "source": [
    "## Load packages"
   ]
  },
  {
   "cell_type": "code",
   "execution_count": 14,
   "metadata": {},
   "outputs": [],
   "source": [
    "import rdflib, glob\n",
    "from rdflib import URIRef, Literal\n",
    "from rdflib.namespace import RDF, RDFS, DCTERMS, SKOS"
   ]
  },
  {
   "cell_type": "markdown",
   "metadata": {},
   "source": [
    "## Define namespaces"
   ]
  },
  {
   "cell_type": "code",
   "execution_count": 2,
   "metadata": {
    "collapsed": true
   },
   "outputs": [],
   "source": [
    "abrc = rdflib.Namespace(\"https://w3id.org/anything-but-routine/4.0/classification/\")\n",
    "abri = rdflib.Namespace(\"https://w3id.org/anything-but-routine/4.0/instance/\")\n",
    "abrw = rdflib.Namespace(\"https://w3id.org/anything-but-routine/4.0/work/\")\n",
    "bf = rdflib.Namespace(\"http://id.loc.gov/ontologies/bibframe/\")\n",
    "arm = rdflib.Namespace(\"https://w3id.org/arm/core/ontology/0.1/\")"
   ]
  },
  {
   "cell_type": "code",
   "execution_count": 3,
   "metadata": {
    "collapsed": true
   },
   "outputs": [],
   "source": [
    "def initialize_abr_graph():\n",
    "    g = rdflib.Graph()\n",
    "    g.bind(\"abrc\", \"https://w3id.org/anything-but-routine/4.0/classification/\")\n",
    "    g.bind(\"abri\", \"https://w3id.org/anything-but-routine/4.0/instance/\")\n",
    "    g.bind(\"abrw\", \"https://w3id.org/anything-but-routine/4.0/work/\")\n",
    "    g.bind(\"bf\", \"http://id.loc.gov/ontologies/bibframe/\")\n",
    "    g.bind(\"arm\", \"https://w3id.org/arm/core/ontology/0.1/\")\n",
    "    return g"
   ]
  },
  {
   "cell_type": "markdown",
   "metadata": {},
   "source": [
    "## Add bf:Classifications for ABR v4.0"
   ]
  },
  {
   "cell_type": "code",
   "execution_count": 15,
   "metadata": {},
   "outputs": [],
   "source": [
    "scheme = 'Schottlaender_v4_0'\n",
    "\n",
    "categories = {\n",
    "    'A': 'BOOKS, BROADSIDES, AND PAMPHLETS',\n",
    "    'B': 'ART BOOKS, EXHIBITION CATALOGUES, AND RELATED ITEMS',\n",
    "    'C': 'CONTRIBUTIONS TO PERIODICALS',\n",
    "    'D': 'FOREIGN TRANSLATIONS',\n",
    "    'E': 'SOUND RECORDINGS',\n",
    "    'F': 'VIDEO RECORDINGS',\n",
    "    'G': 'MISCELLANEOUS',\n",
    "    'H': 'BIOGRAPHY, INTERVIEWS, AND LETTERS',\n",
    "    'I': 'BIBLIOGRAPHY AND CRITICISM'\n",
    "}\n",
    "\n",
    "category_definitions = {\n",
    "    'A': '\"... Burroughs’ publications in book, broadside, and pamphlet form. Foreign titles are included only if they have no English-language analogue (e.g., A16) or represent the first publication of a particular title (e.g., A34a).\"-Introduction.',\n",
    "    'B': '\"... Burroughs’ art books (several of which were co-authored) and catalogs of exhibitions of his art.\"-Introduction.',\n",
    "    'C': '\"... Burroughs’ many hundreds of contributions to periodicals.\"-Introduction.',\n",
    "    'D': '\"... foreign translations of Burroughs’ work.\"-Introduction.',\n",
    "    'E': '\"... Burroughs’ own sound recordings, and his contributions to or appearances on those by others.\"-Introduction.',\n",
    "    'F': '\"... the video formats in which Burroughs’ early film work has been made available, along with various of Burroughs’ readings and other Burroughs-related material that have also been made available as video recordings.\"-Introduction.',\n",
    "    'G': '\"... various miscellaneous items which, while most are not by Burroughs, are nevertheless relevant in and to his bibliography.\"-Introduction.',\n",
    "    'H': '\"... biographies of, interviews with, and letters by Burroughs\"-Introduction.',\n",
    "    'I': '\"... bibliographies and criticism of him [Burroughs]. Bibliographic and critical works are included only if issued as stand-alone publications, and only if they deal exclusively with Burroughs or if he is named in the title.\"-Introduction.'    \n",
    "}\n",
    "\n",
    "h = initialize_abr_graph()\n",
    "scheme_uri = abrc[scheme]\n",
    "h.add((uri, RDF.type, bf.Classification))\n",
    "h.add((uri, RDFS.label, Literal('Schottlaender v4.0')))\n",
    "h.add((uri, SKOS.definition, Literal('The broad categorization scheme used in Brian E.C. Schottlaender’s \"ANYTHING BUT ROUTINE: A Selectively Annotated Bibliography of William S. Burroughs v. 4.0\"')))\n",
    "h.serialize(f\"edited-ttl/classification/{scheme}.ttl\", format='turtle')\n",
    "\n",
    "for category, label in categories.items():\n",
    "    uri = abrc[category]\n",
    "    h = initialize_abr_graph()\n",
    "    h.add((uri, RDF.type, bf.Classification))\n",
    "    h.add((uri, RDFS.subClassOf, scheme_uri))\n",
    "    h.add((uri, RDFS.label, Literal(label)))\n",
    "    h.add((uri, SKOS.definition, Literal(category_definitions[category])))\n",
    "    h.serialize(f\"edited-ttl/classification/{category}.ttl\", format='turtle')"
   ]
  },
  {
   "cell_type": "markdown",
   "metadata": {},
   "source": [
    "## Add bf:classification to bf:Works, bf:Instances"
   ]
  },
  {
   "cell_type": "code",
   "execution_count": 16,
   "metadata": {
    "collapsed": true
   },
   "outputs": [],
   "source": [
    "for infile in glob.glob(\"edited-ttl/instance/*.ttl\"):\n",
    "    g = initialize_abr_graph()\n",
    "    g.parse(infile, format='n3')\n",
    "    for instance in g.subjects(RDF.type, bf.Instance):\n",
    "        g.add((instance, bf.classification, abrc['A']))\n",
    "    g.serialize(infile, format='turtle')"
   ]
  },
  {
   "cell_type": "code",
   "execution_count": 17,
   "metadata": {
    "collapsed": true
   },
   "outputs": [],
   "source": [
    "for infile in glob.glob(\"edited-ttl/work/*.ttl\"):\n",
    "    g = initialize_abr_graph()\n",
    "    g.parse(infile, format='n3')\n",
    "    for work in g.subjects(RDF.type, bf.Work):\n",
    "        g.add((work, bf.classification, abrc['A']))\n",
    "    g.serialize(infile, format='turtle')"
   ]
  }
 ],
 "metadata": {
  "kernelspec": {
   "display_name": "Python [conda env:wsbhack]",
   "language": "python",
   "name": "conda-env-wsbhack-py"
  },
  "language_info": {
   "codemirror_mode": {
    "name": "ipython",
    "version": 3
   },
   "file_extension": ".py",
   "mimetype": "text/x-python",
   "name": "python",
   "nbconvert_exporter": "python",
   "pygments_lexer": "ipython3",
   "version": "3.6.2"
  }
 },
 "nbformat": 4,
 "nbformat_minor": 2
}
