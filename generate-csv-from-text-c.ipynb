{
 "cells": [
  {
   "cell_type": "markdown",
   "metadata": {},
   "source": [
    "## Load packages"
   ]
  },
  {
   "cell_type": "code",
   "execution_count": 1,
   "metadata": {},
   "outputs": [],
   "source": [
    "import numpy as np, pandas as pd, rdflib, re\n",
    "from rdflib.namespace import RDF, RDFS\n",
    "from rdflib import URIRef, BNode, Literal"
   ]
  },
  {
   "cell_type": "markdown",
   "metadata": {},
   "source": [
    "## Initialize namespaces"
   ]
  },
  {
   "cell_type": "code",
   "execution_count": 2,
   "metadata": {},
   "outputs": [],
   "source": [
    "ABRC = rdflib.Namespace(\"https://wsburroughs.link/anything-but-routine/4.0/classification/\")\n",
    "ABRI = rdflib.Namespace(\"https://wsburroughs.link/anything-but-routine/4.0/instance/\")\n",
    "ABRW = rdflib.Namespace(\"https://wsburroughs.link/anything-but-routine/4.0/work/\")\n",
    "BF = rdflib.Namespace(\"http://id.loc.gov/ontologies/bibframe/\")\n",
    "ARM = rdflib.Namespace(\"https://w3id.org/arm/core/ontology/0.1/\")"
   ]
  },
  {
   "cell_type": "markdown",
   "metadata": {},
   "source": [
    "## Define function to initialize graphs"
   ]
  },
  {
   "cell_type": "code",
   "execution_count": 3,
   "metadata": {},
   "outputs": [],
   "source": [
    "def initialize_abr_graph():\n",
    "    g = rdflib.Graph()\n",
    "    g.bind(\"abrc\", \"https://wsburroughs.link/anything-but-routine/4.0/classification/\")\n",
    "    g.bind(\"abri\", \"https://wsburroughs.link/anything-but-routine/4.0/instance/\")\n",
    "    g.bind(\"abrw\", \"https://wsburroughs.link/anything-but-routine/4.0/work/\")\n",
    "    g.bind(\"bf\", \"http://id.loc.gov/ontologies/bibframe/\")\n",
    "    g.bind(\"arm\", \"https://w3id.org/arm/core/ontology/0.1/\")\n",
    "    return g"
   ]
  },
  {
   "cell_type": "markdown",
   "metadata": {},
   "source": [
    "## Define function to extract instance text into dictionary"
   ]
  },
  {
   "cell_type": "code",
   "execution_count": 4,
   "metadata": {},
   "outputs": [],
   "source": [
    "def process_text(filename):\n",
    "    file = open(filename,'r')\n",
    "    text = file.read()\n",
    "    ids = [ match.group(1) for match in re.finditer('\\n(C\\d+)\\..*\\n', text) ]\n",
    "    text2 = re.sub(r'\\d\\s\\d\\s\\d\\s\\d', '', text)\n",
    "    text3 = re.sub(r'\\s(\\d{2,3})\\n\\n', '', text2)\n",
    "    descriptions = re.split(r'\\s*C\\d+\\.\\s+', text3)[1:]\n",
    "    records = []\n",
    "    for id, desc in zip(ids, descriptions):\n",
    "        records.append(process_text_record(id, desc))\n",
    "    return records\n",
    "\n",
    "def process_text_record(id, desc):\n",
    "    #txt = re.sub('\\n+', '\\n', desc)\n",
    "    txt = re.sub('\\n+', '', desc)\n",
    "    txt = re.sub(r' +', ' ', txt)\n",
    "    txt = re.sub('\\uf02d', '-', txt)\n",
    "    txt = re.sub('\\uf0be', '-', txt)\n",
    "    break_idx = re.search(r'[\\uf0d8\\uf0b7\\uf0a7]', txt).start()\n",
    "    label = re.sub('\\n', ' ', txt[:break_idx]).strip()\n",
    "    m = re.match('(.+) [\\[\\(](.*)[\\]\\)]', label)\n",
    "    title = m.group(1)\n",
    "    date = m.group(2)\n",
    "    tmp = re.sub('\\n', ' ', txt[break_idx:]).strip()\n",
    "    tmp = re.sub(' \\uf0d8', '\\n\\uf0d8', tmp)\n",
    "    tmp = re.sub(' \\uf0b7', '\\n\\uf0b7', tmp)\n",
    "    tmp = re.sub(' \\uf0a7', '\\n\\uf0b7', tmp)       \n",
    "    state = 0\n",
    "    notes = []\n",
    "    parts = []\n",
    "    for bullet in tmp.split('\\n'):\n",
    "        str = bullet[1:].strip()\n",
    "        if bullet.startswith('\\uf0d8'):\n",
    "            if state == 0:\n",
    "                notes.append(str)\n",
    "            else:\n",
    "                parts[-1]['notes'].append(str)\n",
    "        elif bullet.startswith('\\uf0b7'):\n",
    "            parts.append({'title': str, 'notes': []})\n",
    "            state = 1\n",
    "        else:\n",
    "            pass  \n",
    "    return { 'id': id, 'text': txt, 'desc': tmp, 'raw_desc': desc, 'title': title, \n",
    "             'label': label, 'date': date, 'notes': notes, 'parts': parts }    \n"
   ]
  },
  {
   "cell_type": "markdown",
   "metadata": {},
   "source": [
    "## Define functions for creating entities in graphs"
   ]
  },
  {
   "cell_type": "code",
   "execution_count": 5,
   "metadata": {},
   "outputs": [],
   "source": [
    "def person(graph, agent=\"William S. Burroughs\", role=\"author\"):\n",
    "    p = BNode()\n",
    "    graph.add((p, RDF.type, BF.Agent))\n",
    "    graph.add((p, RDF.type, BF.Person))\n",
    "    graph.add((p, BF.role, Literal(role)))\n",
    "    graph.add((p, RDFS.label, Literal(agent)))\n",
    "    return p\n",
    "\n",
    "def title(graph, title):\n",
    "    t = BNode()\n",
    "    graph.add((t, RDF.type, BF.Title))\n",
    "    graph.add((t, RDFS.label, Literal(title)))\n",
    "    return t\n",
    "    \n",
    "def identifier(graph, identifier, source=\"Schottlaender 4.0\"):\n",
    "    i = BNode()\n",
    "    graph.add((i, RDF.type, BF.Identifier))\n",
    "    graph.add((i, BF.source, Literal(source)))\n",
    "    graph.add((i, RDF.value, Literal(identifier)))\n",
    "    return i\n",
    "    \n",
    "def publication(graph, date, agent=None, place=None):\n",
    "    p = BNode()\n",
    "    graph.add((p, RDF.type, BF.ProvisionActivity))\n",
    "    graph.add((p, RDF.type, BF.Publication))\n",
    "    graph.add((p, BF.date, Literal(date)))\n",
    "    if agent:\n",
    "        graph.add((p, BF.agent, Literal(agent)))\n",
    "    if place:\n",
    "        graph.add((p, BF.place, Literal(place)))\n",
    "    return p\n",
    "\n",
    "def note(graph, note):\n",
    "    n = BNode()\n",
    "    graph.add((n, RDF.type, BF.Note))\n",
    "    graph.add((n, RDF.value, Literal(note)))\n",
    "    return n\n",
    "\n",
    "def text(graph, title):\n",
    "    a = BNode()\n",
    "    graph.add((a, RDF.type, bf.Instance))\n",
    "    graph.add((a, RDF.type, bf.Text))\n",
    "    graph.add((a, RDFS.label, Literal(title)))\n",
    "    return a"
   ]
  },
  {
   "cell_type": "markdown",
   "metadata": {},
   "source": [
    "## Define function to generate Turtle files from instance records"
   ]
  },
  {
   "cell_type": "code",
   "execution_count": 6,
   "metadata": {},
   "outputs": [],
   "source": [
    "def process_record(i):\n",
    "    g = initialize_abr_graph()\n",
    "    # URI identifier\n",
    "    name = i['id']\n",
    "    id = abri[name]\n",
    "    g.add((id, RDF.type, BF.Instance))\n",
    "    g.add((id, RDF.type, BF.Text))\n",
    "    # rdfs:label\n",
    "    g.add((id, RDFS.label, Literal(i['title'])))\n",
    "    # bf:classification\n",
    "    g.add((id, BF.classification, abrc['C']))\n",
    "    # bf.contributor\n",
    "    g.add((id, BF.contributor, person(g, \"William S. Burroughs\", \"author\")))\n",
    "    # bf:title\n",
    "    g.add((id, BF.title, title(g, i['title'])))\n",
    "    # bf:identifiedBy\n",
    "    g.add((id, BF.identifiedBy, identifier(g, name, \"Schottlaender v4.0\")))\n",
    "    m_n_m = re.match('.*\\{M\\&M (.+)\\}', i['label'])\n",
    "    if m_n_m:\n",
    "        g.add((id, BF.identifiedBy, identifier(g, m_n_m.group(1), \"Maynard & Miles\")))\n",
    "    # bf:provisionActivity\n",
    "    if i['date']:\n",
    "        g.add((id, BF.provisionActivity, publication(g, i['date'])))\n",
    "    # bf:note\n",
    "    for n in i['notes']:\n",
    "        g.add((id, BF.note, note(g, n)))\n",
    "    # bf:hasPart\n",
    "    for part in i['parts']:\n",
    "        p = text(g, part['title'])\n",
    "        g.add((id, BF.hasPart, p))\n",
    "        for n in part['notes']:\n",
    "            g.add((p, BF.note, Literal(n)))\n",
    "    g.serialize(f\"ttl/instance/{name}.ttl\", format='turtle')\n",
    "    return id"
   ]
  },
  {
   "cell_type": "markdown",
   "metadata": {},
   "source": [
    "## Process text file into Turtle files"
   ]
  },
  {
   "cell_type": "code",
   "execution_count": 224,
   "metadata": {},
   "outputs": [],
   "source": [
    "filename = 'pdf/C.txt'\n",
    "for record in process_text(filename):\n",
    "    process_record(record)"
   ]
  },
  {
   "cell_type": "code",
   "execution_count": 252,
   "metadata": {},
   "outputs": [
    {
     "name": "stdout",
     "output_type": "stream",
     "text": [
      "C56 [('{M&M C59} cover: “Summer 1963.”', '\\uf0d8')]\n",
      "C57 [('{M&M C93} cover: “An Odour-Fill [sic] Periodical.”', '\\uf0d8')]\n",
      "C65 [('{M&M C84-86} 1st state has red 2s./6p. price label [BeatBooks 36]; 2nd state was 3s [PBA 198]. ', '\\uf0d8')]\n",
      "C97 [('{M&M C116} ', '\\uf0d8')]\n",
      "C109 [('{M&M C120} ', '\\uf0d8')]\n",
      "C111 [('{M&M C109} ', '\\uf0d8')]\n",
      "C118 [('{M&M C129} Includes “Hommage to William Seward Burroughs” by Philip Whalen.', '\\uf0d8')]\n",
      "C128 [('Includes “Myth-Maker of the 20th Century,” an article about Burroughs by J. G. Ballard.', '\\uf0d8')]\n",
      "C130 [('{M&M C150} Includes “Homage to William Seward Burroughs” by Philip Whalen.', '\\uf0d8')]\n",
      "C162 [('{M&M C174} ', '\\uf0d8')]\n",
      "C325 [('Includes 40 copies with a numbered, signed serigraph by contributor Gil J. Wolman.', '\\uf0d8')]\n",
      "C348 [('{M&M C350–C352} Issue title: “Cut Up.”', '\\uf0d8')]\n",
      "C451 [('Includes “Note sur Cobble Stone Gardens” by J.-F. Chevrier and Philippe Roussin.', '\\uf0d8')]\n",
      "C456 [('Issue title: “Schizo-Culture 1”', '\\uf0d8')]\n",
      "C458 [('Includes “Riding the Energy Train With William Burroughs” by Lem Coley.', '\\uf0d8')]\n",
      "C505 [('Includes “Frontlines: William Burroughs—Notes From the Cellular Battlezone” by Robert Ferrigno.', '\\uf0d8')]\n",
      "C507 [('JACKET: “The Cassady Issue.”', '\\uf0d8')]\n",
      "C515 [('Issue titled L’Espace Amérique.', '\\uf0d8')]\n",
      "C521 [('In German. Entire issue—featuring essays, interviews, and photographs—is devoted to Burroughs.', '\\uf0d8')]\n",
      "C524 [('Issue title: “The German Issue”', '\\uf0d8')]\n",
      "C528 [('Includes excerpt from Naken Lunsj, the Norwegian translation of Naked Lunch [see Section D below].', '\\uf0d8')]\n",
      "C532 [('Jacket: “Special Theme Issue: Dream States.”', '\\uf0d8')]\n",
      "C542 [('Includes “On William Burroughs” by James Grauerholz.', '\\uf0d8')]\n",
      "C545 [('Includes a review of The Place of Dead Roads by Perry Meisel.', '\\uf0d8')]\n",
      "C548 [('Jacket: “William S. Burroughs Number.”', '\\uf0d8')]\n",
      "C553 [('Jacket: “Silver Anniversary”', '\\uf0d8')]\n",
      "C572 [('Issue title: “USA”', '\\uf0d8')]\n",
      "C576 [('Includes “William Burroughs Writing,” a full-page illustration by S. Clay Wilson.', '\\uf0d8')]\n",
      "C579 [('Jacket: “River City Reunion.”', '\\uf0d8')]\n",
      "C584 [('Includes article on Burroughs, Bukowski, et al., by Ian Penman.', '\\uf0d8')]\n",
      "C602 [('Issue title: “SF”', '\\uf0d8')]\n",
      "C610 [('Jacket portrait of Burroughs by R. Crumb.', '\\uf0d8')]\n",
      "C612 [('Jacket: “Tenth Anniversary Issue: Part 1.” Jacket reproduces Burroughs painting, “10 Gauge City.” ', '\\uf0d8')]\n",
      "C641 [('Includes “Special William Burroughs Supplement.”', '\\uf0d8')]\n",
      "C662 [('Issue title: “William Burroughs & The Flicker Machine.”', '\\uf0d8')]\n"
     ]
    }
   ],
   "source": [
    "for record in process_text(filename):\n",
    "    m = re.findall('[\\)\\]]\\. ([^\\uf0d8\\uf0b7\\uf0a7]+).+([\\uf0d8\\uf0b7\\uf0a7])\\s+[\\uf0d8\\uf0b7\\uf0a7]', record['text'])\n",
    "    #m = re.findall('\\} ([^\\uf0d8\\uf0b7\\uf0a7]+) ([\\uf0d8\\uf0b7\\uf0a7])\\s+[\\uf0d8\\uf0b7\\uf0a7]', record['text'])\n",
    "    if m:\n",
    "        print(record['id'], m)"
   ]
  },
  {
   "cell_type": "code",
   "execution_count": null,
   "metadata": {},
   "outputs": [],
   "source": []
  },
  {
   "cell_type": "code",
   "execution_count": 212,
   "metadata": {},
   "outputs": [],
   "source": [
    "records = process_text(filename)"
   ]
  },
  {
   "cell_type": "code",
   "execution_count": 261,
   "metadata": {},
   "outputs": [],
   "source": [
    "r = records[111]"
   ]
  },
  {
   "cell_type": "code",
   "execution_count": 262,
   "metadata": {},
   "outputs": [
    {
     "data": {
      "text/plain": [
       "'The Moving Times, [No. 5 (1965)]. {M&M C109} \\uf0d8 Entire issue “presented as a single-sided poster sheet.” [M&M] \\uf0d8 \\uf0d8 “... a variant of the full-size poster designed for display on the advertising walls of London’s underground Issued, folded in eighths, as Sigma Portfolio [No. 1] (1965), below. stations.” [BeatBooks 42] \\uf0b7 “Martin’s Folly.”'"
      ]
     },
     "execution_count": 262,
     "metadata": {},
     "output_type": "execute_result"
    }
   ],
   "source": [
    "r['text']"
   ]
  },
  {
   "cell_type": "code",
   "execution_count": 150,
   "metadata": {},
   "outputs": [],
   "source": [
    "str = '\\ncover: “An Odour-Fill [sic] Periodical.” \\n\\uf0d8 \\n\\uf0d8'"
   ]
  },
  {
   "cell_type": "code",
   "execution_count": 176,
   "metadata": {},
   "outputs": [],
   "source": [
    "p = re.compile('\\s')"
   ]
  },
  {
   "cell_type": "code",
   "execution_count": 177,
   "metadata": {},
   "outputs": [],
   "source": [
    "p.match(r['text'])"
   ]
  },
  {
   "cell_type": "code",
   "execution_count": null,
   "metadata": {},
   "outputs": [],
   "source": []
  },
  {
   "cell_type": "code",
   "execution_count": null,
   "metadata": {},
   "outputs": [],
   "source": []
  }
 ],
 "metadata": {
  "kernelspec": {
   "display_name": "Python 3",
   "language": "python",
   "name": "python3"
  },
  "language_info": {
   "codemirror_mode": {
    "name": "ipython",
    "version": 3
   },
   "file_extension": ".py",
   "mimetype": "text/x-python",
   "name": "python",
   "nbconvert_exporter": "python",
   "pygments_lexer": "ipython3",
   "version": "3.7.2"
  }
 },
 "nbformat": 4,
 "nbformat_minor": 2
}
