{
 "cells": [
  {
   "cell_type": "markdown",
   "metadata": {},
   "source": [
    "## Load packages and set pandas option"
   ]
  },
  {
   "cell_type": "code",
   "execution_count": 1,
   "metadata": {},
   "outputs": [],
   "source": [
    "import numpy as np, pandas as pd, rdflib, re\n",
    "from rdflib.namespace import RDF, RDFS\n",
    "from rdflib import URIRef, BNode, Literal"
   ]
  },
  {
   "cell_type": "markdown",
   "metadata": {},
   "source": [
    "## Initialize namespaces"
   ]
  },
  {
   "cell_type": "code",
   "execution_count": 2,
   "metadata": {},
   "outputs": [],
   "source": [
    "abrc = rdflib.Namespace(\"https://wsburroughs.link/anything-but-routine/4.0/classification/\")\n",
    "abri = rdflib.Namespace(\"https://wsburroughs.link/anything-but-routine/4.0/instance/\")\n",
    "abrw = rdflib.Namespace(\"https://wsburroughs.link/anything-but-routine/4.0/work/\")\n",
    "bf = rdflib.Namespace(\"http://id.loc.gov/ontologies/bibframe/\")\n",
    "arm = rdflib.Namespace(\"https://w3id.org/arm/core/ontology/0.1/\")"
   ]
  },
  {
   "cell_type": "markdown",
   "metadata": {},
   "source": [
    "## Define function to initialize graphs"
   ]
  },
  {
   "cell_type": "code",
   "execution_count": 3,
   "metadata": {},
   "outputs": [],
   "source": [
    "def initialize_abr_graph():\n",
    "    g = rdflib.Graph()\n",
    "    g.bind(\"abrc\", \"https://wsburroughs.link/anything-but-routine/4.0/classification/\")\n",
    "    g.bind(\"abri\", \"https://wsburroughs.link/anything-but-routine/4.0/instance/\")\n",
    "    g.bind(\"abrw\", \"https://wsburroughs.link/anything-but-routine/4.0/work/\")\n",
    "    g.bind(\"bf\", \"http://id.loc.gov/ontologies/bibframe/\")\n",
    "    g.bind(\"arm\", \"https://w3id.org/arm/core/ontology/0.1/\")\n",
    "    return g"
   ]
  },
  {
   "cell_type": "markdown",
   "metadata": {},
   "source": [
    "## Define function to extract instance text into dictionary"
   ]
  },
  {
   "cell_type": "code",
   "execution_count": 4,
   "metadata": {},
   "outputs": [],
   "source": [
    "def process_text(filename):\n",
    "    file = open(filename,'r')\n",
    "    text = file.read()\n",
    "    ids = [ match.group(1) for match in re.finditer('\\n(C\\d+)\\..*\\n', text) ]\n",
    "    text2 = re.sub(r'\\d\\s\\d\\s\\d\\s\\d', '', text)\n",
    "    text3 = re.sub(r'\\s(\\d{2,3})\\n\\n', '', text2)\n",
    "    descriptions = re.split(r'\\s*C\\d+\\.\\s+', text3)[1:]\n",
    "    records = []\n",
    "    for id, desc in zip(ids, descriptions):\n",
    "        txt = re.sub('\\n+', '\\n', desc)\n",
    "        txt = re.sub(r' +', ' ', txt)\n",
    "        txt = re.sub('\\uf02d', '-', txt)\n",
    "        records.append({ 'id': id, 'text': txt })\n",
    "    return records"
   ]
  },
  {
   "cell_type": "markdown",
   "metadata": {},
   "source": [
    "## Define function to generate Turtle files from instance records"
   ]
  },
  {
   "cell_type": "code",
   "execution_count": 5,
   "metadata": {},
   "outputs": [],
   "source": [
    "def process_record(i):\n",
    "    g = initialize_abr_graph()\n",
    "    name = i['id']\n",
    "    id = abri[name]\n",
    "    break_idx = re.search(r'[\\uf0d8\\uf0b7\\uf0a7]', i['text']).start()\n",
    "    label = re.sub('\\n', ' ', i['text'][:break_idx]).strip()\n",
    "    desc = re.sub('\\n', ' ', i['text'][break_idx:]).strip()\n",
    "    desc = re.sub(' \\uf0d8', '\\n\\uf0d8', desc)\n",
    "    desc = re.sub(' \\uf0b7', '\\n\\uf0b7', desc)\n",
    "    desc = re.sub(' \\uf0a7', '\\n\\uf0b7', desc)\n",
    "    m = re.match('(.+) [\\[\\(](.*)[\\]\\)]', label)\n",
    "    title_str = m.group(1)\n",
    "    date_str = m.group(2)\n",
    "    g.add((id, RDF.type, bf.Instance))\n",
    "    g.add((id, RDFS.label, Literal(title_str)))\n",
    "    # bf:classification\n",
    "    g.add((id, bf.classification, abrc['C']))\n",
    "    # bf.contributor\n",
    "    wsb = BNode()\n",
    "    g.add((id, bf.contributor, wsb))\n",
    "    g.add((wsb, RDF.type, bf.Agent))\n",
    "    g.add((wsb, RDF.type, bf.Person))\n",
    "    g.add((wsb, bf.role, Literal(\"author\")))\n",
    "    g.add((wsb, RDFS.label, Literal(\"William S. Burroughs\")))\n",
    "    # bf:title\n",
    "    title = BNode()\n",
    "    g.add((id, bf.title, title))\n",
    "    g.add((title, RDF.type, bf.Title))\n",
    "    g.add((title, RDFS.label, Literal(title_str)))\n",
    "    # bf:identifiedBy\n",
    "    schottlaender_id = BNode()\n",
    "    g.add((id, bf.identifiedBy, schottlaender_id))\n",
    "    g.add((schottlaender_id, RDF.type, bf.Identifier))\n",
    "    g.add((schottlaender_id, bf.source, Literal(\"Schottlaender v4.0\")))\n",
    "    g.add((schottlaender_id, RDF.value, Literal(name)))\n",
    "    m_n_m = re.match('.*\\{M\\&M (.+)\\}', label)\n",
    "    if m_n_m:\n",
    "        m_n_m_id = BNode()\n",
    "        g.add((id, bf.identifiedBy, m_n_m_id))\n",
    "        g.add((m_n_m_id, RDF.type, bf.Identifier))\n",
    "        g.add((m_n_m_id, bf.source, Literal(\"Maynard & Miles\")))\n",
    "        g.add((m_n_m_id, RDF.value, Literal(m_n_m.group(1))))\n",
    "    # bf:provisionActivity\n",
    "    if date_str:\n",
    "        pa_lit = BNode()\n",
    "        g.add((id, bf.provisionActivity, pa_lit))\n",
    "        g.add((pa_lit, RDF.type, bf.ProvisionActivity))\n",
    "        g.add((pa_lit, RDF.type, bf.Publication))\n",
    "        g.add((pa_lit, bf.date, Literal(date_str)))\n",
    "    # bf:note\n",
    "    state = 0\n",
    "    for bullet in desc.split('\\n'):\n",
    "        if bullet.startswith('\\uf0d8'):\n",
    "            n = BNode()\n",
    "            g.add((n, RDF.type, bf.Note))\n",
    "            g.add((n, RDF.value, Literal(bullet[1:].strip())))\n",
    "            if state == 0:\n",
    "                # Periodical issue note\n",
    "                g.add((id, bf.note, n))\n",
    "            else:\n",
    "                # Article note\n",
    "                g.add((a, bf.note, n))\n",
    "        elif bullet.startswith('\\uf0b7'):\n",
    "            a = BNode()\n",
    "            g.add((id, RDF.type, bf.Instance))\n",
    "            g.add((a, RDF.type, bf.Text))\n",
    "            g.add((a, RDFS.label, Literal(bullet[1:].strip())))\n",
    "            g.add((id, bf.hasPart, a))\n",
    "            state = 1\n",
    "        else:\n",
    "            pass\n",
    "    g.serialize(f\"ttl/instance/{name}.ttl\", format='turtle')\n",
    "    return id"
   ]
  },
  {
   "cell_type": "markdown",
   "metadata": {},
   "source": [
    "## Process text file into Turtle files"
   ]
  },
  {
   "cell_type": "code",
   "execution_count": 6,
   "metadata": {},
   "outputs": [],
   "source": [
    "filename = 'pdf/C.txt'\n",
    "for record in process_text(filename):\n",
    "    s = process_record(record)"
   ]
  },
  {
   "cell_type": "code",
   "execution_count": 8,
   "metadata": {},
   "outputs": [
    {
     "name": "stdout",
     "output_type": "stream",
     "text": [
      "C56\n",
      "C57\n",
      "C65\n",
      "C97\n",
      "C109\n",
      "C111\n",
      "C118\n",
      "C128\n",
      "C130\n",
      "C162\n",
      "C291\n",
      "C325\n",
      "C348\n",
      "C451\n",
      "C456\n",
      "C458\n",
      "C505\n",
      "C507\n",
      "C508\n",
      "C515\n",
      "C521\n",
      "C524\n",
      "C525\n",
      "C528\n",
      "C532\n",
      "C536\n",
      "C542\n",
      "C545\n",
      "C548\n",
      "C553\n",
      "C572\n",
      "C576\n",
      "C578\n",
      "C579\n",
      "C584\n",
      "C602\n",
      "C610\n",
      "C612\n",
      "C641\n",
      "C662\n"
     ]
    }
   ],
   "source": [
    "for record in process_text(filename):\n",
    "    m = re.findall('[\\uf0d8\\uf0b7\\uf0a7]\\s+[\\uf0d8\\uf0b7\\uf0a7]', record['text'])\n",
    "    if m:\n",
    "        print(record['id'])"
   ]
  }
 ],
 "metadata": {
  "kernelspec": {
   "display_name": "Python 3",
   "language": "python",
   "name": "python3"
  },
  "language_info": {
   "codemirror_mode": {
    "name": "ipython",
    "version": 3
   },
   "file_extension": ".py",
   "mimetype": "text/x-python",
   "name": "python",
   "nbconvert_exporter": "python",
   "pygments_lexer": "ipython3",
   "version": "3.7.2"
  }
 },
 "nbformat": 4,
 "nbformat_minor": 2
}
